{
  "nbformat": 4,
  "nbformat_minor": 0,
  "metadata": {
    "colab": {
      "provenance": [],
      "authorship_tag": "ABX9TyMCSU02OUckVF2JdApkz1W2",
      "include_colab_link": true
    },
    "kernelspec": {
      "name": "python3",
      "display_name": "Python 3"
    },
    "language_info": {
      "name": "python"
    }
  },
  "cells": [
    {
      "cell_type": "markdown",
      "metadata": {
        "id": "view-in-github",
        "colab_type": "text"
      },
      "source": [
        "<a href=\"https://colab.research.google.com/github/paulopetrillo/PROJETO_IFMA_SOFTEX/blob/main/Multinomial_Logistic_Regression.ipynb\" target=\"_parent\"><img src=\"https://colab.research.google.com/assets/colab-badge.svg\" alt=\"Open In Colab\"/></a>"
      ]
    },
    {
      "cell_type": "code",
      "execution_count": 1,
      "metadata": {
        "colab": {
          "base_uri": "https://localhost:8080/"
        },
        "id": "i-iqbbosze9W",
        "outputId": "0498654a-094f-4f46-f8e8-bc0d7c1c4f7f"
      },
      "outputs": [
        {
          "output_type": "stream",
          "name": "stdout",
          "text": [
            "1.25.2\n"
          ]
        }
      ],
      "source": [
        "# importa a biblioteca numpy\n",
        "import numpy as np\n",
        "print(np.__version__)"
      ]
    },
    {
      "cell_type": "code",
      "source": [
        "# importa biblioteca Pandas.\n",
        "import pandas as pd\n",
        "print(pd.__version__)"
      ],
      "metadata": {
        "colab": {
          "base_uri": "https://localhost:8080/"
        },
        "id": "L8rjCP9Gz0u7",
        "outputId": "3826a61f-525e-4013-9280-4f6bb4c12aa2"
      },
      "execution_count": 2,
      "outputs": [
        {
          "output_type": "stream",
          "name": "stdout",
          "text": [
            "1.5.3\n"
          ]
        }
      ]
    },
    {
      "cell_type": "code",
      "source": [
        "from google.colab import drive\n",
        "drive.mount('/content/drive')"
      ],
      "metadata": {
        "id": "zVNtVSkZz3VR",
        "outputId": "d67feef0-e565-4b8b-fad6-d1c605df0185",
        "colab": {
          "base_uri": "https://localhost:8080/"
        }
      },
      "execution_count": 3,
      "outputs": [
        {
          "output_type": "stream",
          "name": "stdout",
          "text": [
            "Mounted at /content/drive\n"
          ]
        }
      ]
    },
    {
      "cell_type": "code",
      "source": [
        "# pacotes para regressão logistica\n",
        "from sklearn.linear_model import LogisticRegression\n",
        "from sklearn.model_selection import train_test_split\n",
        "from sklearn.metrics import accuracy_score, classification_report"
      ],
      "metadata": {
        "id": "lAmBOPPWz8p5"
      },
      "execution_count": 4,
      "outputs": []
    },
    {
      "cell_type": "code",
      "source": [
        "# # Grava datDataFrame_Geral em Googe drive\n",
        "# #drive.mount('/content/drive')\n",
        "# DataFrame_Geral.to_csv('./drive/MyDrive/DataFrame_Geral.csv')\n",
        "# DataFrame_Geral= pd.read_csv(\"./drive/MyDrive/Colab Notebooks/DataFrame_Geral.csv\", header=0, sep=\",\")\n",
        "DataFrame_Geral = pd.read_csv(\"./drive/MyDrive/DataFrame_Geral.csv\", header=0, sep=\",\")\n",
        "DataFrame_Geral"
      ],
      "metadata": {
        "colab": {
          "base_uri": "https://localhost:8080/",
          "height": 476
        },
        "id": "AnSVoK1L0QAb",
        "outputId": "8eb89911-c3f8-47f2-ea7e-99c2a3c13c79"
      },
      "execution_count": 5,
      "outputs": [
        {
          "output_type": "execute_result",
          "data": {
            "text/plain": [
              "      Unnamed: 0                  mandante  golsMand  golsVist  \\\n",
              "0            116                  Atlético         4         3   \n",
              "1            117                  Atlético         2         0   \n",
              "2            123                     Sport         0         0   \n",
              "3            130                 Palmeiras         0         1   \n",
              "4            131                  Atlético         1         2   \n",
              "...          ...                       ...       ...       ...   \n",
              "2535         375            Fortaleza - CE         2         1   \n",
              "2536         376                Sport - PE         1         1   \n",
              "2537         377  Red Bull Bragantino - SP         1         0   \n",
              "2538         378            Juventude - RS         1         0   \n",
              "2539         379             Atlético - GO         2         0   \n",
              "\n",
              "                       vistante  poder_ataque_time_mandante  \\\n",
              "0                     São Paulo                           9   \n",
              "1                        Santos                          12   \n",
              "2                      Atlético                           6   \n",
              "3                 Internacional                           8   \n",
              "4                      Botafogo                          14   \n",
              "...                         ...                         ...   \n",
              "2535                 Bahia - BA                           6   \n",
              "2536  Athletico Paranaense - PR                           6   \n",
              "2537         Internacional - RS                           8   \n",
              "2538           Corinthians - SP                           4   \n",
              "2539              Flamengo - RJ                           6   \n",
              "\n",
              "      poder_ataque_time_visitante  poder_defesa_time_mandante  \\\n",
              "0                               6                           8   \n",
              "1                               0                           7   \n",
              "2                              11                           9   \n",
              "3                               5                           5   \n",
              "4                               7                           6   \n",
              "...                           ...                         ...   \n",
              "2535                            1                           5   \n",
              "2536                            3                           4   \n",
              "2537                            1                           3   \n",
              "2538                            3                           1   \n",
              "2539                           10                           3   \n",
              "\n",
              "      poder_defesa_time_visitante  classe_resultado  \n",
              "0                               5                 1  \n",
              "1                               4                 1  \n",
              "2                              12                 0  \n",
              "3                               4                 2  \n",
              "4                               6                 2  \n",
              "...                           ...               ...  \n",
              "2535                            6                 1  \n",
              "2536                            6                 0  \n",
              "2537                            6                 1  \n",
              "2538                            9                 1  \n",
              "2539                            7                 1  \n",
              "\n",
              "[2540 rows x 10 columns]"
            ],
            "text/html": [
              "\n",
              "  <div id=\"df-a4101ec1-6b8b-48e1-8e28-7e155e56ae22\" class=\"colab-df-container\">\n",
              "    <div>\n",
              "<style scoped>\n",
              "    .dataframe tbody tr th:only-of-type {\n",
              "        vertical-align: middle;\n",
              "    }\n",
              "\n",
              "    .dataframe tbody tr th {\n",
              "        vertical-align: top;\n",
              "    }\n",
              "\n",
              "    .dataframe thead th {\n",
              "        text-align: right;\n",
              "    }\n",
              "</style>\n",
              "<table border=\"1\" class=\"dataframe\">\n",
              "  <thead>\n",
              "    <tr style=\"text-align: right;\">\n",
              "      <th></th>\n",
              "      <th>Unnamed: 0</th>\n",
              "      <th>mandante</th>\n",
              "      <th>golsMand</th>\n",
              "      <th>golsVist</th>\n",
              "      <th>vistante</th>\n",
              "      <th>poder_ataque_time_mandante</th>\n",
              "      <th>poder_ataque_time_visitante</th>\n",
              "      <th>poder_defesa_time_mandante</th>\n",
              "      <th>poder_defesa_time_visitante</th>\n",
              "      <th>classe_resultado</th>\n",
              "    </tr>\n",
              "  </thead>\n",
              "  <tbody>\n",
              "    <tr>\n",
              "      <th>0</th>\n",
              "      <td>116</td>\n",
              "      <td>Atlético</td>\n",
              "      <td>4</td>\n",
              "      <td>3</td>\n",
              "      <td>São Paulo</td>\n",
              "      <td>9</td>\n",
              "      <td>6</td>\n",
              "      <td>8</td>\n",
              "      <td>5</td>\n",
              "      <td>1</td>\n",
              "    </tr>\n",
              "    <tr>\n",
              "      <th>1</th>\n",
              "      <td>117</td>\n",
              "      <td>Atlético</td>\n",
              "      <td>2</td>\n",
              "      <td>0</td>\n",
              "      <td>Santos</td>\n",
              "      <td>12</td>\n",
              "      <td>0</td>\n",
              "      <td>7</td>\n",
              "      <td>4</td>\n",
              "      <td>1</td>\n",
              "    </tr>\n",
              "    <tr>\n",
              "      <th>2</th>\n",
              "      <td>123</td>\n",
              "      <td>Sport</td>\n",
              "      <td>0</td>\n",
              "      <td>0</td>\n",
              "      <td>Atlético</td>\n",
              "      <td>6</td>\n",
              "      <td>11</td>\n",
              "      <td>9</td>\n",
              "      <td>12</td>\n",
              "      <td>0</td>\n",
              "    </tr>\n",
              "    <tr>\n",
              "      <th>3</th>\n",
              "      <td>130</td>\n",
              "      <td>Palmeiras</td>\n",
              "      <td>0</td>\n",
              "      <td>1</td>\n",
              "      <td>Internacional</td>\n",
              "      <td>8</td>\n",
              "      <td>5</td>\n",
              "      <td>5</td>\n",
              "      <td>4</td>\n",
              "      <td>2</td>\n",
              "    </tr>\n",
              "    <tr>\n",
              "      <th>4</th>\n",
              "      <td>131</td>\n",
              "      <td>Atlético</td>\n",
              "      <td>1</td>\n",
              "      <td>2</td>\n",
              "      <td>Botafogo</td>\n",
              "      <td>14</td>\n",
              "      <td>7</td>\n",
              "      <td>6</td>\n",
              "      <td>6</td>\n",
              "      <td>2</td>\n",
              "    </tr>\n",
              "    <tr>\n",
              "      <th>...</th>\n",
              "      <td>...</td>\n",
              "      <td>...</td>\n",
              "      <td>...</td>\n",
              "      <td>...</td>\n",
              "      <td>...</td>\n",
              "      <td>...</td>\n",
              "      <td>...</td>\n",
              "      <td>...</td>\n",
              "      <td>...</td>\n",
              "      <td>...</td>\n",
              "    </tr>\n",
              "    <tr>\n",
              "      <th>2535</th>\n",
              "      <td>375</td>\n",
              "      <td>Fortaleza - CE</td>\n",
              "      <td>2</td>\n",
              "      <td>1</td>\n",
              "      <td>Bahia - BA</td>\n",
              "      <td>6</td>\n",
              "      <td>1</td>\n",
              "      <td>5</td>\n",
              "      <td>6</td>\n",
              "      <td>1</td>\n",
              "    </tr>\n",
              "    <tr>\n",
              "      <th>2536</th>\n",
              "      <td>376</td>\n",
              "      <td>Sport - PE</td>\n",
              "      <td>1</td>\n",
              "      <td>1</td>\n",
              "      <td>Athletico Paranaense - PR</td>\n",
              "      <td>6</td>\n",
              "      <td>3</td>\n",
              "      <td>4</td>\n",
              "      <td>6</td>\n",
              "      <td>0</td>\n",
              "    </tr>\n",
              "    <tr>\n",
              "      <th>2537</th>\n",
              "      <td>377</td>\n",
              "      <td>Red Bull Bragantino - SP</td>\n",
              "      <td>1</td>\n",
              "      <td>0</td>\n",
              "      <td>Internacional - RS</td>\n",
              "      <td>8</td>\n",
              "      <td>1</td>\n",
              "      <td>3</td>\n",
              "      <td>6</td>\n",
              "      <td>1</td>\n",
              "    </tr>\n",
              "    <tr>\n",
              "      <th>2538</th>\n",
              "      <td>378</td>\n",
              "      <td>Juventude - RS</td>\n",
              "      <td>1</td>\n",
              "      <td>0</td>\n",
              "      <td>Corinthians - SP</td>\n",
              "      <td>4</td>\n",
              "      <td>3</td>\n",
              "      <td>1</td>\n",
              "      <td>9</td>\n",
              "      <td>1</td>\n",
              "    </tr>\n",
              "    <tr>\n",
              "      <th>2539</th>\n",
              "      <td>379</td>\n",
              "      <td>Atlético - GO</td>\n",
              "      <td>2</td>\n",
              "      <td>0</td>\n",
              "      <td>Flamengo - RJ</td>\n",
              "      <td>6</td>\n",
              "      <td>10</td>\n",
              "      <td>3</td>\n",
              "      <td>7</td>\n",
              "      <td>1</td>\n",
              "    </tr>\n",
              "  </tbody>\n",
              "</table>\n",
              "<p>2540 rows × 10 columns</p>\n",
              "</div>\n",
              "    <div class=\"colab-df-buttons\">\n",
              "\n",
              "  <div class=\"colab-df-container\">\n",
              "    <button class=\"colab-df-convert\" onclick=\"convertToInteractive('df-a4101ec1-6b8b-48e1-8e28-7e155e56ae22')\"\n",
              "            title=\"Convert this dataframe to an interactive table.\"\n",
              "            style=\"display:none;\">\n",
              "\n",
              "  <svg xmlns=\"http://www.w3.org/2000/svg\" height=\"24px\" viewBox=\"0 -960 960 960\">\n",
              "    <path d=\"M120-120v-720h720v720H120Zm60-500h600v-160H180v160Zm220 220h160v-160H400v160Zm0 220h160v-160H400v160ZM180-400h160v-160H180v160Zm440 0h160v-160H620v160ZM180-180h160v-160H180v160Zm440 0h160v-160H620v160Z\"/>\n",
              "  </svg>\n",
              "    </button>\n",
              "\n",
              "  <style>\n",
              "    .colab-df-container {\n",
              "      display:flex;\n",
              "      gap: 12px;\n",
              "    }\n",
              "\n",
              "    .colab-df-convert {\n",
              "      background-color: #E8F0FE;\n",
              "      border: none;\n",
              "      border-radius: 50%;\n",
              "      cursor: pointer;\n",
              "      display: none;\n",
              "      fill: #1967D2;\n",
              "      height: 32px;\n",
              "      padding: 0 0 0 0;\n",
              "      width: 32px;\n",
              "    }\n",
              "\n",
              "    .colab-df-convert:hover {\n",
              "      background-color: #E2EBFA;\n",
              "      box-shadow: 0px 1px 2px rgba(60, 64, 67, 0.3), 0px 1px 3px 1px rgba(60, 64, 67, 0.15);\n",
              "      fill: #174EA6;\n",
              "    }\n",
              "\n",
              "    .colab-df-buttons div {\n",
              "      margin-bottom: 4px;\n",
              "    }\n",
              "\n",
              "    [theme=dark] .colab-df-convert {\n",
              "      background-color: #3B4455;\n",
              "      fill: #D2E3FC;\n",
              "    }\n",
              "\n",
              "    [theme=dark] .colab-df-convert:hover {\n",
              "      background-color: #434B5C;\n",
              "      box-shadow: 0px 1px 3px 1px rgba(0, 0, 0, 0.15);\n",
              "      filter: drop-shadow(0px 1px 2px rgba(0, 0, 0, 0.3));\n",
              "      fill: #FFFFFF;\n",
              "    }\n",
              "  </style>\n",
              "\n",
              "    <script>\n",
              "      const buttonEl =\n",
              "        document.querySelector('#df-a4101ec1-6b8b-48e1-8e28-7e155e56ae22 button.colab-df-convert');\n",
              "      buttonEl.style.display =\n",
              "        google.colab.kernel.accessAllowed ? 'block' : 'none';\n",
              "\n",
              "      async function convertToInteractive(key) {\n",
              "        const element = document.querySelector('#df-a4101ec1-6b8b-48e1-8e28-7e155e56ae22');\n",
              "        const dataTable =\n",
              "          await google.colab.kernel.invokeFunction('convertToInteractive',\n",
              "                                                    [key], {});\n",
              "        if (!dataTable) return;\n",
              "\n",
              "        const docLinkHtml = 'Like what you see? Visit the ' +\n",
              "          '<a target=\"_blank\" href=https://colab.research.google.com/notebooks/data_table.ipynb>data table notebook</a>'\n",
              "          + ' to learn more about interactive tables.';\n",
              "        element.innerHTML = '';\n",
              "        dataTable['output_type'] = 'display_data';\n",
              "        await google.colab.output.renderOutput(dataTable, element);\n",
              "        const docLink = document.createElement('div');\n",
              "        docLink.innerHTML = docLinkHtml;\n",
              "        element.appendChild(docLink);\n",
              "      }\n",
              "    </script>\n",
              "  </div>\n",
              "\n",
              "\n",
              "<div id=\"df-668696b0-6fee-4432-8751-f2edab6f926c\">\n",
              "  <button class=\"colab-df-quickchart\" onclick=\"quickchart('df-668696b0-6fee-4432-8751-f2edab6f926c')\"\n",
              "            title=\"Suggest charts\"\n",
              "            style=\"display:none;\">\n",
              "\n",
              "<svg xmlns=\"http://www.w3.org/2000/svg\" height=\"24px\"viewBox=\"0 0 24 24\"\n",
              "     width=\"24px\">\n",
              "    <g>\n",
              "        <path d=\"M19 3H5c-1.1 0-2 .9-2 2v14c0 1.1.9 2 2 2h14c1.1 0 2-.9 2-2V5c0-1.1-.9-2-2-2zM9 17H7v-7h2v7zm4 0h-2V7h2v10zm4 0h-2v-4h2v4z\"/>\n",
              "    </g>\n",
              "</svg>\n",
              "  </button>\n",
              "\n",
              "<style>\n",
              "  .colab-df-quickchart {\n",
              "      --bg-color: #E8F0FE;\n",
              "      --fill-color: #1967D2;\n",
              "      --hover-bg-color: #E2EBFA;\n",
              "      --hover-fill-color: #174EA6;\n",
              "      --disabled-fill-color: #AAA;\n",
              "      --disabled-bg-color: #DDD;\n",
              "  }\n",
              "\n",
              "  [theme=dark] .colab-df-quickchart {\n",
              "      --bg-color: #3B4455;\n",
              "      --fill-color: #D2E3FC;\n",
              "      --hover-bg-color: #434B5C;\n",
              "      --hover-fill-color: #FFFFFF;\n",
              "      --disabled-bg-color: #3B4455;\n",
              "      --disabled-fill-color: #666;\n",
              "  }\n",
              "\n",
              "  .colab-df-quickchart {\n",
              "    background-color: var(--bg-color);\n",
              "    border: none;\n",
              "    border-radius: 50%;\n",
              "    cursor: pointer;\n",
              "    display: none;\n",
              "    fill: var(--fill-color);\n",
              "    height: 32px;\n",
              "    padding: 0;\n",
              "    width: 32px;\n",
              "  }\n",
              "\n",
              "  .colab-df-quickchart:hover {\n",
              "    background-color: var(--hover-bg-color);\n",
              "    box-shadow: 0 1px 2px rgba(60, 64, 67, 0.3), 0 1px 3px 1px rgba(60, 64, 67, 0.15);\n",
              "    fill: var(--button-hover-fill-color);\n",
              "  }\n",
              "\n",
              "  .colab-df-quickchart-complete:disabled,\n",
              "  .colab-df-quickchart-complete:disabled:hover {\n",
              "    background-color: var(--disabled-bg-color);\n",
              "    fill: var(--disabled-fill-color);\n",
              "    box-shadow: none;\n",
              "  }\n",
              "\n",
              "  .colab-df-spinner {\n",
              "    border: 2px solid var(--fill-color);\n",
              "    border-color: transparent;\n",
              "    border-bottom-color: var(--fill-color);\n",
              "    animation:\n",
              "      spin 1s steps(1) infinite;\n",
              "  }\n",
              "\n",
              "  @keyframes spin {\n",
              "    0% {\n",
              "      border-color: transparent;\n",
              "      border-bottom-color: var(--fill-color);\n",
              "      border-left-color: var(--fill-color);\n",
              "    }\n",
              "    20% {\n",
              "      border-color: transparent;\n",
              "      border-left-color: var(--fill-color);\n",
              "      border-top-color: var(--fill-color);\n",
              "    }\n",
              "    30% {\n",
              "      border-color: transparent;\n",
              "      border-left-color: var(--fill-color);\n",
              "      border-top-color: var(--fill-color);\n",
              "      border-right-color: var(--fill-color);\n",
              "    }\n",
              "    40% {\n",
              "      border-color: transparent;\n",
              "      border-right-color: var(--fill-color);\n",
              "      border-top-color: var(--fill-color);\n",
              "    }\n",
              "    60% {\n",
              "      border-color: transparent;\n",
              "      border-right-color: var(--fill-color);\n",
              "    }\n",
              "    80% {\n",
              "      border-color: transparent;\n",
              "      border-right-color: var(--fill-color);\n",
              "      border-bottom-color: var(--fill-color);\n",
              "    }\n",
              "    90% {\n",
              "      border-color: transparent;\n",
              "      border-bottom-color: var(--fill-color);\n",
              "    }\n",
              "  }\n",
              "</style>\n",
              "\n",
              "  <script>\n",
              "    async function quickchart(key) {\n",
              "      const quickchartButtonEl =\n",
              "        document.querySelector('#' + key + ' button');\n",
              "      quickchartButtonEl.disabled = true;  // To prevent multiple clicks.\n",
              "      quickchartButtonEl.classList.add('colab-df-spinner');\n",
              "      try {\n",
              "        const charts = await google.colab.kernel.invokeFunction(\n",
              "            'suggestCharts', [key], {});\n",
              "      } catch (error) {\n",
              "        console.error('Error during call to suggestCharts:', error);\n",
              "      }\n",
              "      quickchartButtonEl.classList.remove('colab-df-spinner');\n",
              "      quickchartButtonEl.classList.add('colab-df-quickchart-complete');\n",
              "    }\n",
              "    (() => {\n",
              "      let quickchartButtonEl =\n",
              "        document.querySelector('#df-668696b0-6fee-4432-8751-f2edab6f926c button');\n",
              "      quickchartButtonEl.style.display =\n",
              "        google.colab.kernel.accessAllowed ? 'block' : 'none';\n",
              "    })();\n",
              "  </script>\n",
              "</div>\n",
              "\n",
              "  <div id=\"id_fb974bb3-4cf2-42d5-89c7-72fecb548ef9\">\n",
              "    <style>\n",
              "      .colab-df-generate {\n",
              "        background-color: #E8F0FE;\n",
              "        border: none;\n",
              "        border-radius: 50%;\n",
              "        cursor: pointer;\n",
              "        display: none;\n",
              "        fill: #1967D2;\n",
              "        height: 32px;\n",
              "        padding: 0 0 0 0;\n",
              "        width: 32px;\n",
              "      }\n",
              "\n",
              "      .colab-df-generate:hover {\n",
              "        background-color: #E2EBFA;\n",
              "        box-shadow: 0px 1px 2px rgba(60, 64, 67, 0.3), 0px 1px 3px 1px rgba(60, 64, 67, 0.15);\n",
              "        fill: #174EA6;\n",
              "      }\n",
              "\n",
              "      [theme=dark] .colab-df-generate {\n",
              "        background-color: #3B4455;\n",
              "        fill: #D2E3FC;\n",
              "      }\n",
              "\n",
              "      [theme=dark] .colab-df-generate:hover {\n",
              "        background-color: #434B5C;\n",
              "        box-shadow: 0px 1px 3px 1px rgba(0, 0, 0, 0.15);\n",
              "        filter: drop-shadow(0px 1px 2px rgba(0, 0, 0, 0.3));\n",
              "        fill: #FFFFFF;\n",
              "      }\n",
              "    </style>\n",
              "    <button class=\"colab-df-generate\" onclick=\"generateWithVariable('DataFrame_Geral')\"\n",
              "            title=\"Generate code using this dataframe.\"\n",
              "            style=\"display:none;\">\n",
              "\n",
              "  <svg xmlns=\"http://www.w3.org/2000/svg\" height=\"24px\"viewBox=\"0 0 24 24\"\n",
              "       width=\"24px\">\n",
              "    <path d=\"M7,19H8.4L18.45,9,17,7.55,7,17.6ZM5,21V16.75L18.45,3.32a2,2,0,0,1,2.83,0l1.4,1.43a1.91,1.91,0,0,1,.58,1.4,1.91,1.91,0,0,1-.58,1.4L9.25,21ZM18.45,9,17,7.55Zm-12,3A5.31,5.31,0,0,0,4.9,8.1,5.31,5.31,0,0,0,1,6.5,5.31,5.31,0,0,0,4.9,4.9,5.31,5.31,0,0,0,6.5,1,5.31,5.31,0,0,0,8.1,4.9,5.31,5.31,0,0,0,12,6.5,5.46,5.46,0,0,0,6.5,12Z\"/>\n",
              "  </svg>\n",
              "    </button>\n",
              "    <script>\n",
              "      (() => {\n",
              "      const buttonEl =\n",
              "        document.querySelector('#id_fb974bb3-4cf2-42d5-89c7-72fecb548ef9 button.colab-df-generate');\n",
              "      buttonEl.style.display =\n",
              "        google.colab.kernel.accessAllowed ? 'block' : 'none';\n",
              "\n",
              "      buttonEl.onclick = () => {\n",
              "        google.colab.notebook.generateWithVariable('DataFrame_Geral');\n",
              "      }\n",
              "      })();\n",
              "    </script>\n",
              "  </div>\n",
              "\n",
              "    </div>\n",
              "  </div>\n"
            ],
            "application/vnd.google.colaboratory.intrinsic+json": {
              "type": "dataframe",
              "variable_name": "DataFrame_Geral",
              "summary": "{\n  \"name\": \"DataFrame_Geral\",\n  \"rows\": 2540,\n  \"fields\": [\n    {\n      \"column\": \"Unnamed: 0\",\n      \"properties\": {\n        \"dtype\": \"number\",\n        \"std\": 73,\n        \"min\": 111,\n        \"max\": 379,\n        \"num_unique_values\": 268,\n        \"samples\": [\n          242,\n          340,\n          149\n        ],\n        \"semantic_type\": \"\",\n        \"description\": \"\"\n      }\n    },\n    {\n      \"column\": \"mandante\",\n      \"properties\": {\n        \"dtype\": \"category\",\n        \"num_unique_values\": 63,\n        \"samples\": [\n          \"Cuiab\\u00e1 - MT\",\n          \"Fortaleza - CE\",\n          \"Atl\\u00e9tico\"\n        ],\n        \"semantic_type\": \"\",\n        \"description\": \"\"\n      }\n    },\n    {\n      \"column\": \"golsMand\",\n      \"properties\": {\n        \"dtype\": \"number\",\n        \"std\": 1,\n        \"min\": 0,\n        \"max\": 6,\n        \"num_unique_values\": 7,\n        \"samples\": [\n          4,\n          2,\n          5\n        ],\n        \"semantic_type\": \"\",\n        \"description\": \"\"\n      }\n    },\n    {\n      \"column\": \"golsVist\",\n      \"properties\": {\n        \"dtype\": \"number\",\n        \"std\": 0,\n        \"min\": 0,\n        \"max\": 5,\n        \"num_unique_values\": 6,\n        \"samples\": [\n          3,\n          0,\n          5\n        ],\n        \"semantic_type\": \"\",\n        \"description\": \"\"\n      }\n    },\n    {\n      \"column\": \"vistante\",\n      \"properties\": {\n        \"dtype\": \"category\",\n        \"num_unique_values\": 63,\n        \"samples\": [\n          \"Juventude - RS\",\n          \"Csa - AL\",\n          \"S\\u00e3o Paulo\"\n        ],\n        \"semantic_type\": \"\",\n        \"description\": \"\"\n      }\n    },\n    {\n      \"column\": \"poder_ataque_time_mandante\",\n      \"properties\": {\n        \"dtype\": \"number\",\n        \"std\": 2,\n        \"min\": 0,\n        \"max\": 18,\n        \"num_unique_values\": 19,\n        \"samples\": [\n          9,\n          10,\n          3\n        ],\n        \"semantic_type\": \"\",\n        \"description\": \"\"\n      }\n    },\n    {\n      \"column\": \"poder_ataque_time_visitante\",\n      \"properties\": {\n        \"dtype\": \"number\",\n        \"std\": 2,\n        \"min\": 0,\n        \"max\": 16,\n        \"num_unique_values\": 16,\n        \"samples\": [\n          6,\n          0,\n          4\n        ],\n        \"semantic_type\": \"\",\n        \"description\": \"\"\n      }\n    },\n    {\n      \"column\": \"poder_defesa_time_mandante\",\n      \"properties\": {\n        \"dtype\": \"number\",\n        \"std\": 2,\n        \"min\": 0,\n        \"max\": 15,\n        \"num_unique_values\": 16,\n        \"samples\": [\n          8,\n          7,\n          3\n        ],\n        \"semantic_type\": \"\",\n        \"description\": \"\"\n      }\n    },\n    {\n      \"column\": \"poder_defesa_time_visitante\",\n      \"properties\": {\n        \"dtype\": \"number\",\n        \"std\": 2,\n        \"min\": 0,\n        \"max\": 20,\n        \"num_unique_values\": 19,\n        \"samples\": [\n          5,\n          3,\n          2\n        ],\n        \"semantic_type\": \"\",\n        \"description\": \"\"\n      }\n    },\n    {\n      \"column\": \"classe_resultado\",\n      \"properties\": {\n        \"dtype\": \"number\",\n        \"std\": 0,\n        \"min\": 0,\n        \"max\": 2,\n        \"num_unique_values\": 3,\n        \"samples\": [\n          1,\n          0,\n          2\n        ],\n        \"semantic_type\": \"\",\n        \"description\": \"\"\n      }\n    }\n  ]\n}"
            }
          },
          "metadata": {},
          "execution_count": 5
        }
      ]
    },
    {
      "cell_type": "code",
      "source": [
        "# visvit (dataframe visao vitoria)\n",
        "DataFrame_Geral_reglog = DataFrame_Geral.copy()\n",
        "DataFrame_Geral_reglog"
      ],
      "metadata": {
        "colab": {
          "base_uri": "https://localhost:8080/",
          "height": 476
        },
        "id": "hB21Lp_a0h3x",
        "outputId": "fc764db2-8347-4544-ebb2-7715e216ed30"
      },
      "execution_count": 6,
      "outputs": [
        {
          "output_type": "execute_result",
          "data": {
            "text/plain": [
              "      Unnamed: 0                  mandante  golsMand  golsVist  \\\n",
              "0            116                  Atlético         4         3   \n",
              "1            117                  Atlético         2         0   \n",
              "2            123                     Sport         0         0   \n",
              "3            130                 Palmeiras         0         1   \n",
              "4            131                  Atlético         1         2   \n",
              "...          ...                       ...       ...       ...   \n",
              "2535         375            Fortaleza - CE         2         1   \n",
              "2536         376                Sport - PE         1         1   \n",
              "2537         377  Red Bull Bragantino - SP         1         0   \n",
              "2538         378            Juventude - RS         1         0   \n",
              "2539         379             Atlético - GO         2         0   \n",
              "\n",
              "                       vistante  poder_ataque_time_mandante  \\\n",
              "0                     São Paulo                           9   \n",
              "1                        Santos                          12   \n",
              "2                      Atlético                           6   \n",
              "3                 Internacional                           8   \n",
              "4                      Botafogo                          14   \n",
              "...                         ...                         ...   \n",
              "2535                 Bahia - BA                           6   \n",
              "2536  Athletico Paranaense - PR                           6   \n",
              "2537         Internacional - RS                           8   \n",
              "2538           Corinthians - SP                           4   \n",
              "2539              Flamengo - RJ                           6   \n",
              "\n",
              "      poder_ataque_time_visitante  poder_defesa_time_mandante  \\\n",
              "0                               6                           8   \n",
              "1                               0                           7   \n",
              "2                              11                           9   \n",
              "3                               5                           5   \n",
              "4                               7                           6   \n",
              "...                           ...                         ...   \n",
              "2535                            1                           5   \n",
              "2536                            3                           4   \n",
              "2537                            1                           3   \n",
              "2538                            3                           1   \n",
              "2539                           10                           3   \n",
              "\n",
              "      poder_defesa_time_visitante  classe_resultado  \n",
              "0                               5                 1  \n",
              "1                               4                 1  \n",
              "2                              12                 0  \n",
              "3                               4                 2  \n",
              "4                               6                 2  \n",
              "...                           ...               ...  \n",
              "2535                            6                 1  \n",
              "2536                            6                 0  \n",
              "2537                            6                 1  \n",
              "2538                            9                 1  \n",
              "2539                            7                 1  \n",
              "\n",
              "[2540 rows x 10 columns]"
            ],
            "text/html": [
              "\n",
              "  <div id=\"df-bc594feb-1479-451c-80ea-c1e26cb6e949\" class=\"colab-df-container\">\n",
              "    <div>\n",
              "<style scoped>\n",
              "    .dataframe tbody tr th:only-of-type {\n",
              "        vertical-align: middle;\n",
              "    }\n",
              "\n",
              "    .dataframe tbody tr th {\n",
              "        vertical-align: top;\n",
              "    }\n",
              "\n",
              "    .dataframe thead th {\n",
              "        text-align: right;\n",
              "    }\n",
              "</style>\n",
              "<table border=\"1\" class=\"dataframe\">\n",
              "  <thead>\n",
              "    <tr style=\"text-align: right;\">\n",
              "      <th></th>\n",
              "      <th>Unnamed: 0</th>\n",
              "      <th>mandante</th>\n",
              "      <th>golsMand</th>\n",
              "      <th>golsVist</th>\n",
              "      <th>vistante</th>\n",
              "      <th>poder_ataque_time_mandante</th>\n",
              "      <th>poder_ataque_time_visitante</th>\n",
              "      <th>poder_defesa_time_mandante</th>\n",
              "      <th>poder_defesa_time_visitante</th>\n",
              "      <th>classe_resultado</th>\n",
              "    </tr>\n",
              "  </thead>\n",
              "  <tbody>\n",
              "    <tr>\n",
              "      <th>0</th>\n",
              "      <td>116</td>\n",
              "      <td>Atlético</td>\n",
              "      <td>4</td>\n",
              "      <td>3</td>\n",
              "      <td>São Paulo</td>\n",
              "      <td>9</td>\n",
              "      <td>6</td>\n",
              "      <td>8</td>\n",
              "      <td>5</td>\n",
              "      <td>1</td>\n",
              "    </tr>\n",
              "    <tr>\n",
              "      <th>1</th>\n",
              "      <td>117</td>\n",
              "      <td>Atlético</td>\n",
              "      <td>2</td>\n",
              "      <td>0</td>\n",
              "      <td>Santos</td>\n",
              "      <td>12</td>\n",
              "      <td>0</td>\n",
              "      <td>7</td>\n",
              "      <td>4</td>\n",
              "      <td>1</td>\n",
              "    </tr>\n",
              "    <tr>\n",
              "      <th>2</th>\n",
              "      <td>123</td>\n",
              "      <td>Sport</td>\n",
              "      <td>0</td>\n",
              "      <td>0</td>\n",
              "      <td>Atlético</td>\n",
              "      <td>6</td>\n",
              "      <td>11</td>\n",
              "      <td>9</td>\n",
              "      <td>12</td>\n",
              "      <td>0</td>\n",
              "    </tr>\n",
              "    <tr>\n",
              "      <th>3</th>\n",
              "      <td>130</td>\n",
              "      <td>Palmeiras</td>\n",
              "      <td>0</td>\n",
              "      <td>1</td>\n",
              "      <td>Internacional</td>\n",
              "      <td>8</td>\n",
              "      <td>5</td>\n",
              "      <td>5</td>\n",
              "      <td>4</td>\n",
              "      <td>2</td>\n",
              "    </tr>\n",
              "    <tr>\n",
              "      <th>4</th>\n",
              "      <td>131</td>\n",
              "      <td>Atlético</td>\n",
              "      <td>1</td>\n",
              "      <td>2</td>\n",
              "      <td>Botafogo</td>\n",
              "      <td>14</td>\n",
              "      <td>7</td>\n",
              "      <td>6</td>\n",
              "      <td>6</td>\n",
              "      <td>2</td>\n",
              "    </tr>\n",
              "    <tr>\n",
              "      <th>...</th>\n",
              "      <td>...</td>\n",
              "      <td>...</td>\n",
              "      <td>...</td>\n",
              "      <td>...</td>\n",
              "      <td>...</td>\n",
              "      <td>...</td>\n",
              "      <td>...</td>\n",
              "      <td>...</td>\n",
              "      <td>...</td>\n",
              "      <td>...</td>\n",
              "    </tr>\n",
              "    <tr>\n",
              "      <th>2535</th>\n",
              "      <td>375</td>\n",
              "      <td>Fortaleza - CE</td>\n",
              "      <td>2</td>\n",
              "      <td>1</td>\n",
              "      <td>Bahia - BA</td>\n",
              "      <td>6</td>\n",
              "      <td>1</td>\n",
              "      <td>5</td>\n",
              "      <td>6</td>\n",
              "      <td>1</td>\n",
              "    </tr>\n",
              "    <tr>\n",
              "      <th>2536</th>\n",
              "      <td>376</td>\n",
              "      <td>Sport - PE</td>\n",
              "      <td>1</td>\n",
              "      <td>1</td>\n",
              "      <td>Athletico Paranaense - PR</td>\n",
              "      <td>6</td>\n",
              "      <td>3</td>\n",
              "      <td>4</td>\n",
              "      <td>6</td>\n",
              "      <td>0</td>\n",
              "    </tr>\n",
              "    <tr>\n",
              "      <th>2537</th>\n",
              "      <td>377</td>\n",
              "      <td>Red Bull Bragantino - SP</td>\n",
              "      <td>1</td>\n",
              "      <td>0</td>\n",
              "      <td>Internacional - RS</td>\n",
              "      <td>8</td>\n",
              "      <td>1</td>\n",
              "      <td>3</td>\n",
              "      <td>6</td>\n",
              "      <td>1</td>\n",
              "    </tr>\n",
              "    <tr>\n",
              "      <th>2538</th>\n",
              "      <td>378</td>\n",
              "      <td>Juventude - RS</td>\n",
              "      <td>1</td>\n",
              "      <td>0</td>\n",
              "      <td>Corinthians - SP</td>\n",
              "      <td>4</td>\n",
              "      <td>3</td>\n",
              "      <td>1</td>\n",
              "      <td>9</td>\n",
              "      <td>1</td>\n",
              "    </tr>\n",
              "    <tr>\n",
              "      <th>2539</th>\n",
              "      <td>379</td>\n",
              "      <td>Atlético - GO</td>\n",
              "      <td>2</td>\n",
              "      <td>0</td>\n",
              "      <td>Flamengo - RJ</td>\n",
              "      <td>6</td>\n",
              "      <td>10</td>\n",
              "      <td>3</td>\n",
              "      <td>7</td>\n",
              "      <td>1</td>\n",
              "    </tr>\n",
              "  </tbody>\n",
              "</table>\n",
              "<p>2540 rows × 10 columns</p>\n",
              "</div>\n",
              "    <div class=\"colab-df-buttons\">\n",
              "\n",
              "  <div class=\"colab-df-container\">\n",
              "    <button class=\"colab-df-convert\" onclick=\"convertToInteractive('df-bc594feb-1479-451c-80ea-c1e26cb6e949')\"\n",
              "            title=\"Convert this dataframe to an interactive table.\"\n",
              "            style=\"display:none;\">\n",
              "\n",
              "  <svg xmlns=\"http://www.w3.org/2000/svg\" height=\"24px\" viewBox=\"0 -960 960 960\">\n",
              "    <path d=\"M120-120v-720h720v720H120Zm60-500h600v-160H180v160Zm220 220h160v-160H400v160Zm0 220h160v-160H400v160ZM180-400h160v-160H180v160Zm440 0h160v-160H620v160ZM180-180h160v-160H180v160Zm440 0h160v-160H620v160Z\"/>\n",
              "  </svg>\n",
              "    </button>\n",
              "\n",
              "  <style>\n",
              "    .colab-df-container {\n",
              "      display:flex;\n",
              "      gap: 12px;\n",
              "    }\n",
              "\n",
              "    .colab-df-convert {\n",
              "      background-color: #E8F0FE;\n",
              "      border: none;\n",
              "      border-radius: 50%;\n",
              "      cursor: pointer;\n",
              "      display: none;\n",
              "      fill: #1967D2;\n",
              "      height: 32px;\n",
              "      padding: 0 0 0 0;\n",
              "      width: 32px;\n",
              "    }\n",
              "\n",
              "    .colab-df-convert:hover {\n",
              "      background-color: #E2EBFA;\n",
              "      box-shadow: 0px 1px 2px rgba(60, 64, 67, 0.3), 0px 1px 3px 1px rgba(60, 64, 67, 0.15);\n",
              "      fill: #174EA6;\n",
              "    }\n",
              "\n",
              "    .colab-df-buttons div {\n",
              "      margin-bottom: 4px;\n",
              "    }\n",
              "\n",
              "    [theme=dark] .colab-df-convert {\n",
              "      background-color: #3B4455;\n",
              "      fill: #D2E3FC;\n",
              "    }\n",
              "\n",
              "    [theme=dark] .colab-df-convert:hover {\n",
              "      background-color: #434B5C;\n",
              "      box-shadow: 0px 1px 3px 1px rgba(0, 0, 0, 0.15);\n",
              "      filter: drop-shadow(0px 1px 2px rgba(0, 0, 0, 0.3));\n",
              "      fill: #FFFFFF;\n",
              "    }\n",
              "  </style>\n",
              "\n",
              "    <script>\n",
              "      const buttonEl =\n",
              "        document.querySelector('#df-bc594feb-1479-451c-80ea-c1e26cb6e949 button.colab-df-convert');\n",
              "      buttonEl.style.display =\n",
              "        google.colab.kernel.accessAllowed ? 'block' : 'none';\n",
              "\n",
              "      async function convertToInteractive(key) {\n",
              "        const element = document.querySelector('#df-bc594feb-1479-451c-80ea-c1e26cb6e949');\n",
              "        const dataTable =\n",
              "          await google.colab.kernel.invokeFunction('convertToInteractive',\n",
              "                                                    [key], {});\n",
              "        if (!dataTable) return;\n",
              "\n",
              "        const docLinkHtml = 'Like what you see? Visit the ' +\n",
              "          '<a target=\"_blank\" href=https://colab.research.google.com/notebooks/data_table.ipynb>data table notebook</a>'\n",
              "          + ' to learn more about interactive tables.';\n",
              "        element.innerHTML = '';\n",
              "        dataTable['output_type'] = 'display_data';\n",
              "        await google.colab.output.renderOutput(dataTable, element);\n",
              "        const docLink = document.createElement('div');\n",
              "        docLink.innerHTML = docLinkHtml;\n",
              "        element.appendChild(docLink);\n",
              "      }\n",
              "    </script>\n",
              "  </div>\n",
              "\n",
              "\n",
              "<div id=\"df-2ebecac7-8e82-498f-8e6d-82ec9bc40d0b\">\n",
              "  <button class=\"colab-df-quickchart\" onclick=\"quickchart('df-2ebecac7-8e82-498f-8e6d-82ec9bc40d0b')\"\n",
              "            title=\"Suggest charts\"\n",
              "            style=\"display:none;\">\n",
              "\n",
              "<svg xmlns=\"http://www.w3.org/2000/svg\" height=\"24px\"viewBox=\"0 0 24 24\"\n",
              "     width=\"24px\">\n",
              "    <g>\n",
              "        <path d=\"M19 3H5c-1.1 0-2 .9-2 2v14c0 1.1.9 2 2 2h14c1.1 0 2-.9 2-2V5c0-1.1-.9-2-2-2zM9 17H7v-7h2v7zm4 0h-2V7h2v10zm4 0h-2v-4h2v4z\"/>\n",
              "    </g>\n",
              "</svg>\n",
              "  </button>\n",
              "\n",
              "<style>\n",
              "  .colab-df-quickchart {\n",
              "      --bg-color: #E8F0FE;\n",
              "      --fill-color: #1967D2;\n",
              "      --hover-bg-color: #E2EBFA;\n",
              "      --hover-fill-color: #174EA6;\n",
              "      --disabled-fill-color: #AAA;\n",
              "      --disabled-bg-color: #DDD;\n",
              "  }\n",
              "\n",
              "  [theme=dark] .colab-df-quickchart {\n",
              "      --bg-color: #3B4455;\n",
              "      --fill-color: #D2E3FC;\n",
              "      --hover-bg-color: #434B5C;\n",
              "      --hover-fill-color: #FFFFFF;\n",
              "      --disabled-bg-color: #3B4455;\n",
              "      --disabled-fill-color: #666;\n",
              "  }\n",
              "\n",
              "  .colab-df-quickchart {\n",
              "    background-color: var(--bg-color);\n",
              "    border: none;\n",
              "    border-radius: 50%;\n",
              "    cursor: pointer;\n",
              "    display: none;\n",
              "    fill: var(--fill-color);\n",
              "    height: 32px;\n",
              "    padding: 0;\n",
              "    width: 32px;\n",
              "  }\n",
              "\n",
              "  .colab-df-quickchart:hover {\n",
              "    background-color: var(--hover-bg-color);\n",
              "    box-shadow: 0 1px 2px rgba(60, 64, 67, 0.3), 0 1px 3px 1px rgba(60, 64, 67, 0.15);\n",
              "    fill: var(--button-hover-fill-color);\n",
              "  }\n",
              "\n",
              "  .colab-df-quickchart-complete:disabled,\n",
              "  .colab-df-quickchart-complete:disabled:hover {\n",
              "    background-color: var(--disabled-bg-color);\n",
              "    fill: var(--disabled-fill-color);\n",
              "    box-shadow: none;\n",
              "  }\n",
              "\n",
              "  .colab-df-spinner {\n",
              "    border: 2px solid var(--fill-color);\n",
              "    border-color: transparent;\n",
              "    border-bottom-color: var(--fill-color);\n",
              "    animation:\n",
              "      spin 1s steps(1) infinite;\n",
              "  }\n",
              "\n",
              "  @keyframes spin {\n",
              "    0% {\n",
              "      border-color: transparent;\n",
              "      border-bottom-color: var(--fill-color);\n",
              "      border-left-color: var(--fill-color);\n",
              "    }\n",
              "    20% {\n",
              "      border-color: transparent;\n",
              "      border-left-color: var(--fill-color);\n",
              "      border-top-color: var(--fill-color);\n",
              "    }\n",
              "    30% {\n",
              "      border-color: transparent;\n",
              "      border-left-color: var(--fill-color);\n",
              "      border-top-color: var(--fill-color);\n",
              "      border-right-color: var(--fill-color);\n",
              "    }\n",
              "    40% {\n",
              "      border-color: transparent;\n",
              "      border-right-color: var(--fill-color);\n",
              "      border-top-color: var(--fill-color);\n",
              "    }\n",
              "    60% {\n",
              "      border-color: transparent;\n",
              "      border-right-color: var(--fill-color);\n",
              "    }\n",
              "    80% {\n",
              "      border-color: transparent;\n",
              "      border-right-color: var(--fill-color);\n",
              "      border-bottom-color: var(--fill-color);\n",
              "    }\n",
              "    90% {\n",
              "      border-color: transparent;\n",
              "      border-bottom-color: var(--fill-color);\n",
              "    }\n",
              "  }\n",
              "</style>\n",
              "\n",
              "  <script>\n",
              "    async function quickchart(key) {\n",
              "      const quickchartButtonEl =\n",
              "        document.querySelector('#' + key + ' button');\n",
              "      quickchartButtonEl.disabled = true;  // To prevent multiple clicks.\n",
              "      quickchartButtonEl.classList.add('colab-df-spinner');\n",
              "      try {\n",
              "        const charts = await google.colab.kernel.invokeFunction(\n",
              "            'suggestCharts', [key], {});\n",
              "      } catch (error) {\n",
              "        console.error('Error during call to suggestCharts:', error);\n",
              "      }\n",
              "      quickchartButtonEl.classList.remove('colab-df-spinner');\n",
              "      quickchartButtonEl.classList.add('colab-df-quickchart-complete');\n",
              "    }\n",
              "    (() => {\n",
              "      let quickchartButtonEl =\n",
              "        document.querySelector('#df-2ebecac7-8e82-498f-8e6d-82ec9bc40d0b button');\n",
              "      quickchartButtonEl.style.display =\n",
              "        google.colab.kernel.accessAllowed ? 'block' : 'none';\n",
              "    })();\n",
              "  </script>\n",
              "</div>\n",
              "\n",
              "  <div id=\"id_cc771859-9c80-45db-9717-1fba12f31393\">\n",
              "    <style>\n",
              "      .colab-df-generate {\n",
              "        background-color: #E8F0FE;\n",
              "        border: none;\n",
              "        border-radius: 50%;\n",
              "        cursor: pointer;\n",
              "        display: none;\n",
              "        fill: #1967D2;\n",
              "        height: 32px;\n",
              "        padding: 0 0 0 0;\n",
              "        width: 32px;\n",
              "      }\n",
              "\n",
              "      .colab-df-generate:hover {\n",
              "        background-color: #E2EBFA;\n",
              "        box-shadow: 0px 1px 2px rgba(60, 64, 67, 0.3), 0px 1px 3px 1px rgba(60, 64, 67, 0.15);\n",
              "        fill: #174EA6;\n",
              "      }\n",
              "\n",
              "      [theme=dark] .colab-df-generate {\n",
              "        background-color: #3B4455;\n",
              "        fill: #D2E3FC;\n",
              "      }\n",
              "\n",
              "      [theme=dark] .colab-df-generate:hover {\n",
              "        background-color: #434B5C;\n",
              "        box-shadow: 0px 1px 3px 1px rgba(0, 0, 0, 0.15);\n",
              "        filter: drop-shadow(0px 1px 2px rgba(0, 0, 0, 0.3));\n",
              "        fill: #FFFFFF;\n",
              "      }\n",
              "    </style>\n",
              "    <button class=\"colab-df-generate\" onclick=\"generateWithVariable('DataFrame_Geral_reglog')\"\n",
              "            title=\"Generate code using this dataframe.\"\n",
              "            style=\"display:none;\">\n",
              "\n",
              "  <svg xmlns=\"http://www.w3.org/2000/svg\" height=\"24px\"viewBox=\"0 0 24 24\"\n",
              "       width=\"24px\">\n",
              "    <path d=\"M7,19H8.4L18.45,9,17,7.55,7,17.6ZM5,21V16.75L18.45,3.32a2,2,0,0,1,2.83,0l1.4,1.43a1.91,1.91,0,0,1,.58,1.4,1.91,1.91,0,0,1-.58,1.4L9.25,21ZM18.45,9,17,7.55Zm-12,3A5.31,5.31,0,0,0,4.9,8.1,5.31,5.31,0,0,0,1,6.5,5.31,5.31,0,0,0,4.9,4.9,5.31,5.31,0,0,0,6.5,1,5.31,5.31,0,0,0,8.1,4.9,5.31,5.31,0,0,0,12,6.5,5.46,5.46,0,0,0,6.5,12Z\"/>\n",
              "  </svg>\n",
              "    </button>\n",
              "    <script>\n",
              "      (() => {\n",
              "      const buttonEl =\n",
              "        document.querySelector('#id_cc771859-9c80-45db-9717-1fba12f31393 button.colab-df-generate');\n",
              "      buttonEl.style.display =\n",
              "        google.colab.kernel.accessAllowed ? 'block' : 'none';\n",
              "\n",
              "      buttonEl.onclick = () => {\n",
              "        google.colab.notebook.generateWithVariable('DataFrame_Geral_reglog');\n",
              "      }\n",
              "      })();\n",
              "    </script>\n",
              "  </div>\n",
              "\n",
              "    </div>\n",
              "  </div>\n"
            ],
            "application/vnd.google.colaboratory.intrinsic+json": {
              "type": "dataframe",
              "variable_name": "DataFrame_Geral_reglog",
              "summary": "{\n  \"name\": \"DataFrame_Geral_reglog\",\n  \"rows\": 2540,\n  \"fields\": [\n    {\n      \"column\": \"Unnamed: 0\",\n      \"properties\": {\n        \"dtype\": \"number\",\n        \"std\": 73,\n        \"min\": 111,\n        \"max\": 379,\n        \"num_unique_values\": 268,\n        \"samples\": [\n          242,\n          340,\n          149\n        ],\n        \"semantic_type\": \"\",\n        \"description\": \"\"\n      }\n    },\n    {\n      \"column\": \"mandante\",\n      \"properties\": {\n        \"dtype\": \"category\",\n        \"num_unique_values\": 63,\n        \"samples\": [\n          \"Cuiab\\u00e1 - MT\",\n          \"Fortaleza - CE\",\n          \"Atl\\u00e9tico\"\n        ],\n        \"semantic_type\": \"\",\n        \"description\": \"\"\n      }\n    },\n    {\n      \"column\": \"golsMand\",\n      \"properties\": {\n        \"dtype\": \"number\",\n        \"std\": 1,\n        \"min\": 0,\n        \"max\": 6,\n        \"num_unique_values\": 7,\n        \"samples\": [\n          4,\n          2,\n          5\n        ],\n        \"semantic_type\": \"\",\n        \"description\": \"\"\n      }\n    },\n    {\n      \"column\": \"golsVist\",\n      \"properties\": {\n        \"dtype\": \"number\",\n        \"std\": 0,\n        \"min\": 0,\n        \"max\": 5,\n        \"num_unique_values\": 6,\n        \"samples\": [\n          3,\n          0,\n          5\n        ],\n        \"semantic_type\": \"\",\n        \"description\": \"\"\n      }\n    },\n    {\n      \"column\": \"vistante\",\n      \"properties\": {\n        \"dtype\": \"category\",\n        \"num_unique_values\": 63,\n        \"samples\": [\n          \"Juventude - RS\",\n          \"Csa - AL\",\n          \"S\\u00e3o Paulo\"\n        ],\n        \"semantic_type\": \"\",\n        \"description\": \"\"\n      }\n    },\n    {\n      \"column\": \"poder_ataque_time_mandante\",\n      \"properties\": {\n        \"dtype\": \"number\",\n        \"std\": 2,\n        \"min\": 0,\n        \"max\": 18,\n        \"num_unique_values\": 19,\n        \"samples\": [\n          9,\n          10,\n          3\n        ],\n        \"semantic_type\": \"\",\n        \"description\": \"\"\n      }\n    },\n    {\n      \"column\": \"poder_ataque_time_visitante\",\n      \"properties\": {\n        \"dtype\": \"number\",\n        \"std\": 2,\n        \"min\": 0,\n        \"max\": 16,\n        \"num_unique_values\": 16,\n        \"samples\": [\n          6,\n          0,\n          4\n        ],\n        \"semantic_type\": \"\",\n        \"description\": \"\"\n      }\n    },\n    {\n      \"column\": \"poder_defesa_time_mandante\",\n      \"properties\": {\n        \"dtype\": \"number\",\n        \"std\": 2,\n        \"min\": 0,\n        \"max\": 15,\n        \"num_unique_values\": 16,\n        \"samples\": [\n          8,\n          7,\n          3\n        ],\n        \"semantic_type\": \"\",\n        \"description\": \"\"\n      }\n    },\n    {\n      \"column\": \"poder_defesa_time_visitante\",\n      \"properties\": {\n        \"dtype\": \"number\",\n        \"std\": 2,\n        \"min\": 0,\n        \"max\": 20,\n        \"num_unique_values\": 19,\n        \"samples\": [\n          5,\n          3,\n          2\n        ],\n        \"semantic_type\": \"\",\n        \"description\": \"\"\n      }\n    },\n    {\n      \"column\": \"classe_resultado\",\n      \"properties\": {\n        \"dtype\": \"number\",\n        \"std\": 0,\n        \"min\": 0,\n        \"max\": 2,\n        \"num_unique_values\": 3,\n        \"samples\": [\n          1,\n          0,\n          2\n        ],\n        \"semantic_type\": \"\",\n        \"description\": \"\"\n      }\n    }\n  ]\n}"
            }
          },
          "metadata": {},
          "execution_count": 6
        }
      ]
    },
    {
      "cell_type": "code",
      "source": [
        "# Apaga colunas desnecessarias para o treinamento.\n",
        "DataFrame_Geral_reglog.drop(['mandante',\n",
        "                             'golsMand',\n",
        "                             'golsVist',\n",
        "                             'vistante',\n",
        "                             'Unnamed: 0'], axis=1, inplace=True)\n",
        "DataFrame_Geral_reglog"
      ],
      "metadata": {
        "colab": {
          "base_uri": "https://localhost:8080/",
          "height": 424
        },
        "id": "4nN0Pw7809rS",
        "outputId": "50a3d1ec-2a4a-4046-c57f-590234a78a05"
      },
      "execution_count": 7,
      "outputs": [
        {
          "output_type": "execute_result",
          "data": {
            "text/plain": [
              "      poder_ataque_time_mandante  poder_ataque_time_visitante  \\\n",
              "0                              9                            6   \n",
              "1                             12                            0   \n",
              "2                              6                           11   \n",
              "3                              8                            5   \n",
              "4                             14                            7   \n",
              "...                          ...                          ...   \n",
              "2535                           6                            1   \n",
              "2536                           6                            3   \n",
              "2537                           8                            1   \n",
              "2538                           4                            3   \n",
              "2539                           6                           10   \n",
              "\n",
              "      poder_defesa_time_mandante  poder_defesa_time_visitante  \\\n",
              "0                              8                            5   \n",
              "1                              7                            4   \n",
              "2                              9                           12   \n",
              "3                              5                            4   \n",
              "4                              6                            6   \n",
              "...                          ...                          ...   \n",
              "2535                           5                            6   \n",
              "2536                           4                            6   \n",
              "2537                           3                            6   \n",
              "2538                           1                            9   \n",
              "2539                           3                            7   \n",
              "\n",
              "      classe_resultado  \n",
              "0                    1  \n",
              "1                    1  \n",
              "2                    0  \n",
              "3                    2  \n",
              "4                    2  \n",
              "...                ...  \n",
              "2535                 1  \n",
              "2536                 0  \n",
              "2537                 1  \n",
              "2538                 1  \n",
              "2539                 1  \n",
              "\n",
              "[2540 rows x 5 columns]"
            ],
            "text/html": [
              "\n",
              "  <div id=\"df-a7d8f12c-b7e6-43bd-adb5-31b4d4cb46ce\" class=\"colab-df-container\">\n",
              "    <div>\n",
              "<style scoped>\n",
              "    .dataframe tbody tr th:only-of-type {\n",
              "        vertical-align: middle;\n",
              "    }\n",
              "\n",
              "    .dataframe tbody tr th {\n",
              "        vertical-align: top;\n",
              "    }\n",
              "\n",
              "    .dataframe thead th {\n",
              "        text-align: right;\n",
              "    }\n",
              "</style>\n",
              "<table border=\"1\" class=\"dataframe\">\n",
              "  <thead>\n",
              "    <tr style=\"text-align: right;\">\n",
              "      <th></th>\n",
              "      <th>poder_ataque_time_mandante</th>\n",
              "      <th>poder_ataque_time_visitante</th>\n",
              "      <th>poder_defesa_time_mandante</th>\n",
              "      <th>poder_defesa_time_visitante</th>\n",
              "      <th>classe_resultado</th>\n",
              "    </tr>\n",
              "  </thead>\n",
              "  <tbody>\n",
              "    <tr>\n",
              "      <th>0</th>\n",
              "      <td>9</td>\n",
              "      <td>6</td>\n",
              "      <td>8</td>\n",
              "      <td>5</td>\n",
              "      <td>1</td>\n",
              "    </tr>\n",
              "    <tr>\n",
              "      <th>1</th>\n",
              "      <td>12</td>\n",
              "      <td>0</td>\n",
              "      <td>7</td>\n",
              "      <td>4</td>\n",
              "      <td>1</td>\n",
              "    </tr>\n",
              "    <tr>\n",
              "      <th>2</th>\n",
              "      <td>6</td>\n",
              "      <td>11</td>\n",
              "      <td>9</td>\n",
              "      <td>12</td>\n",
              "      <td>0</td>\n",
              "    </tr>\n",
              "    <tr>\n",
              "      <th>3</th>\n",
              "      <td>8</td>\n",
              "      <td>5</td>\n",
              "      <td>5</td>\n",
              "      <td>4</td>\n",
              "      <td>2</td>\n",
              "    </tr>\n",
              "    <tr>\n",
              "      <th>4</th>\n",
              "      <td>14</td>\n",
              "      <td>7</td>\n",
              "      <td>6</td>\n",
              "      <td>6</td>\n",
              "      <td>2</td>\n",
              "    </tr>\n",
              "    <tr>\n",
              "      <th>...</th>\n",
              "      <td>...</td>\n",
              "      <td>...</td>\n",
              "      <td>...</td>\n",
              "      <td>...</td>\n",
              "      <td>...</td>\n",
              "    </tr>\n",
              "    <tr>\n",
              "      <th>2535</th>\n",
              "      <td>6</td>\n",
              "      <td>1</td>\n",
              "      <td>5</td>\n",
              "      <td>6</td>\n",
              "      <td>1</td>\n",
              "    </tr>\n",
              "    <tr>\n",
              "      <th>2536</th>\n",
              "      <td>6</td>\n",
              "      <td>3</td>\n",
              "      <td>4</td>\n",
              "      <td>6</td>\n",
              "      <td>0</td>\n",
              "    </tr>\n",
              "    <tr>\n",
              "      <th>2537</th>\n",
              "      <td>8</td>\n",
              "      <td>1</td>\n",
              "      <td>3</td>\n",
              "      <td>6</td>\n",
              "      <td>1</td>\n",
              "    </tr>\n",
              "    <tr>\n",
              "      <th>2538</th>\n",
              "      <td>4</td>\n",
              "      <td>3</td>\n",
              "      <td>1</td>\n",
              "      <td>9</td>\n",
              "      <td>1</td>\n",
              "    </tr>\n",
              "    <tr>\n",
              "      <th>2539</th>\n",
              "      <td>6</td>\n",
              "      <td>10</td>\n",
              "      <td>3</td>\n",
              "      <td>7</td>\n",
              "      <td>1</td>\n",
              "    </tr>\n",
              "  </tbody>\n",
              "</table>\n",
              "<p>2540 rows × 5 columns</p>\n",
              "</div>\n",
              "    <div class=\"colab-df-buttons\">\n",
              "\n",
              "  <div class=\"colab-df-container\">\n",
              "    <button class=\"colab-df-convert\" onclick=\"convertToInteractive('df-a7d8f12c-b7e6-43bd-adb5-31b4d4cb46ce')\"\n",
              "            title=\"Convert this dataframe to an interactive table.\"\n",
              "            style=\"display:none;\">\n",
              "\n",
              "  <svg xmlns=\"http://www.w3.org/2000/svg\" height=\"24px\" viewBox=\"0 -960 960 960\">\n",
              "    <path d=\"M120-120v-720h720v720H120Zm60-500h600v-160H180v160Zm220 220h160v-160H400v160Zm0 220h160v-160H400v160ZM180-400h160v-160H180v160Zm440 0h160v-160H620v160ZM180-180h160v-160H180v160Zm440 0h160v-160H620v160Z\"/>\n",
              "  </svg>\n",
              "    </button>\n",
              "\n",
              "  <style>\n",
              "    .colab-df-container {\n",
              "      display:flex;\n",
              "      gap: 12px;\n",
              "    }\n",
              "\n",
              "    .colab-df-convert {\n",
              "      background-color: #E8F0FE;\n",
              "      border: none;\n",
              "      border-radius: 50%;\n",
              "      cursor: pointer;\n",
              "      display: none;\n",
              "      fill: #1967D2;\n",
              "      height: 32px;\n",
              "      padding: 0 0 0 0;\n",
              "      width: 32px;\n",
              "    }\n",
              "\n",
              "    .colab-df-convert:hover {\n",
              "      background-color: #E2EBFA;\n",
              "      box-shadow: 0px 1px 2px rgba(60, 64, 67, 0.3), 0px 1px 3px 1px rgba(60, 64, 67, 0.15);\n",
              "      fill: #174EA6;\n",
              "    }\n",
              "\n",
              "    .colab-df-buttons div {\n",
              "      margin-bottom: 4px;\n",
              "    }\n",
              "\n",
              "    [theme=dark] .colab-df-convert {\n",
              "      background-color: #3B4455;\n",
              "      fill: #D2E3FC;\n",
              "    }\n",
              "\n",
              "    [theme=dark] .colab-df-convert:hover {\n",
              "      background-color: #434B5C;\n",
              "      box-shadow: 0px 1px 3px 1px rgba(0, 0, 0, 0.15);\n",
              "      filter: drop-shadow(0px 1px 2px rgba(0, 0, 0, 0.3));\n",
              "      fill: #FFFFFF;\n",
              "    }\n",
              "  </style>\n",
              "\n",
              "    <script>\n",
              "      const buttonEl =\n",
              "        document.querySelector('#df-a7d8f12c-b7e6-43bd-adb5-31b4d4cb46ce button.colab-df-convert');\n",
              "      buttonEl.style.display =\n",
              "        google.colab.kernel.accessAllowed ? 'block' : 'none';\n",
              "\n",
              "      async function convertToInteractive(key) {\n",
              "        const element = document.querySelector('#df-a7d8f12c-b7e6-43bd-adb5-31b4d4cb46ce');\n",
              "        const dataTable =\n",
              "          await google.colab.kernel.invokeFunction('convertToInteractive',\n",
              "                                                    [key], {});\n",
              "        if (!dataTable) return;\n",
              "\n",
              "        const docLinkHtml = 'Like what you see? Visit the ' +\n",
              "          '<a target=\"_blank\" href=https://colab.research.google.com/notebooks/data_table.ipynb>data table notebook</a>'\n",
              "          + ' to learn more about interactive tables.';\n",
              "        element.innerHTML = '';\n",
              "        dataTable['output_type'] = 'display_data';\n",
              "        await google.colab.output.renderOutput(dataTable, element);\n",
              "        const docLink = document.createElement('div');\n",
              "        docLink.innerHTML = docLinkHtml;\n",
              "        element.appendChild(docLink);\n",
              "      }\n",
              "    </script>\n",
              "  </div>\n",
              "\n",
              "\n",
              "<div id=\"df-026bf56e-6d17-4bde-913f-e701f68eb045\">\n",
              "  <button class=\"colab-df-quickchart\" onclick=\"quickchart('df-026bf56e-6d17-4bde-913f-e701f68eb045')\"\n",
              "            title=\"Suggest charts\"\n",
              "            style=\"display:none;\">\n",
              "\n",
              "<svg xmlns=\"http://www.w3.org/2000/svg\" height=\"24px\"viewBox=\"0 0 24 24\"\n",
              "     width=\"24px\">\n",
              "    <g>\n",
              "        <path d=\"M19 3H5c-1.1 0-2 .9-2 2v14c0 1.1.9 2 2 2h14c1.1 0 2-.9 2-2V5c0-1.1-.9-2-2-2zM9 17H7v-7h2v7zm4 0h-2V7h2v10zm4 0h-2v-4h2v4z\"/>\n",
              "    </g>\n",
              "</svg>\n",
              "  </button>\n",
              "\n",
              "<style>\n",
              "  .colab-df-quickchart {\n",
              "      --bg-color: #E8F0FE;\n",
              "      --fill-color: #1967D2;\n",
              "      --hover-bg-color: #E2EBFA;\n",
              "      --hover-fill-color: #174EA6;\n",
              "      --disabled-fill-color: #AAA;\n",
              "      --disabled-bg-color: #DDD;\n",
              "  }\n",
              "\n",
              "  [theme=dark] .colab-df-quickchart {\n",
              "      --bg-color: #3B4455;\n",
              "      --fill-color: #D2E3FC;\n",
              "      --hover-bg-color: #434B5C;\n",
              "      --hover-fill-color: #FFFFFF;\n",
              "      --disabled-bg-color: #3B4455;\n",
              "      --disabled-fill-color: #666;\n",
              "  }\n",
              "\n",
              "  .colab-df-quickchart {\n",
              "    background-color: var(--bg-color);\n",
              "    border: none;\n",
              "    border-radius: 50%;\n",
              "    cursor: pointer;\n",
              "    display: none;\n",
              "    fill: var(--fill-color);\n",
              "    height: 32px;\n",
              "    padding: 0;\n",
              "    width: 32px;\n",
              "  }\n",
              "\n",
              "  .colab-df-quickchart:hover {\n",
              "    background-color: var(--hover-bg-color);\n",
              "    box-shadow: 0 1px 2px rgba(60, 64, 67, 0.3), 0 1px 3px 1px rgba(60, 64, 67, 0.15);\n",
              "    fill: var(--button-hover-fill-color);\n",
              "  }\n",
              "\n",
              "  .colab-df-quickchart-complete:disabled,\n",
              "  .colab-df-quickchart-complete:disabled:hover {\n",
              "    background-color: var(--disabled-bg-color);\n",
              "    fill: var(--disabled-fill-color);\n",
              "    box-shadow: none;\n",
              "  }\n",
              "\n",
              "  .colab-df-spinner {\n",
              "    border: 2px solid var(--fill-color);\n",
              "    border-color: transparent;\n",
              "    border-bottom-color: var(--fill-color);\n",
              "    animation:\n",
              "      spin 1s steps(1) infinite;\n",
              "  }\n",
              "\n",
              "  @keyframes spin {\n",
              "    0% {\n",
              "      border-color: transparent;\n",
              "      border-bottom-color: var(--fill-color);\n",
              "      border-left-color: var(--fill-color);\n",
              "    }\n",
              "    20% {\n",
              "      border-color: transparent;\n",
              "      border-left-color: var(--fill-color);\n",
              "      border-top-color: var(--fill-color);\n",
              "    }\n",
              "    30% {\n",
              "      border-color: transparent;\n",
              "      border-left-color: var(--fill-color);\n",
              "      border-top-color: var(--fill-color);\n",
              "      border-right-color: var(--fill-color);\n",
              "    }\n",
              "    40% {\n",
              "      border-color: transparent;\n",
              "      border-right-color: var(--fill-color);\n",
              "      border-top-color: var(--fill-color);\n",
              "    }\n",
              "    60% {\n",
              "      border-color: transparent;\n",
              "      border-right-color: var(--fill-color);\n",
              "    }\n",
              "    80% {\n",
              "      border-color: transparent;\n",
              "      border-right-color: var(--fill-color);\n",
              "      border-bottom-color: var(--fill-color);\n",
              "    }\n",
              "    90% {\n",
              "      border-color: transparent;\n",
              "      border-bottom-color: var(--fill-color);\n",
              "    }\n",
              "  }\n",
              "</style>\n",
              "\n",
              "  <script>\n",
              "    async function quickchart(key) {\n",
              "      const quickchartButtonEl =\n",
              "        document.querySelector('#' + key + ' button');\n",
              "      quickchartButtonEl.disabled = true;  // To prevent multiple clicks.\n",
              "      quickchartButtonEl.classList.add('colab-df-spinner');\n",
              "      try {\n",
              "        const charts = await google.colab.kernel.invokeFunction(\n",
              "            'suggestCharts', [key], {});\n",
              "      } catch (error) {\n",
              "        console.error('Error during call to suggestCharts:', error);\n",
              "      }\n",
              "      quickchartButtonEl.classList.remove('colab-df-spinner');\n",
              "      quickchartButtonEl.classList.add('colab-df-quickchart-complete');\n",
              "    }\n",
              "    (() => {\n",
              "      let quickchartButtonEl =\n",
              "        document.querySelector('#df-026bf56e-6d17-4bde-913f-e701f68eb045 button');\n",
              "      quickchartButtonEl.style.display =\n",
              "        google.colab.kernel.accessAllowed ? 'block' : 'none';\n",
              "    })();\n",
              "  </script>\n",
              "</div>\n",
              "\n",
              "  <div id=\"id_ce8d9ad5-c27d-4451-bbb2-c7698e7ccd49\">\n",
              "    <style>\n",
              "      .colab-df-generate {\n",
              "        background-color: #E8F0FE;\n",
              "        border: none;\n",
              "        border-radius: 50%;\n",
              "        cursor: pointer;\n",
              "        display: none;\n",
              "        fill: #1967D2;\n",
              "        height: 32px;\n",
              "        padding: 0 0 0 0;\n",
              "        width: 32px;\n",
              "      }\n",
              "\n",
              "      .colab-df-generate:hover {\n",
              "        background-color: #E2EBFA;\n",
              "        box-shadow: 0px 1px 2px rgba(60, 64, 67, 0.3), 0px 1px 3px 1px rgba(60, 64, 67, 0.15);\n",
              "        fill: #174EA6;\n",
              "      }\n",
              "\n",
              "      [theme=dark] .colab-df-generate {\n",
              "        background-color: #3B4455;\n",
              "        fill: #D2E3FC;\n",
              "      }\n",
              "\n",
              "      [theme=dark] .colab-df-generate:hover {\n",
              "        background-color: #434B5C;\n",
              "        box-shadow: 0px 1px 3px 1px rgba(0, 0, 0, 0.15);\n",
              "        filter: drop-shadow(0px 1px 2px rgba(0, 0, 0, 0.3));\n",
              "        fill: #FFFFFF;\n",
              "      }\n",
              "    </style>\n",
              "    <button class=\"colab-df-generate\" onclick=\"generateWithVariable('DataFrame_Geral_reglog')\"\n",
              "            title=\"Generate code using this dataframe.\"\n",
              "            style=\"display:none;\">\n",
              "\n",
              "  <svg xmlns=\"http://www.w3.org/2000/svg\" height=\"24px\"viewBox=\"0 0 24 24\"\n",
              "       width=\"24px\">\n",
              "    <path d=\"M7,19H8.4L18.45,9,17,7.55,7,17.6ZM5,21V16.75L18.45,3.32a2,2,0,0,1,2.83,0l1.4,1.43a1.91,1.91,0,0,1,.58,1.4,1.91,1.91,0,0,1-.58,1.4L9.25,21ZM18.45,9,17,7.55Zm-12,3A5.31,5.31,0,0,0,4.9,8.1,5.31,5.31,0,0,0,1,6.5,5.31,5.31,0,0,0,4.9,4.9,5.31,5.31,0,0,0,6.5,1,5.31,5.31,0,0,0,8.1,4.9,5.31,5.31,0,0,0,12,6.5,5.46,5.46,0,0,0,6.5,12Z\"/>\n",
              "  </svg>\n",
              "    </button>\n",
              "    <script>\n",
              "      (() => {\n",
              "      const buttonEl =\n",
              "        document.querySelector('#id_ce8d9ad5-c27d-4451-bbb2-c7698e7ccd49 button.colab-df-generate');\n",
              "      buttonEl.style.display =\n",
              "        google.colab.kernel.accessAllowed ? 'block' : 'none';\n",
              "\n",
              "      buttonEl.onclick = () => {\n",
              "        google.colab.notebook.generateWithVariable('DataFrame_Geral_reglog');\n",
              "      }\n",
              "      })();\n",
              "    </script>\n",
              "  </div>\n",
              "\n",
              "    </div>\n",
              "  </div>\n"
            ],
            "application/vnd.google.colaboratory.intrinsic+json": {
              "type": "dataframe",
              "variable_name": "DataFrame_Geral_reglog",
              "summary": "{\n  \"name\": \"DataFrame_Geral_reglog\",\n  \"rows\": 2540,\n  \"fields\": [\n    {\n      \"column\": \"poder_ataque_time_mandante\",\n      \"properties\": {\n        \"dtype\": \"number\",\n        \"std\": 2,\n        \"min\": 0,\n        \"max\": 18,\n        \"num_unique_values\": 19,\n        \"samples\": [\n          9,\n          10,\n          3\n        ],\n        \"semantic_type\": \"\",\n        \"description\": \"\"\n      }\n    },\n    {\n      \"column\": \"poder_ataque_time_visitante\",\n      \"properties\": {\n        \"dtype\": \"number\",\n        \"std\": 2,\n        \"min\": 0,\n        \"max\": 16,\n        \"num_unique_values\": 16,\n        \"samples\": [\n          6,\n          0,\n          4\n        ],\n        \"semantic_type\": \"\",\n        \"description\": \"\"\n      }\n    },\n    {\n      \"column\": \"poder_defesa_time_mandante\",\n      \"properties\": {\n        \"dtype\": \"number\",\n        \"std\": 2,\n        \"min\": 0,\n        \"max\": 15,\n        \"num_unique_values\": 16,\n        \"samples\": [\n          8,\n          7,\n          3\n        ],\n        \"semantic_type\": \"\",\n        \"description\": \"\"\n      }\n    },\n    {\n      \"column\": \"poder_defesa_time_visitante\",\n      \"properties\": {\n        \"dtype\": \"number\",\n        \"std\": 2,\n        \"min\": 0,\n        \"max\": 20,\n        \"num_unique_values\": 19,\n        \"samples\": [\n          5,\n          3,\n          2\n        ],\n        \"semantic_type\": \"\",\n        \"description\": \"\"\n      }\n    },\n    {\n      \"column\": \"classe_resultado\",\n      \"properties\": {\n        \"dtype\": \"number\",\n        \"std\": 0,\n        \"min\": 0,\n        \"max\": 2,\n        \"num_unique_values\": 3,\n        \"samples\": [\n          1,\n          0,\n          2\n        ],\n        \"semantic_type\": \"\",\n        \"description\": \"\"\n      }\n    }\n  ]\n}"
            }
          },
          "metadata": {},
          "execution_count": 7
        }
      ]
    },
    {
      "cell_type": "code",
      "source": [
        "# Definir as variáveis ​​preditoras e de resposta\n",
        "features = DataFrame_Geral_reglog[['poder_ataque_time_mandante',\n",
        "                                   'poder_ataque_time_visitante',\n",
        "                                   'poder_defesa_time_mandante',\n",
        "                                   'poder_defesa_time_visitante']]\n",
        "target = DataFrame_Geral_reglog['classe_resultado']"
      ],
      "metadata": {
        "id": "oXMll9WV1qrR"
      },
      "execution_count": 8,
      "outputs": []
    },
    {
      "cell_type": "markdown",
      "source": [
        "# Divisão do conjunto de treino e teste"
      ],
      "metadata": {
        "id": "wExeL7Q056YW"
      }
    },
    {
      "cell_type": "code",
      "source": [
        "# Divisão do conjunto de dados em treino e teste\n",
        "X_train, X_test, y_train, y_test = train_test_split(features,\n",
        "                                                    target,\n",
        "                                                    test_size=0.25,\n",
        "                                                    random_state=42)"
      ],
      "metadata": {
        "id": "AREtolXR2pVm"
      },
      "execution_count": 9,
      "outputs": []
    },
    {
      "cell_type": "markdown",
      "source": [
        "# Treinamento do Modelo"
      ],
      "metadata": {
        "id": "QRar_SGH6K7J"
      }
    },
    {
      "cell_type": "code",
      "source": [
        "# Criação de instancia do modelo de regressão logística multinomial\n",
        "logReg = LogisticRegression(multi_class='multinomial',\n",
        "                            solver='lbfgs',\n",
        "                            max_iter=1000,\n",
        "                            verbose=10)"
      ],
      "metadata": {
        "id": "Xsv6xDV52rEL"
      },
      "execution_count": 10,
      "outputs": []
    },
    {
      "cell_type": "code",
      "source": [
        "# Treinamento do modelo\n",
        "logReg = logReg.fit(X_train, y_train)\n",
        "\n",
        "# Imprime Acurácia do modelo\n",
        "print(\"Acurácia do treinamento: %f\" % logReg.score(X_train, y_train))\n",
        "print(\"Acurácia do teste: %f\" % logReg.score(X_test, y_test))"
      ],
      "metadata": {
        "colab": {
          "base_uri": "https://localhost:8080/"
        },
        "id": "_hKpzjwI5BWW",
        "outputId": "32255e18-6743-46eb-bb51-99c9d5f8411d"
      },
      "execution_count": 11,
      "outputs": [
        {
          "output_type": "stream",
          "name": "stdout",
          "text": [
            "Acurácia do treinamento: 0.488189\n",
            "Acurácia do teste: 0.519685\n"
          ]
        },
        {
          "output_type": "stream",
          "name": "stderr",
          "text": [
            "[Parallel(n_jobs=1)]: Done   1 tasks      | elapsed:    0.1s\n",
            "[Parallel(n_jobs=1)]: Done   1 tasks      | elapsed:    0.1s\n"
          ]
        }
      ]
    },
    {
      "cell_type": "code",
      "source": [
        "# # Realizando previsões no conjunto de teste\n",
        "# y_pred = logReg.predict(X_test)\n",
        "\n",
        "# # Avaliando a acurácia do modelo\n",
        "# accuracy = accuracy_score(y_test, y_pred)\n",
        "# print(f'Acurácia: {accuracy:.2f}')\n",
        "\n",
        "# # Exibindo o relatório de classificação\n",
        "# # print(\"Relatório de Classificação:\\n\", classification_report(y_test, y_pred))"
      ],
      "metadata": {
        "id": "5hYW6jG928r8"
      },
      "execution_count": 12,
      "outputs": []
    },
    {
      "cell_type": "code",
      "source": [
        "import pickle\n",
        "\n",
        "# Salva o modelo\n",
        "with open('logReg_model_etapa1.pkl', 'wb') as f:\n",
        "    pickle.dump(logReg, f)"
      ],
      "metadata": {
        "id": "BYMTIEYL297F"
      },
      "execution_count": 13,
      "outputs": []
    },
    {
      "cell_type": "code",
      "source": [
        "# Carregue o modelo\n",
        "with open('logReg_model_etapa1.pkl', 'rb') as f:\n",
        "    logReg_loaded = pickle.load(f)"
      ],
      "metadata": {
        "id": "KR-hbaNx9E-c"
      },
      "execution_count": 14,
      "outputs": []
    },
    {
      "cell_type": "code",
      "source": [
        "from sklearn import metrics\n",
        "from sklearn.metrics import accuracy_score\n",
        "from sklearn.metrics import classification_report\n",
        "from sklearn.metrics import confusion_matrix\n",
        "import seaborn as sns\n",
        "%matplotlib inline\n",
        "import matplotlib.pyplot as plt"
      ],
      "metadata": {
        "id": "k6BmnmIo9PAa"
      },
      "execution_count": 15,
      "outputs": []
    },
    {
      "cell_type": "code",
      "source": [
        "#imprimir a Matriz de Confusão para Regressão Logística\n",
        "logReg_y_pred = logReg_loaded.predict(X_test)\n",
        "\n",
        "logReg_cm = metrics.confusion_matrix(logReg_y_pred, y_test)\n",
        "\n",
        "sns.heatmap(logReg_cm, annot=True, fmt='.0f', xticklabels = [\"Empate\", \"Vitória\", \"Derrota\"] , yticklabels = [\"Empate\", \"Vitória\", \"Derrota\"] )\n",
        "\n",
        "plt.ylabel('Predição Modelo')\n",
        "plt.xlabel('Classificação Real')\n",
        "plt.title('Modelo Regressão logística')"
      ],
      "metadata": {
        "colab": {
          "base_uri": "https://localhost:8080/",
          "height": 490
        },
        "id": "Dh39rZbG9Z4C",
        "outputId": "5ba54d3b-dc3a-43f1-c0e3-6ae9e65e9fbb"
      },
      "execution_count": 17,
      "outputs": [
        {
          "output_type": "execute_result",
          "data": {
            "text/plain": [
              "Text(0.5, 1.0, 'Modelo Regressão logística')"
            ]
          },
          "metadata": {},
          "execution_count": 17
        },
        {
          "output_type": "display_data",
          "data": {
            "text/plain": [
              "<Figure size 640x480 with 2 Axes>"
            ],
            "image/png": "[encoded data removed]"
          },
          "metadata": {}
        }
      ]
    },
    {
      "cell_type": "code",
      "source": [],
      "metadata": {
        "id": "nYLFTYMTMyHm"
      },
      "execution_count": null,
      "outputs": []
    },
    {
      "cell_type": "code",
      "source": [
        "#type(mlp_cm)\n",
        "type(logReg_cm)"
      ],
      "metadata": {
        "colab": {
          "base_uri": "https://localhost:8080/"
        },
        "id": "sksQyxkw7mKf",
        "outputId": "f5a06996-5b49-484f-da41-60ea020b9535"
      },
      "execution_count": 20,
      "outputs": [
        {
          "output_type": "execute_result",
          "data": {
            "text/plain": [
              "numpy.ndarray"
            ]
          },
          "metadata": {},
          "execution_count": 20
        }
      ]
    },
    {
      "cell_type": "code",
      "source": [
        "#mlp_cm\n",
        "confusion_matrix = logReg_cm\n",
        "confusion_matrix"
      ],
      "metadata": {
        "colab": {
          "base_uri": "https://localhost:8080/"
        },
        "id": "7Sh--L2RA20Z",
        "outputId": "20de05d3-112a-4dc6-a89d-9f065566dc4f"
      },
      "execution_count": 21,
      "outputs": [
        {
          "output_type": "execute_result",
          "data": {
            "text/plain": [
              "array([[  3,   2,   4],\n",
              "       [155, 317, 134],\n",
              "       [  4,   6,  10]])"
            ]
          },
          "metadata": {},
          "execution_count": 21
        }
      ]
    },
    {
      "cell_type": "code",
      "source": [
        "# Cálculo da precisão por classe\n",
        "precision_classes = []\n",
        "for i in range(3):\n",
        "    precision_classes.append(confusion_matrix[i, i] / np.sum(confusion_matrix[:, i]))\n",
        "\n",
        "# Impressão dos resultados\n",
        "print(\"Precisão por classe:\")\n",
        "print(f\"Empate : {precision_classes[0]:.4f}\")\n",
        "print(f\"Vitória: {precision_classes[1]:.4f}\")\n",
        "print(f\"Derrota: {precision_classes[2]:.4f}\")\n",
        "\n",
        "# f\"Valor: {valor:.4f}\"\n",
        "\n",
        "# Cálculo da precisão geral\n",
        "precision_geral = np.trace(confusion_matrix) / np.sum(confusion_matrix)\n",
        "\n",
        "# Impressão da precisão geral\n",
        "print(\"Precisão geral:\", precision_geral)\n",
        "\n",
        "# A precisão mede a proporção de previsões positivas feitas pelo modelo que\n",
        "# estão corretas. Em outras palavras, ela indica a confiabilidade das previsões\n",
        "# do modelo.\n",
        "\n",
        "# Uma alta precisão para uma classe indica que o modelo é confiável na\n",
        "# identificação de exemplos dessa classe.\n",
        "# Uma baixa precisão pode indicar que o modelo está confundindo a classe com\n",
        "# outras classes.\n",
        "\n",
        "# A precisão é sensível ao desequilíbrio de classes.\n",
        "# Se uma classe for muito mais frequente que as outras, a precisão geral pode\n",
        "# ser alta mesmo que o modelo tenha um desempenho ruim na identificação das\n",
        "# classes menos frequentes."
      ],
      "metadata": {
        "colab": {
          "base_uri": "https://localhost:8080/"
        },
        "id": "RVLkBF617QGN",
        "outputId": "d004b267-239f-47d5-a34b-de4c690df1f9"
      },
      "execution_count": 22,
      "outputs": [
        {
          "output_type": "stream",
          "name": "stdout",
          "text": [
            "Precisão por classe:\n",
            "Empate : 0.0185\n",
            "Vitória: 0.9754\n",
            "Derrota: 0.0676\n",
            "Precisão geral: 0.5196850393700787\n"
          ]
        }
      ]
    },
    {
      "cell_type": "code",
      "source": [
        "# Cálculo do recall por classe\n",
        "recall_classes = []\n",
        "for i in range(3):\n",
        "    recall_classes.append(confusion_matrix[i, i] / np.sum(confusion_matrix[i, :]))\n",
        "\n",
        "# Impressão dos resultados\n",
        "print(\"Recall por classe:\")\n",
        "print(f\"Empate : {recall_classes[0]:.4f}\")\n",
        "print(f\"Vitória: {recall_classes[1]:.4f}\")\n",
        "print(f\"Derrota: {recall_classes[2]:.4f}\")\n",
        "\n",
        "#==============================================================================\n",
        "# Recall = Verdadeiros Positivos / (Verdadeiros Positivos + Falsos Negativos)\n",
        "#==============================================================================\n",
        "# O recall é uma métrica importante para avaliar a capacidade do modelo de\n",
        "# identificar todos os exemplos de uma classe, mesmo que isso signifique que ele\n",
        "# irá classificar incorretamente alguns exemplos de outras classes."
      ],
      "metadata": {
        "colab": {
          "base_uri": "https://localhost:8080/"
        },
        "id": "Jb43BlzK9Hbu",
        "outputId": "cf56c6db-1034-4c14-93e6-49a841d0be6e"
      },
      "execution_count": 23,
      "outputs": [
        {
          "output_type": "stream",
          "name": "stdout",
          "text": [
            "Recall por classe:\n",
            "Empate : 0.3333\n",
            "Vitória: 0.5231\n",
            "Derrota: 0.5000\n"
          ]
        }
      ]
    },
    {
      "cell_type": "code",
      "source": [
        "# Cálculo da acurácia\n",
        "accuracy = np.trace(confusion_matrix) / np.sum(confusion_matrix)\n",
        "\n",
        "# Impressão do resultado\n",
        "print(\"Acurácia:\", accuracy)\n",
        "\n",
        "# É importante verificar se a matriz de confusão está correta antes de calcular\n",
        "# a acurácia.\n",
        "# A acurácia é uma métrica simples que indica a proporção de exemplos que foram\n",
        "# classificados corretamente pelo modelo. No entanto, ela pode ser enganosa em\n",
        "# casos de desbalanceamento de classes, quando uma classe é muito mais frequente\n",
        "# que as outras."
      ],
      "metadata": {
        "colab": {
          "base_uri": "https://localhost:8080/"
        },
        "id": "MxFLpaT29Pjo",
        "outputId": "213d8101-d6ef-42e5-f022-51e59d81ac13"
      },
      "execution_count": 24,
      "outputs": [
        {
          "output_type": "stream",
          "name": "stdout",
          "text": [
            "Acurácia: 0.5196850393700787\n"
          ]
        }
      ]
    },
    {
      "cell_type": "code",
      "source": [
        "# Cálculo do F1-score por classe\n",
        "f1_classes = []\n",
        "for i in range(3):\n",
        "    precision = confusion_matrix[i, i] / np.sum(confusion_matrix[:, i])\n",
        "    recall = confusion_matrix[i, i] / np.sum(confusion_matrix[i, :])\n",
        "    f1_classes.append(2 * (precision * recall) / (precision + recall))\n",
        "\n",
        "# Impressão dos resultados\n",
        "print(\"F1-score por classe:\")\n",
        "print(f\"Empate : {f1_classes[0]:.4f}\")\n",
        "print(f\"Vitória: {f1_classes[1]:.4f}\")\n",
        "print(f\"Derrota: {f1_classes[2]:.4f}\")\n",
        "\n",
        "# Cálculo do F1-score geral\n",
        "f1_geral = np.mean(f1_classes)\n",
        "\n",
        "# Impressão do resultado\n",
        "print(\"F1-score geral:\", f1_geral)\n",
        "\n",
        "# F1-score = 2 * (Precisão * Recall) / (Precisão + Recall)\n",
        "# O F1-score é uma métrica que combina precisão e recall em uma única medida,\n",
        "# sendo útil para avaliar o desempenho do modelo em problemas de classificação\n",
        "# com múltiplas classes."
      ],
      "metadata": {
        "colab": {
          "base_uri": "https://localhost:8080/"
        },
        "id": "_CRDf4_F-o6i",
        "outputId": "676f4c4a-0fbc-4d4e-c78a-273ee6f8cdc3"
      },
      "execution_count": 25,
      "outputs": [
        {
          "output_type": "stream",
          "name": "stdout",
          "text": [
            "F1-score por classe:\n",
            "Empate : 0.0351\n",
            "Vitória: 0.6810\n",
            "Derrota: 0.1190\n",
            "F1-score geral: 0.27837450769781596\n"
          ]
        }
      ]
    },
    {
      "cell_type": "markdown",
      "source": [
        "# ETAPA 2"
      ],
      "metadata": {
        "id": "OTRH9LgMXMgm"
      }
    },
    {
      "cell_type": "markdown",
      "source": [
        "# Oversampling"
      ],
      "metadata": {
        "id": "mUCa7vo1-0bO"
      }
    },
    {
      "cell_type": "code",
      "source": [
        "# Verificando distribuição das variáveis target\n",
        "target.value_counts()"
      ],
      "metadata": {
        "colab": {
          "base_uri": "https://localhost:8080/"
        },
        "id": "jgdWpvCeALHb",
        "outputId": "f592a0b7-b300-4f2c-faeb-7bdd94bf887f"
      },
      "execution_count": 26,
      "outputs": [
        {
          "output_type": "execute_result",
          "data": {
            "text/plain": [
              "1    1258\n",
              "0     674\n",
              "2     608\n",
              "Name: classe_resultado, dtype: int64"
            ]
          },
          "metadata": {},
          "execution_count": 26
        }
      ]
    },
    {
      "cell_type": "code",
      "source": [
        "# Biblioteca para balanceamento de carga.\n",
        "from imblearn.over_sampling import SMOTE"
      ],
      "metadata": {
        "id": "P_6ZnUVz-zal"
      },
      "execution_count": 27,
      "outputs": []
    },
    {
      "cell_type": "code",
      "source": [
        "##### >>>> Solucao do erro da celula abaixo Sujerida pelo Google <<<< #####\n",
        "# from sklearn.preprocessing import LabelEncoder\n",
        "\n",
        "# # Create a LabelEncoder object\n",
        "# label_encoder = LabelEncoder()\n",
        "\n",
        "# # Encode the target variable (target = y)\n",
        "# y_encoded = label_encoder.fit_transform(target)\n",
        "\n",
        "# Apply SMOTE to the encoded target variable (features = X)\n",
        "smote = SMOTE(random_state=42)\n",
        "# X_resampled, y_resampled = smote.fit_resample(features, y_encoded)\n",
        "X_resampled, y_resampled = smote.fit_resample(features, target)"
      ],
      "metadata": {
        "id": "BQDykX3F-_cD"
      },
      "execution_count": 28,
      "outputs": []
    },
    {
      "cell_type": "code",
      "source": [
        "# Verificando distribuição das variáveis target após balancemaneto por oversample\n",
        "y_df = y_resampled\n",
        "y_DF = pd.DataFrame(y_df)\n",
        "y_DF.value_counts()"
      ],
      "metadata": {
        "colab": {
          "base_uri": "https://localhost:8080/"
        },
        "id": "2SYv9PEe_i3E",
        "outputId": "0e336650-9e0a-4d8d-82bd-e79f60fab69b"
      },
      "execution_count": 29,
      "outputs": [
        {
          "output_type": "execute_result",
          "data": {
            "text/plain": [
              "classe_resultado\n",
              "0                   1258\n",
              "1                   1258\n",
              "2                   1258\n",
              "dtype: int64"
            ]
          },
          "metadata": {},
          "execution_count": 29
        }
      ]
    },
    {
      "cell_type": "code",
      "source": [
        "# Divisão do conjunto de dados em treino e teste\n",
        "X_train_bal, X_test_bal, y_train_bal, y_test_bal = train_test_split(X_resampled,\n",
        "                                                                    y_resampled,\n",
        "                                                                 test_size=0.25,\n",
        "                                                                random_state=42)"
      ],
      "metadata": {
        "id": "7_IZpcFTomZb"
      },
      "execution_count": 30,
      "outputs": []
    },
    {
      "cell_type": "code",
      "source": [
        "# Criação de instancia do modelo de regressão logística multinomial\n",
        "logReg_bal = LogisticRegression(multi_class='multinomial',\n",
        "                                solver='lbfgs',\n",
        "                                max_iter=1000,\n",
        "                                verbose=10)"
      ],
      "metadata": {
        "id": "4iURyDjx_JMk"
      },
      "execution_count": 31,
      "outputs": []
    },
    {
      "cell_type": "code",
      "source": [
        "# Treinamento do modelo\n",
        "logReg_bal = logReg_bal.fit(X_train_bal, y_train_bal)\n",
        "\n",
        "# Imprime Acurácia do modelo\n",
        "print(\"Acurácia do treinamento: %f\" % logReg_bal.score(X_resampled, y_resampled))\n",
        "print(\"Acurácia do teste: %f\" % logReg_bal.score(X_test_bal, y_test_bal))"
      ],
      "metadata": {
        "colab": {
          "base_uri": "https://localhost:8080/"
        },
        "id": "Wu9LMifqBJCS",
        "outputId": "8ef117cb-5c8f-4380-8517-8ee2e19447c6"
      },
      "execution_count": 32,
      "outputs": [
        {
          "output_type": "stream",
          "name": "stdout",
          "text": [
            "Acurácia do treinamento: 0.383943\n",
            "Acurácia do teste: 0.369703\n"
          ]
        },
        {
          "output_type": "stream",
          "name": "stderr",
          "text": [
            "[Parallel(n_jobs=1)]: Done   1 tasks      | elapsed:    0.0s\n",
            "[Parallel(n_jobs=1)]: Done   1 tasks      | elapsed:    0.0s\n"
          ]
        }
      ]
    },
    {
      "cell_type": "code",
      "source": [
        "# Salva o modelo\n",
        "with open('logReg_bal_model.pkl', 'wb') as f:\n",
        "    pickle.dump(logReg_bal, f)"
      ],
      "metadata": {
        "id": "AGMVEhx4qqw0"
      },
      "execution_count": 33,
      "outputs": []
    },
    {
      "cell_type": "code",
      "source": [
        "# Carregue o modelo\n",
        "with open('logReg_bal_model.pkl', 'rb') as f:\n",
        "    logReg_bal_loaded = pickle.load(f)"
      ],
      "metadata": {
        "id": "UHU-uiHBq7rL"
      },
      "execution_count": 34,
      "outputs": []
    },
    {
      "cell_type": "code",
      "source": [
        "#imprimir a Matriz de Confusão para Regressão Logística\n",
        "logReg_bal_y_pred = logReg_bal_loaded.predict(X_test_bal)\n",
        "\n",
        "logReg_bal_cm = metrics.confusion_matrix(logReg_bal_y_pred, y_test_bal)\n",
        "\n",
        "sns.heatmap(logReg_bal_cm, annot=True, fmt='.0f', xticklabels = [\"Empate\", \"Vitória\", \"Derrota\"] , yticklabels = [\"Empate\", \"Vitória\", \"Derrota\"] )\n",
        "\n",
        "plt.ylabel('Predição Modelo')\n",
        "plt.xlabel('Classificação Real')\n",
        "plt.title('Modelo Regressão logística')"
      ],
      "metadata": {
        "colab": {
          "base_uri": "https://localhost:8080/",
          "height": 490
        },
        "id": "WpgklXc7qdj6",
        "outputId": "a6b6500b-9e68-4736-bd6c-c9cc55f42cbe"
      },
      "execution_count": 36,
      "outputs": [
        {
          "output_type": "execute_result",
          "data": {
            "text/plain": [
              "Text(0.5, 1.0, 'Modelo Regressão logística')"
            ]
          },
          "metadata": {},
          "execution_count": 36
        },
        {
          "output_type": "display_data",
          "data": {
            "text/plain": [
              "<Figure size 640x480 with 2 Axes>"
            ],
            "image/png": "[encoded data removed]"
          },
          "metadata": {}
        }
      ]
    },
    {
      "cell_type": "code",
      "source": [],
      "metadata": {
        "id": "mn3ksCCIOSv4"
      },
      "execution_count": null,
      "outputs": []
    },
    {
      "cell_type": "code",
      "source": [
        "#type(mlp_cm)\n",
        "type(logReg_bal_cm)"
      ],
      "metadata": {
        "colab": {
          "base_uri": "https://localhost:8080/"
        },
        "outputId": "325f275a-b878-47fc-db78-adbd8ba0ffda",
        "id": "6QymYEsnOYW1"
      },
      "execution_count": 37,
      "outputs": [
        {
          "output_type": "execute_result",
          "data": {
            "text/plain": [
              "numpy.ndarray"
            ]
          },
          "metadata": {},
          "execution_count": 37
        }
      ]
    },
    {
      "cell_type": "code",
      "source": [
        "#mlp_cm\n",
        "confusion_matrix = logReg_bal_cm\n",
        "confusion_matrix"
      ],
      "metadata": {
        "colab": {
          "base_uri": "https://localhost:8080/"
        },
        "outputId": "473b09fd-9d20-41e3-84eb-3cc48294f46e",
        "id": "DSvIzoNaOYW4"
      },
      "execution_count": 38,
      "outputs": [
        {
          "output_type": "execute_result",
          "data": {
            "text/plain": [
              "array([[ 60,  72,  59],\n",
              "       [117, 164, 118],\n",
              "       [130,  99, 125]])"
            ]
          },
          "metadata": {},
          "execution_count": 38
        }
      ]
    },
    {
      "cell_type": "code",
      "source": [
        "# Cálculo da precisão por classe\n",
        "precision_classes = []\n",
        "for i in range(3):\n",
        "    precision_classes.append(confusion_matrix[i, i] / np.sum(confusion_matrix[:, i]))\n",
        "\n",
        "# Impressão dos resultados\n",
        "print(\"Precisão por classe:\")\n",
        "print(f\"Empate : {precision_classes[0]:.4f}\")\n",
        "print(f\"Vitória: {precision_classes[1]:.4f}\")\n",
        "print(f\"Derrota: {precision_classes[2]:.4f}\")\n",
        "\n",
        "# f\"Valor: {valor:.4f}\"\n",
        "\n",
        "# Cálculo da precisão geral\n",
        "precision_geral = np.trace(confusion_matrix) / np.sum(confusion_matrix)\n",
        "\n",
        "# Impressão da precisão geral\n",
        "print(\"Precisão geral:\", precision_geral)\n",
        "\n",
        "# A precisão mede a proporção de previsões positivas feitas pelo modelo que\n",
        "# estão corretas. Em outras palavras, ela indica a confiabilidade das previsões\n",
        "# do modelo.\n",
        "\n",
        "# Uma alta precisão para uma classe indica que o modelo é confiável na\n",
        "# identificação de exemplos dessa classe.\n",
        "# Uma baixa precisão pode indicar que o modelo está confundindo a classe com\n",
        "# outras classes.\n",
        "\n",
        "# A precisão é sensível ao desequilíbrio de classes.\n",
        "# Se uma classe for muito mais frequente que as outras, a precisão geral pode\n",
        "# ser alta mesmo que o modelo tenha um desempenho ruim na identificação das\n",
        "# classes menos frequentes."
      ],
      "metadata": {
        "colab": {
          "base_uri": "https://localhost:8080/"
        },
        "outputId": "6d102826-a505-4499-d5a9-bedfedae273f",
        "id": "6RBQSMTrOYW5"
      },
      "execution_count": 39,
      "outputs": [
        {
          "output_type": "stream",
          "name": "stdout",
          "text": [
            "Precisão por classe:\n",
            "Empate : 0.1954\n",
            "Vitória: 0.4896\n",
            "Derrota: 0.4139\n",
            "Precisão geral: 0.3697033898305085\n"
          ]
        }
      ]
    },
    {
      "cell_type": "code",
      "source": [
        "# Cálculo do recall por classe\n",
        "recall_classes = []\n",
        "for i in range(3):\n",
        "    recall_classes.append(confusion_matrix[i, i] / np.sum(confusion_matrix[i, :]))\n",
        "\n",
        "# Impressão dos resultados\n",
        "print(\"Recall por classe:\")\n",
        "print(f\"Empate : {recall_classes[0]:.4f}\")\n",
        "print(f\"Vitória: {recall_classes[1]:.4f}\")\n",
        "print(f\"Derrota: {recall_classes[2]:.4f}\")\n",
        "\n",
        "#==============================================================================\n",
        "# Recall = Verdadeiros Positivos / (Verdadeiros Positivos + Falsos Negativos)\n",
        "#==============================================================================\n",
        "# O recall é uma métrica importante para avaliar a capacidade do modelo de\n",
        "# identificar todos os exemplos de uma classe, mesmo que isso signifique que ele\n",
        "# irá classificar incorretamente alguns exemplos de outras classes."
      ],
      "metadata": {
        "colab": {
          "base_uri": "https://localhost:8080/"
        },
        "outputId": "fa4e4ae5-5c53-4d4b-b2f6-327e98583fd9",
        "id": "0kTSmBNzOYW6"
      },
      "execution_count": 40,
      "outputs": [
        {
          "output_type": "stream",
          "name": "stdout",
          "text": [
            "Recall por classe:\n",
            "Empate : 0.3141\n",
            "Vitória: 0.4110\n",
            "Derrota: 0.3531\n"
          ]
        }
      ]
    },
    {
      "cell_type": "code",
      "source": [
        "# Cálculo da acurácia\n",
        "accuracy = np.trace(confusion_matrix) / np.sum(confusion_matrix)\n",
        "\n",
        "# Impressão do resultado\n",
        "print(\"Acurácia:\", accuracy)\n",
        "\n",
        "# É importante verificar se a matriz de confusão está correta antes de calcular\n",
        "# a acurácia.\n",
        "# A acurácia é uma métrica simples que indica a proporção de exemplos que foram\n",
        "# classificados corretamente pelo modelo. No entanto, ela pode ser enganosa em\n",
        "# casos de desbalanceamento de classes, quando uma classe é muito mais frequente\n",
        "# que as outras."
      ],
      "metadata": {
        "colab": {
          "base_uri": "https://localhost:8080/"
        },
        "outputId": "cf2b768f-3688-49fc-e6b7-59c1835b0d55",
        "id": "jxbw9iShOYW8"
      },
      "execution_count": 41,
      "outputs": [
        {
          "output_type": "stream",
          "name": "stdout",
          "text": [
            "Acurácia: 0.3697033898305085\n"
          ]
        }
      ]
    },
    {
      "cell_type": "code",
      "source": [
        "# Cálculo do F1-score por classe\n",
        "f1_classes = []\n",
        "for i in range(3):\n",
        "    precision = confusion_matrix[i, i] / np.sum(confusion_matrix[:, i])\n",
        "    recall = confusion_matrix[i, i] / np.sum(confusion_matrix[i, :])\n",
        "    f1_classes.append(2 * (precision * recall) / (precision + recall))\n",
        "\n",
        "# Impressão dos resultados\n",
        "print(\"F1-score por classe:\")\n",
        "print(f\"Empate : {f1_classes[0]:.4f}\")\n",
        "print(f\"Vitória: {f1_classes[1]:.4f}\")\n",
        "print(f\"Derrota: {f1_classes[2]:.4f}\")\n",
        "\n",
        "# Cálculo do F1-score geral\n",
        "f1_geral = np.mean(f1_classes)\n",
        "\n",
        "# Impressão do resultado\n",
        "print(\"F1-score geral:\", f1_geral)\n",
        "\n",
        "# F1-score = 2 * (Precisão * Recall) / (Precisão + Recall)\n",
        "# O F1-score é uma métrica que combina precisão e recall em uma única medida,\n",
        "# sendo útil para avaliar o desempenho do modelo em problemas de classificação\n",
        "# com múltiplas classes."
      ],
      "metadata": {
        "colab": {
          "base_uri": "https://localhost:8080/"
        },
        "outputId": "3f0298ca-64a7-410b-ec56-538ee893262d",
        "id": "9kfGaXfsOYW9"
      },
      "execution_count": 42,
      "outputs": [
        {
          "output_type": "stream",
          "name": "stdout",
          "text": [
            "F1-score por classe:\n",
            "Empate : 0.2410\n",
            "Vitória: 0.4469\n",
            "Derrota: 0.3811\n",
            "F1-score geral: 0.35630930047030684\n"
          ]
        }
      ]
    },
    {
      "cell_type": "markdown",
      "source": [
        "# ETAPA 3"
      ],
      "metadata": {
        "id": "P6iHyWq1UfTh"
      }
    },
    {
      "cell_type": "code",
      "source": [
        "# Instanciando o treinamento Regressão logistica\n",
        "lr_3 = LogisticRegression()"
      ],
      "metadata": {
        "id": "SEXjcXI5SAv-"
      },
      "execution_count": 43,
      "outputs": []
    },
    {
      "cell_type": "code",
      "source": [
        "# biblioteca para o método GridSearchCV.\n",
        "from sklearn.model_selection import GridSearchCV"
      ],
      "metadata": {
        "id": "OwvEYAN6F6Ic"
      },
      "execution_count": 44,
      "outputs": []
    },
    {
      "cell_type": "code",
      "source": [
        "# Definir os hiperparâmetros a serem testados\n",
        "parameter_space = {'C': [0.001, 0.01, 0.1, 1, 10, 100], 'penalty': ['l1', 'l2']}"
      ],
      "metadata": {
        "id": "1pGS0rS9QoT3"
      },
      "execution_count": 45,
      "outputs": []
    },
    {
      "cell_type": "markdown",
      "source": [],
      "metadata": {
        "id": "a80dO1TjAWsV"
      }
    },
    {
      "cell_type": "code",
      "source": [
        "# Criar o objeto GridSearchCV\n",
        "grid_search = GridSearchCV(lr_3, parameter_space, cv=5, scoring='accuracy')"
      ],
      "metadata": {
        "id": "ACLrHRRdSDfV"
      },
      "execution_count": 46,
      "outputs": []
    },
    {
      "cell_type": "code",
      "source": [
        "# treina modelo com os parametros otimizados encotrados com GridSearchCV().\n",
        "lr_gs = grid_search.fit(X_train_bal, y_train_bal)"
      ],
      "metadata": {
        "colab": {
          "base_uri": "https://localhost:8080/"
        },
        "id": "r5GmzyFAOByw",
        "outputId": "d5f75487-d01f-4ef5-deca-86ebccbc5601"
      },
      "execution_count": 47,
      "outputs": [
        {
          "output_type": "stream",
          "name": "stderr",
          "text": [
            "/usr/local/lib/python3.10/dist-packages/sklearn/model_selection/_validation.py:378: FitFailedWarning: \n",
            "30 fits failed out of a total of 60.\n",
            "The score on these train-test partitions for these parameters will be set to nan.\n",
            "If these failures are not expected, you can try to debug them by setting error_score='raise'.\n",
            "\n",
            "Below are more details about the failures:\n",
            "--------------------------------------------------------------------------------\n",
            "30 fits failed with the following error:\n",
            "Traceback (most recent call last):\n",
            "  File \"/usr/local/lib/python3.10/dist-packages/sklearn/model_selection/_validation.py\", line 686, in _fit_and_score\n",
            "    estimator.fit(X_train, y_train, **fit_params)\n",
            "  File \"/usr/local/lib/python3.10/dist-packages/sklearn/linear_model/_logistic.py\", line 1162, in fit\n",
            "    solver = _check_solver(self.solver, self.penalty, self.dual)\n",
            "  File \"/usr/local/lib/python3.10/dist-packages/sklearn/linear_model/_logistic.py\", line 54, in _check_solver\n",
            "    raise ValueError(\n",
            "ValueError: Solver lbfgs supports only 'l2' or 'none' penalties, got l1 penalty.\n",
            "\n",
            "  warnings.warn(some_fits_failed_message, FitFailedWarning)\n",
            "/usr/local/lib/python3.10/dist-packages/sklearn/model_selection/_search.py:952: UserWarning: One or more of the test scores are non-finite: [       nan 0.37915194        nan 0.38056537        nan 0.38056537\n",
            "        nan 0.38021201        nan 0.38021201        nan 0.38021201]\n",
            "  warnings.warn(\n"
          ]
        }
      ]
    },
    {
      "cell_type": "code",
      "source": [
        "# Obter os melhores parâmetros encontrados\n",
        "print('Best parameters found:\\n', grid_search.best_params_)"
      ],
      "metadata": {
        "colab": {
          "base_uri": "https://localhost:8080/"
        },
        "id": "XSQCyQgiSGle",
        "outputId": "e7b5b16e-6641-4f5c-e5e0-db82d8618c32"
      },
      "execution_count": 48,
      "outputs": [
        {
          "output_type": "stream",
          "name": "stdout",
          "text": [
            "Best parameters found:\n",
            " {'C': 0.01, 'penalty': 'l2'}\n"
          ]
        }
      ]
    },
    {
      "cell_type": "code",
      "source": [
        "# # Imprimir os melhores parâmetros\n",
        "# print(f'Melhores Parâmetros: {grid_search.best_params_}')"
      ],
      "metadata": {
        "id": "dd2H2nMbSqZq"
      },
      "execution_count": null,
      "outputs": []
    },
    {
      "cell_type": "code",
      "source": [
        "# # Criação de instancia do modelo de regressão logística multinomial com parametros otimizados.\n",
        "# gs_lr = LogisticRegression(penalty= 'l2',\n",
        "#                            C=0.01,\n",
        "#                            multi_class='multinomial',\n",
        "#                            solver='lbfgs',\n",
        "#                            max_iter=1000,\n",
        "#                            verbose=10)"
      ],
      "metadata": {
        "id": "rKgmq_4q68hK"
      },
      "execution_count": null,
      "outputs": []
    },
    {
      "cell_type": "code",
      "source": [
        "# # Treinamento do modelo\n",
        "# gs_lr = gs_lr.fit(X_train_bal, y_train_bal)\n",
        "\n",
        "# # Imprime Acurácia do modelo\n",
        "# print(\"Acurácia do treinamento: %f\" % gs_lr.score(X_resampled, y_resampled))\n",
        "# print(\"Acurácia do teste: %f\" % gs_lr.score(X_test_bal, y_test_bal))"
      ],
      "metadata": {
        "id": "UqWrzoXz8Jl8"
      },
      "execution_count": 49,
      "outputs": []
    },
    {
      "cell_type": "code",
      "source": [
        "# # Treinar o modelo usando a busca em grade\n",
        "# gs_lr_b = grid_search.fit(X_train_bal, y_train_bal)"
      ],
      "metadata": {
        "id": "HvcVcq5W65BU"
      },
      "execution_count": 50,
      "outputs": []
    },
    {
      "cell_type": "code",
      "source": [
        "# # Imprime Acurácia do modelo\n",
        "# print(\"Acurácia do treinamento: %f\" % gs_lr_b.score(X_train, y_train))\n",
        "# print(\"Acurácia do teste: %f\" % gs_lr_b.score(X_test, y_test))"
      ],
      "metadata": {
        "id": "DrvfLaxhaae8"
      },
      "execution_count": 51,
      "outputs": []
    },
    {
      "cell_type": "code",
      "source": [
        "# Imprime Acurácia do modelo\n",
        "print(\"Acurácia do treinamento: %f\" % lr_gs.score(X_train, y_train))\n",
        "print(\"Acurácia do teste: %f\" % lr_gs.score(X_test, y_test))"
      ],
      "metadata": {
        "colab": {
          "base_uri": "https://localhost:8080/"
        },
        "id": "-ahY3qQgTbIZ",
        "outputId": "8e71b635-4e11-41cf-b762-505fd5086986"
      },
      "execution_count": 52,
      "outputs": [
        {
          "output_type": "stream",
          "name": "stdout",
          "text": [
            "Acurácia do treinamento: 0.396850\n",
            "Acurácia do teste: 0.414173\n"
          ]
        }
      ]
    },
    {
      "cell_type": "markdown",
      "source": [
        "# Salvando parametros dos modelos."
      ],
      "metadata": {
        "id": "LkszPVHgPmV5"
      }
    },
    {
      "cell_type": "code",
      "source": [
        "import pickle"
      ],
      "metadata": {
        "id": "v2WVUIL7S2MN"
      },
      "execution_count": 53,
      "outputs": []
    },
    {
      "cell_type": "code",
      "source": [
        "# Salva o modelo (multinomial logistic regression)\n",
        "with open('lrgs_bal_otm.pkl', 'wb') as f:\n",
        "    pickle.dump(lr_gs, f)\n",
        "\n",
        "# Carregue o modelo\n",
        "with open('lrgs_bal_otm.pkl', 'rb') as f:\n",
        "    lrgs_loaded = pickle.load(f)"
      ],
      "metadata": {
        "id": "CSwIbg-eQt4v"
      },
      "execution_count": 54,
      "outputs": []
    },
    {
      "cell_type": "code",
      "source": [
        "# # Salva o modelo (multinomial logistic regression)\n",
        "# with open('gslr_bal_otm.pkl', 'wb') as f:\n",
        "#     pickle.dump(gs_lr, f)\n",
        "\n",
        "# # Carregue o modelo\n",
        "# with open('gslr_bal_otm.pkl', 'rb') as f:\n",
        "#     gslr_loaded = pickle.load(f)"
      ],
      "metadata": {
        "id": "jAnoIcPuQy3y"
      },
      "execution_count": null,
      "outputs": []
    },
    {
      "cell_type": "code",
      "source": [
        "# # Salva o modelo (multinomial logistic regression)\n",
        "# with open('gslr_b.pkl', 'wb') as f:\n",
        "#     pickle.dump(gs_lr_b, f)\n",
        "\n",
        "# # Carregue o modelo\n",
        "# with open('gslr_b.pkl', 'rb') as f:\n",
        "#    gslr_b_loaded = pickle.load(f)"
      ],
      "metadata": {
        "id": "WLC1jtQUQ3jt"
      },
      "execution_count": null,
      "outputs": []
    },
    {
      "cell_type": "code",
      "source": [
        "#imprimir a Matriz de Confusão para Regressão Logística com parametros otimizados.\n",
        "y_pred_model_otm = lrgs_loaded.predict(X_test_bal)\n",
        "\n",
        "lrgs_cm = metrics.confusion_matrix(y_pred_model_otm, y_test_bal)\n",
        "\n",
        "sns.heatmap(lrgs_cm, annot=True, fmt='.0f', xticklabels = [\"Empate\", \"Vitória\", \"Derrota\"] , yticklabels = [\"Empate\", \"Vitória\", \"Derrota\"] )\n",
        "\n",
        "plt.ylabel('Predição Modelo')\n",
        "plt.xlabel('Classificação Real')\n",
        "plt.title('Modelo Regressão logística')"
      ],
      "metadata": {
        "colab": {
          "base_uri": "https://localhost:8080/",
          "height": 490
        },
        "id": "HOkZtUpBTpu7",
        "outputId": "90f90d0e-ff3b-43fc-ab6b-561b674b16ba"
      },
      "execution_count": 56,
      "outputs": [
        {
          "output_type": "execute_result",
          "data": {
            "text/plain": [
              "Text(0.5, 1.0, 'Modelo Regressão logística')"
            ]
          },
          "metadata": {},
          "execution_count": 56
        },
        {
          "output_type": "display_data",
          "data": {
            "text/plain": [
              "<Figure size 640x480 with 2 Axes>"
            ],
            "image/png": "[encoded data removed]"
          },
          "metadata": {}
        }
      ]
    },
    {
      "cell_type": "code",
      "source": [],
      "metadata": {
        "id": "2yA0g4HqQOWw"
      },
      "execution_count": null,
      "outputs": []
    },
    {
      "cell_type": "code",
      "source": [
        "#type(mlp_cm)\n",
        "type(confusion_matrix)"
      ],
      "metadata": {
        "colab": {
          "base_uri": "https://localhost:8080/"
        },
        "outputId": "eeaeb4eb-316b-496e-c1ce-f483bf0706f4",
        "id": "ivOl2_W9QTei"
      },
      "execution_count": 57,
      "outputs": [
        {
          "output_type": "execute_result",
          "data": {
            "text/plain": [
              "numpy.ndarray"
            ]
          },
          "metadata": {},
          "execution_count": 57
        }
      ]
    },
    {
      "cell_type": "code",
      "source": [
        "#mlp_cm\n",
        "confusion_matrix = lrgs_cm\n",
        "confusion_matrix"
      ],
      "metadata": {
        "colab": {
          "base_uri": "https://localhost:8080/"
        },
        "outputId": "d93615fe-01c8-4e2c-b845-3732ddae87a2",
        "id": "fbBaSPe9QTeu"
      },
      "execution_count": 58,
      "outputs": [
        {
          "output_type": "execute_result",
          "data": {
            "text/plain": [
              "array([[ 59,  70,  59],\n",
              "       [117, 164, 118],\n",
              "       [131, 101, 125]])"
            ]
          },
          "metadata": {},
          "execution_count": 58
        }
      ]
    },
    {
      "cell_type": "code",
      "source": [
        "# Cálculo da precisão por classe\n",
        "precision_classes = []\n",
        "for i in range(3):\n",
        "    precision_classes.append(confusion_matrix[i, i] / np.sum(confusion_matrix[:, i]))\n",
        "\n",
        "# Impressão dos resultados\n",
        "print(\"Precisão por classe:\")\n",
        "print(f\"Empate : {precision_classes[0]:.4f}\")\n",
        "print(f\"Vitória: {precision_classes[1]:.4f}\")\n",
        "print(f\"Derrota: {precision_classes[2]:.4f}\")\n",
        "\n",
        "# f\"Valor: {valor:.4f}\"\n",
        "\n",
        "# Cálculo da precisão geral\n",
        "precision_geral = np.trace(confusion_matrix) / np.sum(confusion_matrix)\n",
        "\n",
        "# Impressão da precisão geral\n",
        "print(\"Precisão geral:\", precision_geral)\n",
        "\n",
        "# A precisão mede a proporção de previsões positivas feitas pelo modelo que\n",
        "# estão corretas. Em outras palavras, ela indica a confiabilidade das previsões\n",
        "# do modelo.\n",
        "\n",
        "# Uma alta precisão para uma classe indica que o modelo é confiável na\n",
        "# identificação de exemplos dessa classe.\n",
        "# Uma baixa precisão pode indicar que o modelo está confundindo a classe com\n",
        "# outras classes.\n",
        "\n",
        "# A precisão é sensível ao desequilíbrio de classes.\n",
        "# Se uma classe for muito mais frequente que as outras, a precisão geral pode\n",
        "# ser alta mesmo que o modelo tenha um desempenho ruim na identificação das\n",
        "# classes menos frequentes."
      ],
      "metadata": {
        "colab": {
          "base_uri": "https://localhost:8080/"
        },
        "outputId": "f9ddacd9-9e50-484a-d1c7-77b79971ef41",
        "id": "Z4cmYKctQTeu"
      },
      "execution_count": 59,
      "outputs": [
        {
          "output_type": "stream",
          "name": "stdout",
          "text": [
            "Precisão por classe:\n",
            "Empate : 0.1922\n",
            "Vitória: 0.4896\n",
            "Derrota: 0.4139\n",
            "Precisão geral: 0.3686440677966102\n"
          ]
        }
      ]
    },
    {
      "cell_type": "code",
      "source": [
        "# Cálculo do recall por classe\n",
        "recall_classes = []\n",
        "for i in range(3):\n",
        "    recall_classes.append(confusion_matrix[i, i] / np.sum(confusion_matrix[i, :]))\n",
        "\n",
        "# Impressão dos resultados\n",
        "print(\"Recall por classe:\")\n",
        "print(f\"Empate : {recall_classes[0]:.4f}\")\n",
        "print(f\"Vitória: {recall_classes[1]:.4f}\")\n",
        "print(f\"Derrota: {recall_classes[2]:.4f}\")\n",
        "\n",
        "#==============================================================================\n",
        "# Recall = Verdadeiros Positivos / (Verdadeiros Positivos + Falsos Negativos)\n",
        "#==============================================================================\n",
        "# O recall é uma métrica importante para avaliar a capacidade do modelo de\n",
        "# identificar todos os exemplos de uma classe, mesmo que isso signifique que ele\n",
        "# irá classificar incorretamente alguns exemplos de outras classes."
      ],
      "metadata": {
        "colab": {
          "base_uri": "https://localhost:8080/"
        },
        "outputId": "40501773-01e5-4c0d-af18-09acdea0f8d8",
        "id": "C59Xxq1SQTev"
      },
      "execution_count": 60,
      "outputs": [
        {
          "output_type": "stream",
          "name": "stdout",
          "text": [
            "Recall por classe:\n",
            "Empate : 0.3138\n",
            "Vitória: 0.4110\n",
            "Derrota: 0.3501\n"
          ]
        }
      ]
    },
    {
      "cell_type": "code",
      "source": [
        "# Cálculo da acurácia\n",
        "accuracy = np.trace(confusion_matrix) / np.sum(confusion_matrix)\n",
        "\n",
        "# Impressão do resultado\n",
        "print(\"Acurácia:\", accuracy)\n",
        "\n",
        "# É importante verificar se a matriz de confusão está correta antes de calcular\n",
        "# a acurácia.\n",
        "# A acurácia é uma métrica simples que indica a proporção de exemplos que foram\n",
        "# classificados corretamente pelo modelo. No entanto, ela pode ser enganosa em\n",
        "# casos de desbalanceamento de classes, quando uma classe é muito mais frequente\n",
        "# que as outras."
      ],
      "metadata": {
        "colab": {
          "base_uri": "https://localhost:8080/"
        },
        "outputId": "12994030-7aae-481b-fef9-3935ce412232",
        "id": "r_hurET-QTew"
      },
      "execution_count": 61,
      "outputs": [
        {
          "output_type": "stream",
          "name": "stdout",
          "text": [
            "Acurácia: 0.3686440677966102\n"
          ]
        }
      ]
    },
    {
      "cell_type": "code",
      "source": [
        "# Cálculo do F1-score por classe\n",
        "f1_classes = []\n",
        "for i in range(3):\n",
        "    precision = confusion_matrix[i, i] / np.sum(confusion_matrix[:, i])\n",
        "    recall = confusion_matrix[i, i] / np.sum(confusion_matrix[i, :])\n",
        "    f1_classes.append(2 * (precision * recall) / (precision + recall))\n",
        "\n",
        "# Impressão dos resultados\n",
        "print(\"F1-score por classe:\")\n",
        "print(f\"Empate : {f1_classes[0]:.4f}\")\n",
        "print(f\"Vitória: {f1_classes[1]:.4f}\")\n",
        "print(f\"Derrota: {f1_classes[2]:.4f}\")\n",
        "\n",
        "# Cálculo do F1-score geral\n",
        "f1_geral = np.mean(f1_classes)\n",
        "\n",
        "# Impressão do resultado\n",
        "print(\"F1-score geral:\", f1_geral)\n",
        "\n",
        "# F1-score = 2 * (Precisão * Recall) / (Precisão + Recall)\n",
        "# O F1-score é uma métrica que combina precisão e recall em uma única medida,\n",
        "# sendo útil para avaliar o desempenho do modelo em problemas de classificação\n",
        "# com múltiplas classes."
      ],
      "metadata": {
        "colab": {
          "base_uri": "https://localhost:8080/"
        },
        "outputId": "88f411f6-b972-4fa1-b962-9ee49e34eadd",
        "id": "uzNhMFUYQTew"
      },
      "execution_count": 62,
      "outputs": [
        {
          "output_type": "stream",
          "name": "stdout",
          "text": [
            "F1-score por classe:\n",
            "Empate : 0.2384\n",
            "Vitória: 0.4469\n",
            "Derrota: 0.3794\n",
            "F1-score geral: 0.35487099803688804\n"
          ]
        }
      ]
    },
    {
      "cell_type": "code",
      "source": [
        "# #imprimir a Matriz de Confusão para Regressão Logística com parametros otimizados.\n",
        "# y_pred_model_otm_2 = gslr_loaded.predict(X_test_bal)\n",
        "\n",
        "# gslr_cm = metrics.confusion_matrix(y_pred_model_otm_2, y_test_bal)\n",
        "\n",
        "# sns.heatmap(gslr_cm, annot=True, fmt='.0f', xticklabels = [\"Empate\", \"Vitória\", \"Derrota\"] , yticklabels = [\"Empate\", \"Vitória\", \"Derrota\"] )\n",
        "\n",
        "# plt.ylabel('Predição Modelo')\n",
        "# plt.xlabel('Classificação Real')\n",
        "# plt.title('Modelo Regressão logística')"
      ],
      "metadata": {
        "id": "iy99xjLTTxXh"
      },
      "execution_count": 63,
      "outputs": []
    },
    {
      "cell_type": "code",
      "source": [
        "# #imprimir a Matriz de Confusão para Regressão Logística com parametros otimizados.\n",
        "# y_pred_model_otm_3 = gslr_b_loaded.predict(X_test_bal)\n",
        "\n",
        "# gslr_b_cm = metrics.confusion_matrix(y_pred_model_otm_3, y_test_bal)\n",
        "\n",
        "# sns.heatmap(gslr_b_cm, annot=True, fmt='.0f', xticklabels = [\"Empate\", \"Vitória\", \"Derrota\"] , yticklabels = [\"Empate\", \"Vitória\", \"Derrota\"] )\n",
        "\n",
        "# plt.ylabel('Predição Modelo')\n",
        "# plt.xlabel('Classificação Real')\n",
        "# plt.title('Modelo Regressão logística')"
      ],
      "metadata": {
        "id": "e2ttKF2pWeq_"
      },
      "execution_count": 64,
      "outputs": []
    },
    {
      "cell_type": "code",
      "source": [
        "# https://scikit-learn.org/stable/modules/generated/sklearn.linear_model.LogisticRegression.html"
      ],
      "metadata": {
        "id": "-6cO4ulcRxbv"
      },
      "execution_count": null,
      "outputs": []
    },
    {
      "cell_type": "code",
      "source": [
        "# https://scikit-learn.org/stable/modules/linear_model.html#logistic-regression"
      ],
      "metadata": {
        "id": "j0UeK_DdRsxv"
      },
      "execution_count": null,
      "outputs": []
    }
  ]
}