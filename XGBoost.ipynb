{
  "nbformat": 4,
  "nbformat_minor": 0,
  "metadata": {
    "colab": {
      "provenance": [],
      "authorship_tag": "ABX9TyPdWk8ejXjRa/9nd91l6L+6",
      "include_colab_link": true
    },
    "kernelspec": {
      "name": "python3",
      "display_name": "Python 3"
    },
    "language_info": {
      "name": "python"
    }
  },
  "cells": [
    {
      "cell_type": "markdown",
      "metadata": {
        "id": "view-in-github",
        "colab_type": "text"
      },
      "source": [
        "<a href=\"https://colab.research.google.com/github/paulopetrillo/PROJETO_IFMA_SOFTEX/blob/main/XGBoost.ipynb\" target=\"_parent\"><img src=\"https://colab.research.google.com/assets/colab-badge.svg\" alt=\"Open In Colab\"/></a>"
      ]
    },
    {
      "cell_type": "code",
      "source": [
        "# importa a biblioteca numpy\n",
        "import numpy as np\n",
        "print(np.__version__)"
      ],
      "metadata": {
        "colab": {
          "base_uri": "https://localhost:8080/"
        },
        "id": "uMukITnokqYS",
        "outputId": "b6756e0d-c0bd-410f-ec2c-dfed7ffd57c1"
      },
      "execution_count": 1,
      "outputs": [
        {
          "output_type": "stream",
          "name": "stdout",
          "text": [
            "1.25.2\n"
          ]
        }
      ]
    },
    {
      "cell_type": "code",
      "source": [
        "# importa biblioteca Pandas.\n",
        "import pandas as pd\n",
        "print(pd.__version__)"
      ],
      "metadata": {
        "colab": {
          "base_uri": "https://localhost:8080/"
        },
        "id": "_tdS1pSJk3Ck",
        "outputId": "86fc6ea3-2c16-4015-dc69-c8abc75475a4"
      },
      "execution_count": 2,
      "outputs": [
        {
          "output_type": "stream",
          "name": "stdout",
          "text": [
            "1.5.3\n"
          ]
        }
      ]
    },
    {
      "cell_type": "code",
      "execution_count": 3,
      "metadata": {
        "colab": {
          "base_uri": "https://localhost:8080/"
        },
        "id": "mwRdvQqNkkzN",
        "outputId": "a8ea1159-e4ee-4a8b-e4d5-35925c85d4c1"
      },
      "outputs": [
        {
          "output_type": "stream",
          "name": "stdout",
          "text": [
            "Requirement already satisfied: xgboost in /usr/local/lib/python3.10/dist-packages (2.0.3)\n",
            "Requirement already satisfied: numpy in /usr/local/lib/python3.10/dist-packages (from xgboost) (1.25.2)\n",
            "Requirement already satisfied: scipy in /usr/local/lib/python3.10/dist-packages (from xgboost) (1.11.4)\n"
          ]
        }
      ],
      "source": [
        "pip install xgboost"
      ]
    },
    {
      "cell_type": "code",
      "source": [
        "from google.colab import drive\n",
        "drive.mount('/content/drive')"
      ],
      "metadata": {
        "id": "91hZkq3RlBZL",
        "colab": {
          "base_uri": "https://localhost:8080/"
        },
        "outputId": "f2e63912-7b32-46b4-daff-8c1255760ca4"
      },
      "execution_count": 5,
      "outputs": [
        {
          "output_type": "stream",
          "name": "stdout",
          "text": [
            "Drive already mounted at /content/drive; to attempt to forcibly remount, call drive.mount(\"/content/drive\", force_remount=True).\n"
          ]
        }
      ]
    },
    {
      "cell_type": "code",
      "source": [
        "# pacotes para regressão logistica\n",
        "#from sklearn.linear_model import LogisticRegression\n",
        "from xgboost import XGBClassifier\n",
        "from sklearn.model_selection import train_test_split\n",
        "from sklearn.metrics import accuracy_score, classification_report"
      ],
      "metadata": {
        "id": "O7YeBEdelDWO"
      },
      "execution_count": 6,
      "outputs": []
    },
    {
      "cell_type": "code",
      "source": [
        "# # Grava datDataFrame_Geral em Googe drive\n",
        "# #drive.mount('/content/drive')\n",
        "# DataFrame_Geral.to_csv('./drive/MyDrive/DataFrame_Geral.csv')\n",
        "# DataFrame_Geral= pd.read_csv(\"./drive/MyDrive/Colab Notebooks/DataFrame_Geral.csv\", header=0, sep=\",\")\n",
        "DataFrame_Geral = pd.read_csv(\"./drive/MyDrive/DataFrame_Geral.csv\", header=0, sep=\",\")\n",
        "DataFrame_Geral"
      ],
      "metadata": {
        "colab": {
          "base_uri": "https://localhost:8080/",
          "height": 476
        },
        "id": "3nKzN-TplLkV",
        "outputId": "3aab38f7-4dac-41d7-b809-9a5c385f3716"
      },
      "execution_count": 7,
      "outputs": [
        {
          "output_type": "execute_result",
          "data": {
            "text/plain": [
              "      Unnamed: 0                  mandante  golsMand  golsVist  \\\n",
              "0            116                  Atlético         4         3   \n",
              "1            117                  Atlético         2         0   \n",
              "2            123                     Sport         0         0   \n",
              "3            130                 Palmeiras         0         1   \n",
              "4            131                  Atlético         1         2   \n",
              "...          ...                       ...       ...       ...   \n",
              "2535         375            Fortaleza - CE         2         1   \n",
              "2536         376                Sport - PE         1         1   \n",
              "2537         377  Red Bull Bragantino - SP         1         0   \n",
              "2538         378            Juventude - RS         1         0   \n",
              "2539         379             Atlético - GO         2         0   \n",
              "\n",
              "                       vistante  poder_ataque_time_mandante  \\\n",
              "0                     São Paulo                           9   \n",
              "1                        Santos                          12   \n",
              "2                      Atlético                           6   \n",
              "3                 Internacional                           8   \n",
              "4                      Botafogo                          14   \n",
              "...                         ...                         ...   \n",
              "2535                 Bahia - BA                           6   \n",
              "2536  Athletico Paranaense - PR                           6   \n",
              "2537         Internacional - RS                           8   \n",
              "2538           Corinthians - SP                           4   \n",
              "2539              Flamengo - RJ                           6   \n",
              "\n",
              "      poder_ataque_time_visitante  poder_defesa_time_mandante  \\\n",
              "0                               6                           8   \n",
              "1                               0                           7   \n",
              "2                              11                           9   \n",
              "3                               5                           5   \n",
              "4                               7                           6   \n",
              "...                           ...                         ...   \n",
              "2535                            1                           5   \n",
              "2536                            3                           4   \n",
              "2537                            1                           3   \n",
              "2538                            3                           1   \n",
              "2539                           10                           3   \n",
              "\n",
              "      poder_defesa_time_visitante  classe_resultado  \n",
              "0                               5                 1  \n",
              "1                               4                 1  \n",
              "2                              12                 0  \n",
              "3                               4                 2  \n",
              "4                               6                 2  \n",
              "...                           ...               ...  \n",
              "2535                            6                 1  \n",
              "2536                            6                 0  \n",
              "2537                            6                 1  \n",
              "2538                            9                 1  \n",
              "2539                            7                 1  \n",
              "\n",
              "[2540 rows x 10 columns]"
            ],
            "text/html": [
              "\n",
              "  <div id=\"df-fc012f18-3fee-43d7-81a1-6aa07deb9776\" class=\"colab-df-container\">\n",
              "    <div>\n",
              "<style scoped>\n",
              "    .dataframe tbody tr th:only-of-type {\n",
              "        vertical-align: middle;\n",
              "    }\n",
              "\n",
              "    .dataframe tbody tr th {\n",
              "        vertical-align: top;\n",
              "    }\n",
              "\n",
              "    .dataframe thead th {\n",
              "        text-align: right;\n",
              "    }\n",
              "</style>\n",
              "<table border=\"1\" class=\"dataframe\">\n",
              "  <thead>\n",
              "    <tr style=\"text-align: right;\">\n",
              "      <th></th>\n",
              "      <th>Unnamed: 0</th>\n",
              "      <th>mandante</th>\n",
              "      <th>golsMand</th>\n",
              "      <th>golsVist</th>\n",
              "      <th>vistante</th>\n",
              "      <th>poder_ataque_time_mandante</th>\n",
              "      <th>poder_ataque_time_visitante</th>\n",
              "      <th>poder_defesa_time_mandante</th>\n",
              "      <th>poder_defesa_time_visitante</th>\n",
              "      <th>classe_resultado</th>\n",
              "    </tr>\n",
              "  </thead>\n",
              "  <tbody>\n",
              "    <tr>\n",
              "      <th>0</th>\n",
              "      <td>116</td>\n",
              "      <td>Atlético</td>\n",
              "      <td>4</td>\n",
              "      <td>3</td>\n",
              "      <td>São Paulo</td>\n",
              "      <td>9</td>\n",
              "      <td>6</td>\n",
              "      <td>8</td>\n",
              "      <td>5</td>\n",
              "      <td>1</td>\n",
              "    </tr>\n",
              "    <tr>\n",
              "      <th>1</th>\n",
              "      <td>117</td>\n",
              "      <td>Atlético</td>\n",
              "      <td>2</td>\n",
              "      <td>0</td>\n",
              "      <td>Santos</td>\n",
              "      <td>12</td>\n",
              "      <td>0</td>\n",
              "      <td>7</td>\n",
              "      <td>4</td>\n",
              "      <td>1</td>\n",
              "    </tr>\n",
              "    <tr>\n",
              "      <th>2</th>\n",
              "      <td>123</td>\n",
              "      <td>Sport</td>\n",
              "      <td>0</td>\n",
              "      <td>0</td>\n",
              "      <td>Atlético</td>\n",
              "      <td>6</td>\n",
              "      <td>11</td>\n",
              "      <td>9</td>\n",
              "      <td>12</td>\n",
              "      <td>0</td>\n",
              "    </tr>\n",
              "    <tr>\n",
              "      <th>3</th>\n",
              "      <td>130</td>\n",
              "      <td>Palmeiras</td>\n",
              "      <td>0</td>\n",
              "      <td>1</td>\n",
              "      <td>Internacional</td>\n",
              "      <td>8</td>\n",
              "      <td>5</td>\n",
              "      <td>5</td>\n",
              "      <td>4</td>\n",
              "      <td>2</td>\n",
              "    </tr>\n",
              "    <tr>\n",
              "      <th>4</th>\n",
              "      <td>131</td>\n",
              "      <td>Atlético</td>\n",
              "      <td>1</td>\n",
              "      <td>2</td>\n",
              "      <td>Botafogo</td>\n",
              "      <td>14</td>\n",
              "      <td>7</td>\n",
              "      <td>6</td>\n",
              "      <td>6</td>\n",
              "      <td>2</td>\n",
              "    </tr>\n",
              "    <tr>\n",
              "      <th>...</th>\n",
              "      <td>...</td>\n",
              "      <td>...</td>\n",
              "      <td>...</td>\n",
              "      <td>...</td>\n",
              "      <td>...</td>\n",
              "      <td>...</td>\n",
              "      <td>...</td>\n",
              "      <td>...</td>\n",
              "      <td>...</td>\n",
              "      <td>...</td>\n",
              "    </tr>\n",
              "    <tr>\n",
              "      <th>2535</th>\n",
              "      <td>375</td>\n",
              "      <td>Fortaleza - CE</td>\n",
              "      <td>2</td>\n",
              "      <td>1</td>\n",
              "      <td>Bahia - BA</td>\n",
              "      <td>6</td>\n",
              "      <td>1</td>\n",
              "      <td>5</td>\n",
              "      <td>6</td>\n",
              "      <td>1</td>\n",
              "    </tr>\n",
              "    <tr>\n",
              "      <th>2536</th>\n",
              "      <td>376</td>\n",
              "      <td>Sport - PE</td>\n",
              "      <td>1</td>\n",
              "      <td>1</td>\n",
              "      <td>Athletico Paranaense - PR</td>\n",
              "      <td>6</td>\n",
              "      <td>3</td>\n",
              "      <td>4</td>\n",
              "      <td>6</td>\n",
              "      <td>0</td>\n",
              "    </tr>\n",
              "    <tr>\n",
              "      <th>2537</th>\n",
              "      <td>377</td>\n",
              "      <td>Red Bull Bragantino - SP</td>\n",
              "      <td>1</td>\n",
              "      <td>0</td>\n",
              "      <td>Internacional - RS</td>\n",
              "      <td>8</td>\n",
              "      <td>1</td>\n",
              "      <td>3</td>\n",
              "      <td>6</td>\n",
              "      <td>1</td>\n",
              "    </tr>\n",
              "    <tr>\n",
              "      <th>2538</th>\n",
              "      <td>378</td>\n",
              "      <td>Juventude - RS</td>\n",
              "      <td>1</td>\n",
              "      <td>0</td>\n",
              "      <td>Corinthians - SP</td>\n",
              "      <td>4</td>\n",
              "      <td>3</td>\n",
              "      <td>1</td>\n",
              "      <td>9</td>\n",
              "      <td>1</td>\n",
              "    </tr>\n",
              "    <tr>\n",
              "      <th>2539</th>\n",
              "      <td>379</td>\n",
              "      <td>Atlético - GO</td>\n",
              "      <td>2</td>\n",
              "      <td>0</td>\n",
              "      <td>Flamengo - RJ</td>\n",
              "      <td>6</td>\n",
              "      <td>10</td>\n",
              "      <td>3</td>\n",
              "      <td>7</td>\n",
              "      <td>1</td>\n",
              "    </tr>\n",
              "  </tbody>\n",
              "</table>\n",
              "<p>2540 rows × 10 columns</p>\n",
              "</div>\n",
              "    <div class=\"colab-df-buttons\">\n",
              "\n",
              "  <div class=\"colab-df-container\">\n",
              "    <button class=\"colab-df-convert\" onclick=\"convertToInteractive('df-fc012f18-3fee-43d7-81a1-6aa07deb9776')\"\n",
              "            title=\"Convert this dataframe to an interactive table.\"\n",
              "            style=\"display:none;\">\n",
              "\n",
              "  <svg xmlns=\"http://www.w3.org/2000/svg\" height=\"24px\" viewBox=\"0 -960 960 960\">\n",
              "    <path d=\"M120-120v-720h720v720H120Zm60-500h600v-160H180v160Zm220 220h160v-160H400v160Zm0 220h160v-160H400v160ZM180-400h160v-160H180v160Zm440 0h160v-160H620v160ZM180-180h160v-160H180v160Zm440 0h160v-160H620v160Z\"/>\n",
              "  </svg>\n",
              "    </button>\n",
              "\n",
              "  <style>\n",
              "    .colab-df-container {\n",
              "      display:flex;\n",
              "      gap: 12px;\n",
              "    }\n",
              "\n",
              "    .colab-df-convert {\n",
              "      background-color: #E8F0FE;\n",
              "      border: none;\n",
              "      border-radius: 50%;\n",
              "      cursor: pointer;\n",
              "      display: none;\n",
              "      fill: #1967D2;\n",
              "      height: 32px;\n",
              "      padding: 0 0 0 0;\n",
              "      width: 32px;\n",
              "    }\n",
              "\n",
              "    .colab-df-convert:hover {\n",
              "      background-color: #E2EBFA;\n",
              "      box-shadow: 0px 1px 2px rgba(60, 64, 67, 0.3), 0px 1px 3px 1px rgba(60, 64, 67, 0.15);\n",
              "      fill: #174EA6;\n",
              "    }\n",
              "\n",
              "    .colab-df-buttons div {\n",
              "      margin-bottom: 4px;\n",
              "    }\n",
              "\n",
              "    [theme=dark] .colab-df-convert {\n",
              "      background-color: #3B4455;\n",
              "      fill: #D2E3FC;\n",
              "    }\n",
              "\n",
              "    [theme=dark] .colab-df-convert:hover {\n",
              "      background-color: #434B5C;\n",
              "      box-shadow: 0px 1px 3px 1px rgba(0, 0, 0, 0.15);\n",
              "      filter: drop-shadow(0px 1px 2px rgba(0, 0, 0, 0.3));\n",
              "      fill: #FFFFFF;\n",
              "    }\n",
              "  </style>\n",
              "\n",
              "    <script>\n",
              "      const buttonEl =\n",
              "        document.querySelector('#df-fc012f18-3fee-43d7-81a1-6aa07deb9776 button.colab-df-convert');\n",
              "      buttonEl.style.display =\n",
              "        google.colab.kernel.accessAllowed ? 'block' : 'none';\n",
              "\n",
              "      async function convertToInteractive(key) {\n",
              "        const element = document.querySelector('#df-fc012f18-3fee-43d7-81a1-6aa07deb9776');\n",
              "        const dataTable =\n",
              "          await google.colab.kernel.invokeFunction('convertToInteractive',\n",
              "                                                    [key], {});\n",
              "        if (!dataTable) return;\n",
              "\n",
              "        const docLinkHtml = 'Like what you see? Visit the ' +\n",
              "          '<a target=\"_blank\" href=https://colab.research.google.com/notebooks/data_table.ipynb>data table notebook</a>'\n",
              "          + ' to learn more about interactive tables.';\n",
              "        element.innerHTML = '';\n",
              "        dataTable['output_type'] = 'display_data';\n",
              "        await google.colab.output.renderOutput(dataTable, element);\n",
              "        const docLink = document.createElement('div');\n",
              "        docLink.innerHTML = docLinkHtml;\n",
              "        element.appendChild(docLink);\n",
              "      }\n",
              "    </script>\n",
              "  </div>\n",
              "\n",
              "\n",
              "<div id=\"df-28235fec-e4b8-4d3e-a36c-b77cb14dc2fb\">\n",
              "  <button class=\"colab-df-quickchart\" onclick=\"quickchart('df-28235fec-e4b8-4d3e-a36c-b77cb14dc2fb')\"\n",
              "            title=\"Suggest charts\"\n",
              "            style=\"display:none;\">\n",
              "\n",
              "<svg xmlns=\"http://www.w3.org/2000/svg\" height=\"24px\"viewBox=\"0 0 24 24\"\n",
              "     width=\"24px\">\n",
              "    <g>\n",
              "        <path d=\"M19 3H5c-1.1 0-2 .9-2 2v14c0 1.1.9 2 2 2h14c1.1 0 2-.9 2-2V5c0-1.1-.9-2-2-2zM9 17H7v-7h2v7zm4 0h-2V7h2v10zm4 0h-2v-4h2v4z\"/>\n",
              "    </g>\n",
              "</svg>\n",
              "  </button>\n",
              "\n",
              "<style>\n",
              "  .colab-df-quickchart {\n",
              "      --bg-color: #E8F0FE;\n",
              "      --fill-color: #1967D2;\n",
              "      --hover-bg-color: #E2EBFA;\n",
              "      --hover-fill-color: #174EA6;\n",
              "      --disabled-fill-color: #AAA;\n",
              "      --disabled-bg-color: #DDD;\n",
              "  }\n",
              "\n",
              "  [theme=dark] .colab-df-quickchart {\n",
              "      --bg-color: #3B4455;\n",
              "      --fill-color: #D2E3FC;\n",
              "      --hover-bg-color: #434B5C;\n",
              "      --hover-fill-color: #FFFFFF;\n",
              "      --disabled-bg-color: #3B4455;\n",
              "      --disabled-fill-color: #666;\n",
              "  }\n",
              "\n",
              "  .colab-df-quickchart {\n",
              "    background-color: var(--bg-color);\n",
              "    border: none;\n",
              "    border-radius: 50%;\n",
              "    cursor: pointer;\n",
              "    display: none;\n",
              "    fill: var(--fill-color);\n",
              "    height: 32px;\n",
              "    padding: 0;\n",
              "    width: 32px;\n",
              "  }\n",
              "\n",
              "  .colab-df-quickchart:hover {\n",
              "    background-color: var(--hover-bg-color);\n",
              "    box-shadow: 0 1px 2px rgba(60, 64, 67, 0.3), 0 1px 3px 1px rgba(60, 64, 67, 0.15);\n",
              "    fill: var(--button-hover-fill-color);\n",
              "  }\n",
              "\n",
              "  .colab-df-quickchart-complete:disabled,\n",
              "  .colab-df-quickchart-complete:disabled:hover {\n",
              "    background-color: var(--disabled-bg-color);\n",
              "    fill: var(--disabled-fill-color);\n",
              "    box-shadow: none;\n",
              "  }\n",
              "\n",
              "  .colab-df-spinner {\n",
              "    border: 2px solid var(--fill-color);\n",
              "    border-color: transparent;\n",
              "    border-bottom-color: var(--fill-color);\n",
              "    animation:\n",
              "      spin 1s steps(1) infinite;\n",
              "  }\n",
              "\n",
              "  @keyframes spin {\n",
              "    0% {\n",
              "      border-color: transparent;\n",
              "      border-bottom-color: var(--fill-color);\n",
              "      border-left-color: var(--fill-color);\n",
              "    }\n",
              "    20% {\n",
              "      border-color: transparent;\n",
              "      border-left-color: var(--fill-color);\n",
              "      border-top-color: var(--fill-color);\n",
              "    }\n",
              "    30% {\n",
              "      border-color: transparent;\n",
              "      border-left-color: var(--fill-color);\n",
              "      border-top-color: var(--fill-color);\n",
              "      border-right-color: var(--fill-color);\n",
              "    }\n",
              "    40% {\n",
              "      border-color: transparent;\n",
              "      border-right-color: var(--fill-color);\n",
              "      border-top-color: var(--fill-color);\n",
              "    }\n",
              "    60% {\n",
              "      border-color: transparent;\n",
              "      border-right-color: var(--fill-color);\n",
              "    }\n",
              "    80% {\n",
              "      border-color: transparent;\n",
              "      border-right-color: var(--fill-color);\n",
              "      border-bottom-color: var(--fill-color);\n",
              "    }\n",
              "    90% {\n",
              "      border-color: transparent;\n",
              "      border-bottom-color: var(--fill-color);\n",
              "    }\n",
              "  }\n",
              "</style>\n",
              "\n",
              "  <script>\n",
              "    async function quickchart(key) {\n",
              "      const quickchartButtonEl =\n",
              "        document.querySelector('#' + key + ' button');\n",
              "      quickchartButtonEl.disabled = true;  // To prevent multiple clicks.\n",
              "      quickchartButtonEl.classList.add('colab-df-spinner');\n",
              "      try {\n",
              "        const charts = await google.colab.kernel.invokeFunction(\n",
              "            'suggestCharts', [key], {});\n",
              "      } catch (error) {\n",
              "        console.error('Error during call to suggestCharts:', error);\n",
              "      }\n",
              "      quickchartButtonEl.classList.remove('colab-df-spinner');\n",
              "      quickchartButtonEl.classList.add('colab-df-quickchart-complete');\n",
              "    }\n",
              "    (() => {\n",
              "      let quickchartButtonEl =\n",
              "        document.querySelector('#df-28235fec-e4b8-4d3e-a36c-b77cb14dc2fb button');\n",
              "      quickchartButtonEl.style.display =\n",
              "        google.colab.kernel.accessAllowed ? 'block' : 'none';\n",
              "    })();\n",
              "  </script>\n",
              "</div>\n",
              "\n",
              "  <div id=\"id_6277adbe-c292-4ad3-b28d-d1c316272ca5\">\n",
              "    <style>\n",
              "      .colab-df-generate {\n",
              "        background-color: #E8F0FE;\n",
              "        border: none;\n",
              "        border-radius: 50%;\n",
              "        cursor: pointer;\n",
              "        display: none;\n",
              "        fill: #1967D2;\n",
              "        height: 32px;\n",
              "        padding: 0 0 0 0;\n",
              "        width: 32px;\n",
              "      }\n",
              "\n",
              "      .colab-df-generate:hover {\n",
              "        background-color: #E2EBFA;\n",
              "        box-shadow: 0px 1px 2px rgba(60, 64, 67, 0.3), 0px 1px 3px 1px rgba(60, 64, 67, 0.15);\n",
              "        fill: #174EA6;\n",
              "      }\n",
              "\n",
              "      [theme=dark] .colab-df-generate {\n",
              "        background-color: #3B4455;\n",
              "        fill: #D2E3FC;\n",
              "      }\n",
              "\n",
              "      [theme=dark] .colab-df-generate:hover {\n",
              "        background-color: #434B5C;\n",
              "        box-shadow: 0px 1px 3px 1px rgba(0, 0, 0, 0.15);\n",
              "        filter: drop-shadow(0px 1px 2px rgba(0, 0, 0, 0.3));\n",
              "        fill: #FFFFFF;\n",
              "      }\n",
              "    </style>\n",
              "    <button class=\"colab-df-generate\" onclick=\"generateWithVariable('DataFrame_Geral')\"\n",
              "            title=\"Generate code using this dataframe.\"\n",
              "            style=\"display:none;\">\n",
              "\n",
              "  <svg xmlns=\"http://www.w3.org/2000/svg\" height=\"24px\"viewBox=\"0 0 24 24\"\n",
              "       width=\"24px\">\n",
              "    <path d=\"M7,19H8.4L18.45,9,17,7.55,7,17.6ZM5,21V16.75L18.45,3.32a2,2,0,0,1,2.83,0l1.4,1.43a1.91,1.91,0,0,1,.58,1.4,1.91,1.91,0,0,1-.58,1.4L9.25,21ZM18.45,9,17,7.55Zm-12,3A5.31,5.31,0,0,0,4.9,8.1,5.31,5.31,0,0,0,1,6.5,5.31,5.31,0,0,0,4.9,4.9,5.31,5.31,0,0,0,6.5,1,5.31,5.31,0,0,0,8.1,4.9,5.31,5.31,0,0,0,12,6.5,5.46,5.46,0,0,0,6.5,12Z\"/>\n",
              "  </svg>\n",
              "    </button>\n",
              "    <script>\n",
              "      (() => {\n",
              "      const buttonEl =\n",
              "        document.querySelector('#id_6277adbe-c292-4ad3-b28d-d1c316272ca5 button.colab-df-generate');\n",
              "      buttonEl.style.display =\n",
              "        google.colab.kernel.accessAllowed ? 'block' : 'none';\n",
              "\n",
              "      buttonEl.onclick = () => {\n",
              "        google.colab.notebook.generateWithVariable('DataFrame_Geral');\n",
              "      }\n",
              "      })();\n",
              "    </script>\n",
              "  </div>\n",
              "\n",
              "    </div>\n",
              "  </div>\n"
            ],
            "application/vnd.google.colaboratory.intrinsic+json": {
              "type": "dataframe",
              "variable_name": "DataFrame_Geral",
              "summary": "{\n  \"name\": \"DataFrame_Geral\",\n  \"rows\": 2540,\n  \"fields\": [\n    {\n      \"column\": \"Unnamed: 0\",\n      \"properties\": {\n        \"dtype\": \"number\",\n        \"std\": 73,\n        \"min\": 111,\n        \"max\": 379,\n        \"num_unique_values\": 268,\n        \"samples\": [\n          242,\n          340,\n          149\n        ],\n        \"semantic_type\": \"\",\n        \"description\": \"\"\n      }\n    },\n    {\n      \"column\": \"mandante\",\n      \"properties\": {\n        \"dtype\": \"category\",\n        \"num_unique_values\": 63,\n        \"samples\": [\n          \"Cuiab\\u00e1 - MT\",\n          \"Fortaleza - CE\",\n          \"Atl\\u00e9tico\"\n        ],\n        \"semantic_type\": \"\",\n        \"description\": \"\"\n      }\n    },\n    {\n      \"column\": \"golsMand\",\n      \"properties\": {\n        \"dtype\": \"number\",\n        \"std\": 1,\n        \"min\": 0,\n        \"max\": 6,\n        \"num_unique_values\": 7,\n        \"samples\": [\n          4,\n          2,\n          5\n        ],\n        \"semantic_type\": \"\",\n        \"description\": \"\"\n      }\n    },\n    {\n      \"column\": \"golsVist\",\n      \"properties\": {\n        \"dtype\": \"number\",\n        \"std\": 0,\n        \"min\": 0,\n        \"max\": 5,\n        \"num_unique_values\": 6,\n        \"samples\": [\n          3,\n          0,\n          5\n        ],\n        \"semantic_type\": \"\",\n        \"description\": \"\"\n      }\n    },\n    {\n      \"column\": \"vistante\",\n      \"properties\": {\n        \"dtype\": \"category\",\n        \"num_unique_values\": 63,\n        \"samples\": [\n          \"Juventude - RS\",\n          \"Csa - AL\",\n          \"S\\u00e3o Paulo\"\n        ],\n        \"semantic_type\": \"\",\n        \"description\": \"\"\n      }\n    },\n    {\n      \"column\": \"poder_ataque_time_mandante\",\n      \"properties\": {\n        \"dtype\": \"number\",\n        \"std\": 2,\n        \"min\": 0,\n        \"max\": 18,\n        \"num_unique_values\": 19,\n        \"samples\": [\n          9,\n          10,\n          3\n        ],\n        \"semantic_type\": \"\",\n        \"description\": \"\"\n      }\n    },\n    {\n      \"column\": \"poder_ataque_time_visitante\",\n      \"properties\": {\n        \"dtype\": \"number\",\n        \"std\": 2,\n        \"min\": 0,\n        \"max\": 16,\n        \"num_unique_values\": 16,\n        \"samples\": [\n          6,\n          0,\n          4\n        ],\n        \"semantic_type\": \"\",\n        \"description\": \"\"\n      }\n    },\n    {\n      \"column\": \"poder_defesa_time_mandante\",\n      \"properties\": {\n        \"dtype\": \"number\",\n        \"std\": 2,\n        \"min\": 0,\n        \"max\": 15,\n        \"num_unique_values\": 16,\n        \"samples\": [\n          8,\n          7,\n          3\n        ],\n        \"semantic_type\": \"\",\n        \"description\": \"\"\n      }\n    },\n    {\n      \"column\": \"poder_defesa_time_visitante\",\n      \"properties\": {\n        \"dtype\": \"number\",\n        \"std\": 2,\n        \"min\": 0,\n        \"max\": 20,\n        \"num_unique_values\": 19,\n        \"samples\": [\n          5,\n          3,\n          2\n        ],\n        \"semantic_type\": \"\",\n        \"description\": \"\"\n      }\n    },\n    {\n      \"column\": \"classe_resultado\",\n      \"properties\": {\n        \"dtype\": \"number\",\n        \"std\": 0,\n        \"min\": 0,\n        \"max\": 2,\n        \"num_unique_values\": 3,\n        \"samples\": [\n          1,\n          0,\n          2\n        ],\n        \"semantic_type\": \"\",\n        \"description\": \"\"\n      }\n    }\n  ]\n}"
            }
          },
          "metadata": {},
          "execution_count": 7
        }
      ]
    },
    {
      "cell_type": "code",
      "source": [
        "DataFrame_XGBoost = DataFrame_Geral.copy()\n",
        "DataFrame_XGBoost"
      ],
      "metadata": {
        "colab": {
          "base_uri": "https://localhost:8080/",
          "height": 476
        },
        "id": "gj5VYIf2lVVz",
        "outputId": "26e318b8-8dc4-4e71-d0ab-9af08d6a7e1c"
      },
      "execution_count": 8,
      "outputs": [
        {
          "output_type": "execute_result",
          "data": {
            "text/plain": [
              "      Unnamed: 0                  mandante  golsMand  golsVist  \\\n",
              "0            116                  Atlético         4         3   \n",
              "1            117                  Atlético         2         0   \n",
              "2            123                     Sport         0         0   \n",
              "3            130                 Palmeiras         0         1   \n",
              "4            131                  Atlético         1         2   \n",
              "...          ...                       ...       ...       ...   \n",
              "2535         375            Fortaleza - CE         2         1   \n",
              "2536         376                Sport - PE         1         1   \n",
              "2537         377  Red Bull Bragantino - SP         1         0   \n",
              "2538         378            Juventude - RS         1         0   \n",
              "2539         379             Atlético - GO         2         0   \n",
              "\n",
              "                       vistante  poder_ataque_time_mandante  \\\n",
              "0                     São Paulo                           9   \n",
              "1                        Santos                          12   \n",
              "2                      Atlético                           6   \n",
              "3                 Internacional                           8   \n",
              "4                      Botafogo                          14   \n",
              "...                         ...                         ...   \n",
              "2535                 Bahia - BA                           6   \n",
              "2536  Athletico Paranaense - PR                           6   \n",
              "2537         Internacional - RS                           8   \n",
              "2538           Corinthians - SP                           4   \n",
              "2539              Flamengo - RJ                           6   \n",
              "\n",
              "      poder_ataque_time_visitante  poder_defesa_time_mandante  \\\n",
              "0                               6                           8   \n",
              "1                               0                           7   \n",
              "2                              11                           9   \n",
              "3                               5                           5   \n",
              "4                               7                           6   \n",
              "...                           ...                         ...   \n",
              "2535                            1                           5   \n",
              "2536                            3                           4   \n",
              "2537                            1                           3   \n",
              "2538                            3                           1   \n",
              "2539                           10                           3   \n",
              "\n",
              "      poder_defesa_time_visitante  classe_resultado  \n",
              "0                               5                 1  \n",
              "1                               4                 1  \n",
              "2                              12                 0  \n",
              "3                               4                 2  \n",
              "4                               6                 2  \n",
              "...                           ...               ...  \n",
              "2535                            6                 1  \n",
              "2536                            6                 0  \n",
              "2537                            6                 1  \n",
              "2538                            9                 1  \n",
              "2539                            7                 1  \n",
              "\n",
              "[2540 rows x 10 columns]"
            ],
            "text/html": [
              "\n",
              "  <div id=\"df-294b292e-7942-48d2-9a12-050892f025a4\" class=\"colab-df-container\">\n",
              "    <div>\n",
              "<style scoped>\n",
              "    .dataframe tbody tr th:only-of-type {\n",
              "        vertical-align: middle;\n",
              "    }\n",
              "\n",
              "    .dataframe tbody tr th {\n",
              "        vertical-align: top;\n",
              "    }\n",
              "\n",
              "    .dataframe thead th {\n",
              "        text-align: right;\n",
              "    }\n",
              "</style>\n",
              "<table border=\"1\" class=\"dataframe\">\n",
              "  <thead>\n",
              "    <tr style=\"text-align: right;\">\n",
              "      <th></th>\n",
              "      <th>Unnamed: 0</th>\n",
              "      <th>mandante</th>\n",
              "      <th>golsMand</th>\n",
              "      <th>golsVist</th>\n",
              "      <th>vistante</th>\n",
              "      <th>poder_ataque_time_mandante</th>\n",
              "      <th>poder_ataque_time_visitante</th>\n",
              "      <th>poder_defesa_time_mandante</th>\n",
              "      <th>poder_defesa_time_visitante</th>\n",
              "      <th>classe_resultado</th>\n",
              "    </tr>\n",
              "  </thead>\n",
              "  <tbody>\n",
              "    <tr>\n",
              "      <th>0</th>\n",
              "      <td>116</td>\n",
              "      <td>Atlético</td>\n",
              "      <td>4</td>\n",
              "      <td>3</td>\n",
              "      <td>São Paulo</td>\n",
              "      <td>9</td>\n",
              "      <td>6</td>\n",
              "      <td>8</td>\n",
              "      <td>5</td>\n",
              "      <td>1</td>\n",
              "    </tr>\n",
              "    <tr>\n",
              "      <th>1</th>\n",
              "      <td>117</td>\n",
              "      <td>Atlético</td>\n",
              "      <td>2</td>\n",
              "      <td>0</td>\n",
              "      <td>Santos</td>\n",
              "      <td>12</td>\n",
              "      <td>0</td>\n",
              "      <td>7</td>\n",
              "      <td>4</td>\n",
              "      <td>1</td>\n",
              "    </tr>\n",
              "    <tr>\n",
              "      <th>2</th>\n",
              "      <td>123</td>\n",
              "      <td>Sport</td>\n",
              "      <td>0</td>\n",
              "      <td>0</td>\n",
              "      <td>Atlético</td>\n",
              "      <td>6</td>\n",
              "      <td>11</td>\n",
              "      <td>9</td>\n",
              "      <td>12</td>\n",
              "      <td>0</td>\n",
              "    </tr>\n",
              "    <tr>\n",
              "      <th>3</th>\n",
              "      <td>130</td>\n",
              "      <td>Palmeiras</td>\n",
              "      <td>0</td>\n",
              "      <td>1</td>\n",
              "      <td>Internacional</td>\n",
              "      <td>8</td>\n",
              "      <td>5</td>\n",
              "      <td>5</td>\n",
              "      <td>4</td>\n",
              "      <td>2</td>\n",
              "    </tr>\n",
              "    <tr>\n",
              "      <th>4</th>\n",
              "      <td>131</td>\n",
              "      <td>Atlético</td>\n",
              "      <td>1</td>\n",
              "      <td>2</td>\n",
              "      <td>Botafogo</td>\n",
              "      <td>14</td>\n",
              "      <td>7</td>\n",
              "      <td>6</td>\n",
              "      <td>6</td>\n",
              "      <td>2</td>\n",
              "    </tr>\n",
              "    <tr>\n",
              "      <th>...</th>\n",
              "      <td>...</td>\n",
              "      <td>...</td>\n",
              "      <td>...</td>\n",
              "      <td>...</td>\n",
              "      <td>...</td>\n",
              "      <td>...</td>\n",
              "      <td>...</td>\n",
              "      <td>...</td>\n",
              "      <td>...</td>\n",
              "      <td>...</td>\n",
              "    </tr>\n",
              "    <tr>\n",
              "      <th>2535</th>\n",
              "      <td>375</td>\n",
              "      <td>Fortaleza - CE</td>\n",
              "      <td>2</td>\n",
              "      <td>1</td>\n",
              "      <td>Bahia - BA</td>\n",
              "      <td>6</td>\n",
              "      <td>1</td>\n",
              "      <td>5</td>\n",
              "      <td>6</td>\n",
              "      <td>1</td>\n",
              "    </tr>\n",
              "    <tr>\n",
              "      <th>2536</th>\n",
              "      <td>376</td>\n",
              "      <td>Sport - PE</td>\n",
              "      <td>1</td>\n",
              "      <td>1</td>\n",
              "      <td>Athletico Paranaense - PR</td>\n",
              "      <td>6</td>\n",
              "      <td>3</td>\n",
              "      <td>4</td>\n",
              "      <td>6</td>\n",
              "      <td>0</td>\n",
              "    </tr>\n",
              "    <tr>\n",
              "      <th>2537</th>\n",
              "      <td>377</td>\n",
              "      <td>Red Bull Bragantino - SP</td>\n",
              "      <td>1</td>\n",
              "      <td>0</td>\n",
              "      <td>Internacional - RS</td>\n",
              "      <td>8</td>\n",
              "      <td>1</td>\n",
              "      <td>3</td>\n",
              "      <td>6</td>\n",
              "      <td>1</td>\n",
              "    </tr>\n",
              "    <tr>\n",
              "      <th>2538</th>\n",
              "      <td>378</td>\n",
              "      <td>Juventude - RS</td>\n",
              "      <td>1</td>\n",
              "      <td>0</td>\n",
              "      <td>Corinthians - SP</td>\n",
              "      <td>4</td>\n",
              "      <td>3</td>\n",
              "      <td>1</td>\n",
              "      <td>9</td>\n",
              "      <td>1</td>\n",
              "    </tr>\n",
              "    <tr>\n",
              "      <th>2539</th>\n",
              "      <td>379</td>\n",
              "      <td>Atlético - GO</td>\n",
              "      <td>2</td>\n",
              "      <td>0</td>\n",
              "      <td>Flamengo - RJ</td>\n",
              "      <td>6</td>\n",
              "      <td>10</td>\n",
              "      <td>3</td>\n",
              "      <td>7</td>\n",
              "      <td>1</td>\n",
              "    </tr>\n",
              "  </tbody>\n",
              "</table>\n",
              "<p>2540 rows × 10 columns</p>\n",
              "</div>\n",
              "    <div class=\"colab-df-buttons\">\n",
              "\n",
              "  <div class=\"colab-df-container\">\n",
              "    <button class=\"colab-df-convert\" onclick=\"convertToInteractive('df-294b292e-7942-48d2-9a12-050892f025a4')\"\n",
              "            title=\"Convert this dataframe to an interactive table.\"\n",
              "            style=\"display:none;\">\n",
              "\n",
              "  <svg xmlns=\"http://www.w3.org/2000/svg\" height=\"24px\" viewBox=\"0 -960 960 960\">\n",
              "    <path d=\"M120-120v-720h720v720H120Zm60-500h600v-160H180v160Zm220 220h160v-160H400v160Zm0 220h160v-160H400v160ZM180-400h160v-160H180v160Zm440 0h160v-160H620v160ZM180-180h160v-160H180v160Zm440 0h160v-160H620v160Z\"/>\n",
              "  </svg>\n",
              "    </button>\n",
              "\n",
              "  <style>\n",
              "    .colab-df-container {\n",
              "      display:flex;\n",
              "      gap: 12px;\n",
              "    }\n",
              "\n",
              "    .colab-df-convert {\n",
              "      background-color: #E8F0FE;\n",
              "      border: none;\n",
              "      border-radius: 50%;\n",
              "      cursor: pointer;\n",
              "      display: none;\n",
              "      fill: #1967D2;\n",
              "      height: 32px;\n",
              "      padding: 0 0 0 0;\n",
              "      width: 32px;\n",
              "    }\n",
              "\n",
              "    .colab-df-convert:hover {\n",
              "      background-color: #E2EBFA;\n",
              "      box-shadow: 0px 1px 2px rgba(60, 64, 67, 0.3), 0px 1px 3px 1px rgba(60, 64, 67, 0.15);\n",
              "      fill: #174EA6;\n",
              "    }\n",
              "\n",
              "    .colab-df-buttons div {\n",
              "      margin-bottom: 4px;\n",
              "    }\n",
              "\n",
              "    [theme=dark] .colab-df-convert {\n",
              "      background-color: #3B4455;\n",
              "      fill: #D2E3FC;\n",
              "    }\n",
              "\n",
              "    [theme=dark] .colab-df-convert:hover {\n",
              "      background-color: #434B5C;\n",
              "      box-shadow: 0px 1px 3px 1px rgba(0, 0, 0, 0.15);\n",
              "      filter: drop-shadow(0px 1px 2px rgba(0, 0, 0, 0.3));\n",
              "      fill: #FFFFFF;\n",
              "    }\n",
              "  </style>\n",
              "\n",
              "    <script>\n",
              "      const buttonEl =\n",
              "        document.querySelector('#df-294b292e-7942-48d2-9a12-050892f025a4 button.colab-df-convert');\n",
              "      buttonEl.style.display =\n",
              "        google.colab.kernel.accessAllowed ? 'block' : 'none';\n",
              "\n",
              "      async function convertToInteractive(key) {\n",
              "        const element = document.querySelector('#df-294b292e-7942-48d2-9a12-050892f025a4');\n",
              "        const dataTable =\n",
              "          await google.colab.kernel.invokeFunction('convertToInteractive',\n",
              "                                                    [key], {});\n",
              "        if (!dataTable) return;\n",
              "\n",
              "        const docLinkHtml = 'Like what you see? Visit the ' +\n",
              "          '<a target=\"_blank\" href=https://colab.research.google.com/notebooks/data_table.ipynb>data table notebook</a>'\n",
              "          + ' to learn more about interactive tables.';\n",
              "        element.innerHTML = '';\n",
              "        dataTable['output_type'] = 'display_data';\n",
              "        await google.colab.output.renderOutput(dataTable, element);\n",
              "        const docLink = document.createElement('div');\n",
              "        docLink.innerHTML = docLinkHtml;\n",
              "        element.appendChild(docLink);\n",
              "      }\n",
              "    </script>\n",
              "  </div>\n",
              "\n",
              "\n",
              "<div id=\"df-4771c979-fe9e-4921-9fb3-16ad1157cd5e\">\n",
              "  <button class=\"colab-df-quickchart\" onclick=\"quickchart('df-4771c979-fe9e-4921-9fb3-16ad1157cd5e')\"\n",
              "            title=\"Suggest charts\"\n",
              "            style=\"display:none;\">\n",
              "\n",
              "<svg xmlns=\"http://www.w3.org/2000/svg\" height=\"24px\"viewBox=\"0 0 24 24\"\n",
              "     width=\"24px\">\n",
              "    <g>\n",
              "        <path d=\"M19 3H5c-1.1 0-2 .9-2 2v14c0 1.1.9 2 2 2h14c1.1 0 2-.9 2-2V5c0-1.1-.9-2-2-2zM9 17H7v-7h2v7zm4 0h-2V7h2v10zm4 0h-2v-4h2v4z\"/>\n",
              "    </g>\n",
              "</svg>\n",
              "  </button>\n",
              "\n",
              "<style>\n",
              "  .colab-df-quickchart {\n",
              "      --bg-color: #E8F0FE;\n",
              "      --fill-color: #1967D2;\n",
              "      --hover-bg-color: #E2EBFA;\n",
              "      --hover-fill-color: #174EA6;\n",
              "      --disabled-fill-color: #AAA;\n",
              "      --disabled-bg-color: #DDD;\n",
              "  }\n",
              "\n",
              "  [theme=dark] .colab-df-quickchart {\n",
              "      --bg-color: #3B4455;\n",
              "      --fill-color: #D2E3FC;\n",
              "      --hover-bg-color: #434B5C;\n",
              "      --hover-fill-color: #FFFFFF;\n",
              "      --disabled-bg-color: #3B4455;\n",
              "      --disabled-fill-color: #666;\n",
              "  }\n",
              "\n",
              "  .colab-df-quickchart {\n",
              "    background-color: var(--bg-color);\n",
              "    border: none;\n",
              "    border-radius: 50%;\n",
              "    cursor: pointer;\n",
              "    display: none;\n",
              "    fill: var(--fill-color);\n",
              "    height: 32px;\n",
              "    padding: 0;\n",
              "    width: 32px;\n",
              "  }\n",
              "\n",
              "  .colab-df-quickchart:hover {\n",
              "    background-color: var(--hover-bg-color);\n",
              "    box-shadow: 0 1px 2px rgba(60, 64, 67, 0.3), 0 1px 3px 1px rgba(60, 64, 67, 0.15);\n",
              "    fill: var(--button-hover-fill-color);\n",
              "  }\n",
              "\n",
              "  .colab-df-quickchart-complete:disabled,\n",
              "  .colab-df-quickchart-complete:disabled:hover {\n",
              "    background-color: var(--disabled-bg-color);\n",
              "    fill: var(--disabled-fill-color);\n",
              "    box-shadow: none;\n",
              "  }\n",
              "\n",
              "  .colab-df-spinner {\n",
              "    border: 2px solid var(--fill-color);\n",
              "    border-color: transparent;\n",
              "    border-bottom-color: var(--fill-color);\n",
              "    animation:\n",
              "      spin 1s steps(1) infinite;\n",
              "  }\n",
              "\n",
              "  @keyframes spin {\n",
              "    0% {\n",
              "      border-color: transparent;\n",
              "      border-bottom-color: var(--fill-color);\n",
              "      border-left-color: var(--fill-color);\n",
              "    }\n",
              "    20% {\n",
              "      border-color: transparent;\n",
              "      border-left-color: var(--fill-color);\n",
              "      border-top-color: var(--fill-color);\n",
              "    }\n",
              "    30% {\n",
              "      border-color: transparent;\n",
              "      border-left-color: var(--fill-color);\n",
              "      border-top-color: var(--fill-color);\n",
              "      border-right-color: var(--fill-color);\n",
              "    }\n",
              "    40% {\n",
              "      border-color: transparent;\n",
              "      border-right-color: var(--fill-color);\n",
              "      border-top-color: var(--fill-color);\n",
              "    }\n",
              "    60% {\n",
              "      border-color: transparent;\n",
              "      border-right-color: var(--fill-color);\n",
              "    }\n",
              "    80% {\n",
              "      border-color: transparent;\n",
              "      border-right-color: var(--fill-color);\n",
              "      border-bottom-color: var(--fill-color);\n",
              "    }\n",
              "    90% {\n",
              "      border-color: transparent;\n",
              "      border-bottom-color: var(--fill-color);\n",
              "    }\n",
              "  }\n",
              "</style>\n",
              "\n",
              "  <script>\n",
              "    async function quickchart(key) {\n",
              "      const quickchartButtonEl =\n",
              "        document.querySelector('#' + key + ' button');\n",
              "      quickchartButtonEl.disabled = true;  // To prevent multiple clicks.\n",
              "      quickchartButtonEl.classList.add('colab-df-spinner');\n",
              "      try {\n",
              "        const charts = await google.colab.kernel.invokeFunction(\n",
              "            'suggestCharts', [key], {});\n",
              "      } catch (error) {\n",
              "        console.error('Error during call to suggestCharts:', error);\n",
              "      }\n",
              "      quickchartButtonEl.classList.remove('colab-df-spinner');\n",
              "      quickchartButtonEl.classList.add('colab-df-quickchart-complete');\n",
              "    }\n",
              "    (() => {\n",
              "      let quickchartButtonEl =\n",
              "        document.querySelector('#df-4771c979-fe9e-4921-9fb3-16ad1157cd5e button');\n",
              "      quickchartButtonEl.style.display =\n",
              "        google.colab.kernel.accessAllowed ? 'block' : 'none';\n",
              "    })();\n",
              "  </script>\n",
              "</div>\n",
              "\n",
              "  <div id=\"id_ea224f16-9fab-4983-9dd1-34079e54ded1\">\n",
              "    <style>\n",
              "      .colab-df-generate {\n",
              "        background-color: #E8F0FE;\n",
              "        border: none;\n",
              "        border-radius: 50%;\n",
              "        cursor: pointer;\n",
              "        display: none;\n",
              "        fill: #1967D2;\n",
              "        height: 32px;\n",
              "        padding: 0 0 0 0;\n",
              "        width: 32px;\n",
              "      }\n",
              "\n",
              "      .colab-df-generate:hover {\n",
              "        background-color: #E2EBFA;\n",
              "        box-shadow: 0px 1px 2px rgba(60, 64, 67, 0.3), 0px 1px 3px 1px rgba(60, 64, 67, 0.15);\n",
              "        fill: #174EA6;\n",
              "      }\n",
              "\n",
              "      [theme=dark] .colab-df-generate {\n",
              "        background-color: #3B4455;\n",
              "        fill: #D2E3FC;\n",
              "      }\n",
              "\n",
              "      [theme=dark] .colab-df-generate:hover {\n",
              "        background-color: #434B5C;\n",
              "        box-shadow: 0px 1px 3px 1px rgba(0, 0, 0, 0.15);\n",
              "        filter: drop-shadow(0px 1px 2px rgba(0, 0, 0, 0.3));\n",
              "        fill: #FFFFFF;\n",
              "      }\n",
              "    </style>\n",
              "    <button class=\"colab-df-generate\" onclick=\"generateWithVariable('DataFrame_XGBoost')\"\n",
              "            title=\"Generate code using this dataframe.\"\n",
              "            style=\"display:none;\">\n",
              "\n",
              "  <svg xmlns=\"http://www.w3.org/2000/svg\" height=\"24px\"viewBox=\"0 0 24 24\"\n",
              "       width=\"24px\">\n",
              "    <path d=\"M7,19H8.4L18.45,9,17,7.55,7,17.6ZM5,21V16.75L18.45,3.32a2,2,0,0,1,2.83,0l1.4,1.43a1.91,1.91,0,0,1,.58,1.4,1.91,1.91,0,0,1-.58,1.4L9.25,21ZM18.45,9,17,7.55Zm-12,3A5.31,5.31,0,0,0,4.9,8.1,5.31,5.31,0,0,0,1,6.5,5.31,5.31,0,0,0,4.9,4.9,5.31,5.31,0,0,0,6.5,1,5.31,5.31,0,0,0,8.1,4.9,5.31,5.31,0,0,0,12,6.5,5.46,5.46,0,0,0,6.5,12Z\"/>\n",
              "  </svg>\n",
              "    </button>\n",
              "    <script>\n",
              "      (() => {\n",
              "      const buttonEl =\n",
              "        document.querySelector('#id_ea224f16-9fab-4983-9dd1-34079e54ded1 button.colab-df-generate');\n",
              "      buttonEl.style.display =\n",
              "        google.colab.kernel.accessAllowed ? 'block' : 'none';\n",
              "\n",
              "      buttonEl.onclick = () => {\n",
              "        google.colab.notebook.generateWithVariable('DataFrame_XGBoost');\n",
              "      }\n",
              "      })();\n",
              "    </script>\n",
              "  </div>\n",
              "\n",
              "    </div>\n",
              "  </div>\n"
            ],
            "application/vnd.google.colaboratory.intrinsic+json": {
              "type": "dataframe",
              "variable_name": "DataFrame_XGBoost",
              "summary": "{\n  \"name\": \"DataFrame_XGBoost\",\n  \"rows\": 2540,\n  \"fields\": [\n    {\n      \"column\": \"Unnamed: 0\",\n      \"properties\": {\n        \"dtype\": \"number\",\n        \"std\": 73,\n        \"min\": 111,\n        \"max\": 379,\n        \"num_unique_values\": 268,\n        \"samples\": [\n          242,\n          340,\n          149\n        ],\n        \"semantic_type\": \"\",\n        \"description\": \"\"\n      }\n    },\n    {\n      \"column\": \"mandante\",\n      \"properties\": {\n        \"dtype\": \"category\",\n        \"num_unique_values\": 63,\n        \"samples\": [\n          \"Cuiab\\u00e1 - MT\",\n          \"Fortaleza - CE\",\n          \"Atl\\u00e9tico\"\n        ],\n        \"semantic_type\": \"\",\n        \"description\": \"\"\n      }\n    },\n    {\n      \"column\": \"golsMand\",\n      \"properties\": {\n        \"dtype\": \"number\",\n        \"std\": 1,\n        \"min\": 0,\n        \"max\": 6,\n        \"num_unique_values\": 7,\n        \"samples\": [\n          4,\n          2,\n          5\n        ],\n        \"semantic_type\": \"\",\n        \"description\": \"\"\n      }\n    },\n    {\n      \"column\": \"golsVist\",\n      \"properties\": {\n        \"dtype\": \"number\",\n        \"std\": 0,\n        \"min\": 0,\n        \"max\": 5,\n        \"num_unique_values\": 6,\n        \"samples\": [\n          3,\n          0,\n          5\n        ],\n        \"semantic_type\": \"\",\n        \"description\": \"\"\n      }\n    },\n    {\n      \"column\": \"vistante\",\n      \"properties\": {\n        \"dtype\": \"category\",\n        \"num_unique_values\": 63,\n        \"samples\": [\n          \"Juventude - RS\",\n          \"Csa - AL\",\n          \"S\\u00e3o Paulo\"\n        ],\n        \"semantic_type\": \"\",\n        \"description\": \"\"\n      }\n    },\n    {\n      \"column\": \"poder_ataque_time_mandante\",\n      \"properties\": {\n        \"dtype\": \"number\",\n        \"std\": 2,\n        \"min\": 0,\n        \"max\": 18,\n        \"num_unique_values\": 19,\n        \"samples\": [\n          9,\n          10,\n          3\n        ],\n        \"semantic_type\": \"\",\n        \"description\": \"\"\n      }\n    },\n    {\n      \"column\": \"poder_ataque_time_visitante\",\n      \"properties\": {\n        \"dtype\": \"number\",\n        \"std\": 2,\n        \"min\": 0,\n        \"max\": 16,\n        \"num_unique_values\": 16,\n        \"samples\": [\n          6,\n          0,\n          4\n        ],\n        \"semantic_type\": \"\",\n        \"description\": \"\"\n      }\n    },\n    {\n      \"column\": \"poder_defesa_time_mandante\",\n      \"properties\": {\n        \"dtype\": \"number\",\n        \"std\": 2,\n        \"min\": 0,\n        \"max\": 15,\n        \"num_unique_values\": 16,\n        \"samples\": [\n          8,\n          7,\n          3\n        ],\n        \"semantic_type\": \"\",\n        \"description\": \"\"\n      }\n    },\n    {\n      \"column\": \"poder_defesa_time_visitante\",\n      \"properties\": {\n        \"dtype\": \"number\",\n        \"std\": 2,\n        \"min\": 0,\n        \"max\": 20,\n        \"num_unique_values\": 19,\n        \"samples\": [\n          5,\n          3,\n          2\n        ],\n        \"semantic_type\": \"\",\n        \"description\": \"\"\n      }\n    },\n    {\n      \"column\": \"classe_resultado\",\n      \"properties\": {\n        \"dtype\": \"number\",\n        \"std\": 0,\n        \"min\": 0,\n        \"max\": 2,\n        \"num_unique_values\": 3,\n        \"samples\": [\n          1,\n          0,\n          2\n        ],\n        \"semantic_type\": \"\",\n        \"description\": \"\"\n      }\n    }\n  ]\n}"
            }
          },
          "metadata": {},
          "execution_count": 8
        }
      ]
    },
    {
      "cell_type": "code",
      "source": [
        "# Apaga colunas desnecessarias para o treinamento.\n",
        "DataFrame_XGBoost.drop(['mandante',\n",
        "                             'golsMand',\n",
        "                             'golsVist',\n",
        "                             'vistante',\n",
        "                             'Unnamed: 0'], axis=1, inplace=True)\n",
        "DataFrame_XGBoost"
      ],
      "metadata": {
        "colab": {
          "base_uri": "https://localhost:8080/",
          "height": 424
        },
        "id": "nqdrttawl9Vf",
        "outputId": "8187fe31-0707-41f0-8c7c-00faf39390c4"
      },
      "execution_count": 9,
      "outputs": [
        {
          "output_type": "execute_result",
          "data": {
            "text/plain": [
              "      poder_ataque_time_mandante  poder_ataque_time_visitante  \\\n",
              "0                              9                            6   \n",
              "1                             12                            0   \n",
              "2                              6                           11   \n",
              "3                              8                            5   \n",
              "4                             14                            7   \n",
              "...                          ...                          ...   \n",
              "2535                           6                            1   \n",
              "2536                           6                            3   \n",
              "2537                           8                            1   \n",
              "2538                           4                            3   \n",
              "2539                           6                           10   \n",
              "\n",
              "      poder_defesa_time_mandante  poder_defesa_time_visitante  \\\n",
              "0                              8                            5   \n",
              "1                              7                            4   \n",
              "2                              9                           12   \n",
              "3                              5                            4   \n",
              "4                              6                            6   \n",
              "...                          ...                          ...   \n",
              "2535                           5                            6   \n",
              "2536                           4                            6   \n",
              "2537                           3                            6   \n",
              "2538                           1                            9   \n",
              "2539                           3                            7   \n",
              "\n",
              "      classe_resultado  \n",
              "0                    1  \n",
              "1                    1  \n",
              "2                    0  \n",
              "3                    2  \n",
              "4                    2  \n",
              "...                ...  \n",
              "2535                 1  \n",
              "2536                 0  \n",
              "2537                 1  \n",
              "2538                 1  \n",
              "2539                 1  \n",
              "\n",
              "[2540 rows x 5 columns]"
            ],
            "text/html": [
              "\n",
              "  <div id=\"df-dd3f4efc-fd33-4e74-8046-077d65c3c5b1\" class=\"colab-df-container\">\n",
              "    <div>\n",
              "<style scoped>\n",
              "    .dataframe tbody tr th:only-of-type {\n",
              "        vertical-align: middle;\n",
              "    }\n",
              "\n",
              "    .dataframe tbody tr th {\n",
              "        vertical-align: top;\n",
              "    }\n",
              "\n",
              "    .dataframe thead th {\n",
              "        text-align: right;\n",
              "    }\n",
              "</style>\n",
              "<table border=\"1\" class=\"dataframe\">\n",
              "  <thead>\n",
              "    <tr style=\"text-align: right;\">\n",
              "      <th></th>\n",
              "      <th>poder_ataque_time_mandante</th>\n",
              "      <th>poder_ataque_time_visitante</th>\n",
              "      <th>poder_defesa_time_mandante</th>\n",
              "      <th>poder_defesa_time_visitante</th>\n",
              "      <th>classe_resultado</th>\n",
              "    </tr>\n",
              "  </thead>\n",
              "  <tbody>\n",
              "    <tr>\n",
              "      <th>0</th>\n",
              "      <td>9</td>\n",
              "      <td>6</td>\n",
              "      <td>8</td>\n",
              "      <td>5</td>\n",
              "      <td>1</td>\n",
              "    </tr>\n",
              "    <tr>\n",
              "      <th>1</th>\n",
              "      <td>12</td>\n",
              "      <td>0</td>\n",
              "      <td>7</td>\n",
              "      <td>4</td>\n",
              "      <td>1</td>\n",
              "    </tr>\n",
              "    <tr>\n",
              "      <th>2</th>\n",
              "      <td>6</td>\n",
              "      <td>11</td>\n",
              "      <td>9</td>\n",
              "      <td>12</td>\n",
              "      <td>0</td>\n",
              "    </tr>\n",
              "    <tr>\n",
              "      <th>3</th>\n",
              "      <td>8</td>\n",
              "      <td>5</td>\n",
              "      <td>5</td>\n",
              "      <td>4</td>\n",
              "      <td>2</td>\n",
              "    </tr>\n",
              "    <tr>\n",
              "      <th>4</th>\n",
              "      <td>14</td>\n",
              "      <td>7</td>\n",
              "      <td>6</td>\n",
              "      <td>6</td>\n",
              "      <td>2</td>\n",
              "    </tr>\n",
              "    <tr>\n",
              "      <th>...</th>\n",
              "      <td>...</td>\n",
              "      <td>...</td>\n",
              "      <td>...</td>\n",
              "      <td>...</td>\n",
              "      <td>...</td>\n",
              "    </tr>\n",
              "    <tr>\n",
              "      <th>2535</th>\n",
              "      <td>6</td>\n",
              "      <td>1</td>\n",
              "      <td>5</td>\n",
              "      <td>6</td>\n",
              "      <td>1</td>\n",
              "    </tr>\n",
              "    <tr>\n",
              "      <th>2536</th>\n",
              "      <td>6</td>\n",
              "      <td>3</td>\n",
              "      <td>4</td>\n",
              "      <td>6</td>\n",
              "      <td>0</td>\n",
              "    </tr>\n",
              "    <tr>\n",
              "      <th>2537</th>\n",
              "      <td>8</td>\n",
              "      <td>1</td>\n",
              "      <td>3</td>\n",
              "      <td>6</td>\n",
              "      <td>1</td>\n",
              "    </tr>\n",
              "    <tr>\n",
              "      <th>2538</th>\n",
              "      <td>4</td>\n",
              "      <td>3</td>\n",
              "      <td>1</td>\n",
              "      <td>9</td>\n",
              "      <td>1</td>\n",
              "    </tr>\n",
              "    <tr>\n",
              "      <th>2539</th>\n",
              "      <td>6</td>\n",
              "      <td>10</td>\n",
              "      <td>3</td>\n",
              "      <td>7</td>\n",
              "      <td>1</td>\n",
              "    </tr>\n",
              "  </tbody>\n",
              "</table>\n",
              "<p>2540 rows × 5 columns</p>\n",
              "</div>\n",
              "    <div class=\"colab-df-buttons\">\n",
              "\n",
              "  <div class=\"colab-df-container\">\n",
              "    <button class=\"colab-df-convert\" onclick=\"convertToInteractive('df-dd3f4efc-fd33-4e74-8046-077d65c3c5b1')\"\n",
              "            title=\"Convert this dataframe to an interactive table.\"\n",
              "            style=\"display:none;\">\n",
              "\n",
              "  <svg xmlns=\"http://www.w3.org/2000/svg\" height=\"24px\" viewBox=\"0 -960 960 960\">\n",
              "    <path d=\"M120-120v-720h720v720H120Zm60-500h600v-160H180v160Zm220 220h160v-160H400v160Zm0 220h160v-160H400v160ZM180-400h160v-160H180v160Zm440 0h160v-160H620v160ZM180-180h160v-160H180v160Zm440 0h160v-160H620v160Z\"/>\n",
              "  </svg>\n",
              "    </button>\n",
              "\n",
              "  <style>\n",
              "    .colab-df-container {\n",
              "      display:flex;\n",
              "      gap: 12px;\n",
              "    }\n",
              "\n",
              "    .colab-df-convert {\n",
              "      background-color: #E8F0FE;\n",
              "      border: none;\n",
              "      border-radius: 50%;\n",
              "      cursor: pointer;\n",
              "      display: none;\n",
              "      fill: #1967D2;\n",
              "      height: 32px;\n",
              "      padding: 0 0 0 0;\n",
              "      width: 32px;\n",
              "    }\n",
              "\n",
              "    .colab-df-convert:hover {\n",
              "      background-color: #E2EBFA;\n",
              "      box-shadow: 0px 1px 2px rgba(60, 64, 67, 0.3), 0px 1px 3px 1px rgba(60, 64, 67, 0.15);\n",
              "      fill: #174EA6;\n",
              "    }\n",
              "\n",
              "    .colab-df-buttons div {\n",
              "      margin-bottom: 4px;\n",
              "    }\n",
              "\n",
              "    [theme=dark] .colab-df-convert {\n",
              "      background-color: #3B4455;\n",
              "      fill: #D2E3FC;\n",
              "    }\n",
              "\n",
              "    [theme=dark] .colab-df-convert:hover {\n",
              "      background-color: #434B5C;\n",
              "      box-shadow: 0px 1px 3px 1px rgba(0, 0, 0, 0.15);\n",
              "      filter: drop-shadow(0px 1px 2px rgba(0, 0, 0, 0.3));\n",
              "      fill: #FFFFFF;\n",
              "    }\n",
              "  </style>\n",
              "\n",
              "    <script>\n",
              "      const buttonEl =\n",
              "        document.querySelector('#df-dd3f4efc-fd33-4e74-8046-077d65c3c5b1 button.colab-df-convert');\n",
              "      buttonEl.style.display =\n",
              "        google.colab.kernel.accessAllowed ? 'block' : 'none';\n",
              "\n",
              "      async function convertToInteractive(key) {\n",
              "        const element = document.querySelector('#df-dd3f4efc-fd33-4e74-8046-077d65c3c5b1');\n",
              "        const dataTable =\n",
              "          await google.colab.kernel.invokeFunction('convertToInteractive',\n",
              "                                                    [key], {});\n",
              "        if (!dataTable) return;\n",
              "\n",
              "        const docLinkHtml = 'Like what you see? Visit the ' +\n",
              "          '<a target=\"_blank\" href=https://colab.research.google.com/notebooks/data_table.ipynb>data table notebook</a>'\n",
              "          + ' to learn more about interactive tables.';\n",
              "        element.innerHTML = '';\n",
              "        dataTable['output_type'] = 'display_data';\n",
              "        await google.colab.output.renderOutput(dataTable, element);\n",
              "        const docLink = document.createElement('div');\n",
              "        docLink.innerHTML = docLinkHtml;\n",
              "        element.appendChild(docLink);\n",
              "      }\n",
              "    </script>\n",
              "  </div>\n",
              "\n",
              "\n",
              "<div id=\"df-125c35a4-d84f-4348-8c9a-e2123d513b82\">\n",
              "  <button class=\"colab-df-quickchart\" onclick=\"quickchart('df-125c35a4-d84f-4348-8c9a-e2123d513b82')\"\n",
              "            title=\"Suggest charts\"\n",
              "            style=\"display:none;\">\n",
              "\n",
              "<svg xmlns=\"http://www.w3.org/2000/svg\" height=\"24px\"viewBox=\"0 0 24 24\"\n",
              "     width=\"24px\">\n",
              "    <g>\n",
              "        <path d=\"M19 3H5c-1.1 0-2 .9-2 2v14c0 1.1.9 2 2 2h14c1.1 0 2-.9 2-2V5c0-1.1-.9-2-2-2zM9 17H7v-7h2v7zm4 0h-2V7h2v10zm4 0h-2v-4h2v4z\"/>\n",
              "    </g>\n",
              "</svg>\n",
              "  </button>\n",
              "\n",
              "<style>\n",
              "  .colab-df-quickchart {\n",
              "      --bg-color: #E8F0FE;\n",
              "      --fill-color: #1967D2;\n",
              "      --hover-bg-color: #E2EBFA;\n",
              "      --hover-fill-color: #174EA6;\n",
              "      --disabled-fill-color: #AAA;\n",
              "      --disabled-bg-color: #DDD;\n",
              "  }\n",
              "\n",
              "  [theme=dark] .colab-df-quickchart {\n",
              "      --bg-color: #3B4455;\n",
              "      --fill-color: #D2E3FC;\n",
              "      --hover-bg-color: #434B5C;\n",
              "      --hover-fill-color: #FFFFFF;\n",
              "      --disabled-bg-color: #3B4455;\n",
              "      --disabled-fill-color: #666;\n",
              "  }\n",
              "\n",
              "  .colab-df-quickchart {\n",
              "    background-color: var(--bg-color);\n",
              "    border: none;\n",
              "    border-radius: 50%;\n",
              "    cursor: pointer;\n",
              "    display: none;\n",
              "    fill: var(--fill-color);\n",
              "    height: 32px;\n",
              "    padding: 0;\n",
              "    width: 32px;\n",
              "  }\n",
              "\n",
              "  .colab-df-quickchart:hover {\n",
              "    background-color: var(--hover-bg-color);\n",
              "    box-shadow: 0 1px 2px rgba(60, 64, 67, 0.3), 0 1px 3px 1px rgba(60, 64, 67, 0.15);\n",
              "    fill: var(--button-hover-fill-color);\n",
              "  }\n",
              "\n",
              "  .colab-df-quickchart-complete:disabled,\n",
              "  .colab-df-quickchart-complete:disabled:hover {\n",
              "    background-color: var(--disabled-bg-color);\n",
              "    fill: var(--disabled-fill-color);\n",
              "    box-shadow: none;\n",
              "  }\n",
              "\n",
              "  .colab-df-spinner {\n",
              "    border: 2px solid var(--fill-color);\n",
              "    border-color: transparent;\n",
              "    border-bottom-color: var(--fill-color);\n",
              "    animation:\n",
              "      spin 1s steps(1) infinite;\n",
              "  }\n",
              "\n",
              "  @keyframes spin {\n",
              "    0% {\n",
              "      border-color: transparent;\n",
              "      border-bottom-color: var(--fill-color);\n",
              "      border-left-color: var(--fill-color);\n",
              "    }\n",
              "    20% {\n",
              "      border-color: transparent;\n",
              "      border-left-color: var(--fill-color);\n",
              "      border-top-color: var(--fill-color);\n",
              "    }\n",
              "    30% {\n",
              "      border-color: transparent;\n",
              "      border-left-color: var(--fill-color);\n",
              "      border-top-color: var(--fill-color);\n",
              "      border-right-color: var(--fill-color);\n",
              "    }\n",
              "    40% {\n",
              "      border-color: transparent;\n",
              "      border-right-color: var(--fill-color);\n",
              "      border-top-color: var(--fill-color);\n",
              "    }\n",
              "    60% {\n",
              "      border-color: transparent;\n",
              "      border-right-color: var(--fill-color);\n",
              "    }\n",
              "    80% {\n",
              "      border-color: transparent;\n",
              "      border-right-color: var(--fill-color);\n",
              "      border-bottom-color: var(--fill-color);\n",
              "    }\n",
              "    90% {\n",
              "      border-color: transparent;\n",
              "      border-bottom-color: var(--fill-color);\n",
              "    }\n",
              "  }\n",
              "</style>\n",
              "\n",
              "  <script>\n",
              "    async function quickchart(key) {\n",
              "      const quickchartButtonEl =\n",
              "        document.querySelector('#' + key + ' button');\n",
              "      quickchartButtonEl.disabled = true;  // To prevent multiple clicks.\n",
              "      quickchartButtonEl.classList.add('colab-df-spinner');\n",
              "      try {\n",
              "        const charts = await google.colab.kernel.invokeFunction(\n",
              "            'suggestCharts', [key], {});\n",
              "      } catch (error) {\n",
              "        console.error('Error during call to suggestCharts:', error);\n",
              "      }\n",
              "      quickchartButtonEl.classList.remove('colab-df-spinner');\n",
              "      quickchartButtonEl.classList.add('colab-df-quickchart-complete');\n",
              "    }\n",
              "    (() => {\n",
              "      let quickchartButtonEl =\n",
              "        document.querySelector('#df-125c35a4-d84f-4348-8c9a-e2123d513b82 button');\n",
              "      quickchartButtonEl.style.display =\n",
              "        google.colab.kernel.accessAllowed ? 'block' : 'none';\n",
              "    })();\n",
              "  </script>\n",
              "</div>\n",
              "\n",
              "  <div id=\"id_b5a0656c-bd51-4005-bd6c-2d2e787bfb38\">\n",
              "    <style>\n",
              "      .colab-df-generate {\n",
              "        background-color: #E8F0FE;\n",
              "        border: none;\n",
              "        border-radius: 50%;\n",
              "        cursor: pointer;\n",
              "        display: none;\n",
              "        fill: #1967D2;\n",
              "        height: 32px;\n",
              "        padding: 0 0 0 0;\n",
              "        width: 32px;\n",
              "      }\n",
              "\n",
              "      .colab-df-generate:hover {\n",
              "        background-color: #E2EBFA;\n",
              "        box-shadow: 0px 1px 2px rgba(60, 64, 67, 0.3), 0px 1px 3px 1px rgba(60, 64, 67, 0.15);\n",
              "        fill: #174EA6;\n",
              "      }\n",
              "\n",
              "      [theme=dark] .colab-df-generate {\n",
              "        background-color: #3B4455;\n",
              "        fill: #D2E3FC;\n",
              "      }\n",
              "\n",
              "      [theme=dark] .colab-df-generate:hover {\n",
              "        background-color: #434B5C;\n",
              "        box-shadow: 0px 1px 3px 1px rgba(0, 0, 0, 0.15);\n",
              "        filter: drop-shadow(0px 1px 2px rgba(0, 0, 0, 0.3));\n",
              "        fill: #FFFFFF;\n",
              "      }\n",
              "    </style>\n",
              "    <button class=\"colab-df-generate\" onclick=\"generateWithVariable('DataFrame_XGBoost')\"\n",
              "            title=\"Generate code using this dataframe.\"\n",
              "            style=\"display:none;\">\n",
              "\n",
              "  <svg xmlns=\"http://www.w3.org/2000/svg\" height=\"24px\"viewBox=\"0 0 24 24\"\n",
              "       width=\"24px\">\n",
              "    <path d=\"M7,19H8.4L18.45,9,17,7.55,7,17.6ZM5,21V16.75L18.45,3.32a2,2,0,0,1,2.83,0l1.4,1.43a1.91,1.91,0,0,1,.58,1.4,1.91,1.91,0,0,1-.58,1.4L9.25,21ZM18.45,9,17,7.55Zm-12,3A5.31,5.31,0,0,0,4.9,8.1,5.31,5.31,0,0,0,1,6.5,5.31,5.31,0,0,0,4.9,4.9,5.31,5.31,0,0,0,6.5,1,5.31,5.31,0,0,0,8.1,4.9,5.31,5.31,0,0,0,12,6.5,5.46,5.46,0,0,0,6.5,12Z\"/>\n",
              "  </svg>\n",
              "    </button>\n",
              "    <script>\n",
              "      (() => {\n",
              "      const buttonEl =\n",
              "        document.querySelector('#id_b5a0656c-bd51-4005-bd6c-2d2e787bfb38 button.colab-df-generate');\n",
              "      buttonEl.style.display =\n",
              "        google.colab.kernel.accessAllowed ? 'block' : 'none';\n",
              "\n",
              "      buttonEl.onclick = () => {\n",
              "        google.colab.notebook.generateWithVariable('DataFrame_XGBoost');\n",
              "      }\n",
              "      })();\n",
              "    </script>\n",
              "  </div>\n",
              "\n",
              "    </div>\n",
              "  </div>\n"
            ],
            "application/vnd.google.colaboratory.intrinsic+json": {
              "type": "dataframe",
              "variable_name": "DataFrame_XGBoost",
              "summary": "{\n  \"name\": \"DataFrame_XGBoost\",\n  \"rows\": 2540,\n  \"fields\": [\n    {\n      \"column\": \"poder_ataque_time_mandante\",\n      \"properties\": {\n        \"dtype\": \"number\",\n        \"std\": 2,\n        \"min\": 0,\n        \"max\": 18,\n        \"num_unique_values\": 19,\n        \"samples\": [\n          9,\n          10,\n          3\n        ],\n        \"semantic_type\": \"\",\n        \"description\": \"\"\n      }\n    },\n    {\n      \"column\": \"poder_ataque_time_visitante\",\n      \"properties\": {\n        \"dtype\": \"number\",\n        \"std\": 2,\n        \"min\": 0,\n        \"max\": 16,\n        \"num_unique_values\": 16,\n        \"samples\": [\n          6,\n          0,\n          4\n        ],\n        \"semantic_type\": \"\",\n        \"description\": \"\"\n      }\n    },\n    {\n      \"column\": \"poder_defesa_time_mandante\",\n      \"properties\": {\n        \"dtype\": \"number\",\n        \"std\": 2,\n        \"min\": 0,\n        \"max\": 15,\n        \"num_unique_values\": 16,\n        \"samples\": [\n          8,\n          7,\n          3\n        ],\n        \"semantic_type\": \"\",\n        \"description\": \"\"\n      }\n    },\n    {\n      \"column\": \"poder_defesa_time_visitante\",\n      \"properties\": {\n        \"dtype\": \"number\",\n        \"std\": 2,\n        \"min\": 0,\n        \"max\": 20,\n        \"num_unique_values\": 19,\n        \"samples\": [\n          5,\n          3,\n          2\n        ],\n        \"semantic_type\": \"\",\n        \"description\": \"\"\n      }\n    },\n    {\n      \"column\": \"classe_resultado\",\n      \"properties\": {\n        \"dtype\": \"number\",\n        \"std\": 0,\n        \"min\": 0,\n        \"max\": 2,\n        \"num_unique_values\": 3,\n        \"samples\": [\n          1,\n          0,\n          2\n        ],\n        \"semantic_type\": \"\",\n        \"description\": \"\"\n      }\n    }\n  ]\n}"
            }
          },
          "metadata": {},
          "execution_count": 9
        }
      ]
    },
    {
      "cell_type": "code",
      "source": [
        "# Definir as variáveis ​​preditoras e de resposta\n",
        "features = DataFrame_XGBoost[['poder_ataque_time_mandante',\n",
        "                                   'poder_ataque_time_visitante',\n",
        "                                   'poder_defesa_time_mandante',\n",
        "                                   'poder_defesa_time_visitante']]\n",
        "target = DataFrame_XGBoost['classe_resultado']"
      ],
      "metadata": {
        "id": "y12slSzhmHXR"
      },
      "execution_count": 10,
      "outputs": []
    },
    {
      "cell_type": "code",
      "source": [
        "# Divisão do conjunto de dados em treino e teste\n",
        "X_train, X_test, y_train, y_test = train_test_split(features,\n",
        "                                                    target,\n",
        "                                                    test_size=0.25,\n",
        "                                                    random_state=42)"
      ],
      "metadata": {
        "id": "1PG10AjnmU6m"
      },
      "execution_count": 11,
      "outputs": []
    },
    {
      "cell_type": "code",
      "source": [
        "#from xgboost import XGBClassifier\n",
        "from sklearn.metrics import accuracy_score\n",
        "from sklearn.metrics import classification_report\n",
        "from sklearn.metrics import confusion_matrix"
      ],
      "metadata": {
        "id": "CfynsxBNm_pL"
      },
      "execution_count": 12,
      "outputs": []
    },
    {
      "cell_type": "code",
      "source": [
        "# Criar e treinar o modelo XGBoost\n",
        "XGB_model = XGBClassifier(objective='multi:softmax',\n",
        "                          num_class=3,\n",
        "                          random_state=42)\n",
        "XGB_model.fit(X_train, y_train)"
      ],
      "metadata": {
        "colab": {
          "base_uri": "https://localhost:8080/",
          "height": 248
        },
        "id": "ftYOJjPQmb6a",
        "outputId": "bca0311b-4b5e-44e2-b332-177d29b37f3e"
      },
      "execution_count": 13,
      "outputs": [
        {
          "output_type": "execute_result",
          "data": {
            "text/plain": [
              "XGBClassifier(base_score=None, booster=None, callbacks=None,\n",
              "              colsample_bylevel=None, colsample_bynode=None,\n",
              "              colsample_bytree=None, device=None, early_stopping_rounds=None,\n",
              "              enable_categorical=False, eval_metric=None, feature_types=None,\n",
              "              gamma=None, grow_policy=None, importance_type=None,\n",
              "              interaction_constraints=None, learning_rate=None, max_bin=None,\n",
              "              max_cat_threshold=None, max_cat_to_onehot=None,\n",
              "              max_delta_step=None, max_depth=None, max_leaves=None,\n",
              "              min_child_weight=None, missing=nan, monotone_constraints=None,\n",
              "              multi_strategy=None, n_estimators=None, n_jobs=None, num_class=3,\n",
              "              num_parallel_tree=None, ...)"
            ],
            "text/html": [
              "<style>#sk-container-id-1 {color: black;background-color: white;}#sk-container-id-1 pre{padding: 0;}#sk-container-id-1 div.sk-toggleable {background-color: white;}#sk-container-id-1 label.sk-toggleable__label {cursor: pointer;display: block;width: 100%;margin-bottom: 0;padding: 0.3em;box-sizing: border-box;text-align: center;}#sk-container-id-1 label.sk-toggleable__label-arrow:before {content: \"▸\";float: left;margin-right: 0.25em;color: #696969;}#sk-container-id-1 label.sk-toggleable__label-arrow:hover:before {color: black;}#sk-container-id-1 div.sk-estimator:hover label.sk-toggleable__label-arrow:before {color: black;}#sk-container-id-1 div.sk-toggleable__content {max-height: 0;max-width: 0;overflow: hidden;text-align: left;background-color: #f0f8ff;}#sk-container-id-1 div.sk-toggleable__content pre {margin: 0.2em;color: black;border-radius: 0.25em;background-color: #f0f8ff;}#sk-container-id-1 input.sk-toggleable__control:checked~div.sk-toggleable__content {max-height: 200px;max-width: 100%;overflow: auto;}#sk-container-id-1 input.sk-toggleable__control:checked~label.sk-toggleable__label-arrow:before {content: \"▾\";}#sk-container-id-1 div.sk-estimator input.sk-toggleable__control:checked~label.sk-toggleable__label {background-color: #d4ebff;}#sk-container-id-1 div.sk-label input.sk-toggleable__control:checked~label.sk-toggleable__label {background-color: #d4ebff;}#sk-container-id-1 input.sk-hidden--visually {border: 0;clip: rect(1px 1px 1px 1px);clip: rect(1px, 1px, 1px, 1px);height: 1px;margin: -1px;overflow: hidden;padding: 0;position: absolute;width: 1px;}#sk-container-id-1 div.sk-estimator {font-family: monospace;background-color: #f0f8ff;border: 1px dotted black;border-radius: 0.25em;box-sizing: border-box;margin-bottom: 0.5em;}#sk-container-id-1 div.sk-estimator:hover {background-color: #d4ebff;}#sk-container-id-1 div.sk-parallel-item::after {content: \"\";width: 100%;border-bottom: 1px solid gray;flex-grow: 1;}#sk-container-id-1 div.sk-label:hover label.sk-toggleable__label {background-color: #d4ebff;}#sk-container-id-1 div.sk-serial::before {content: \"\";position: absolute;border-left: 1px solid gray;box-sizing: border-box;top: 0;bottom: 0;left: 50%;z-index: 0;}#sk-container-id-1 div.sk-serial {display: flex;flex-direction: column;align-items: center;background-color: white;padding-right: 0.2em;padding-left: 0.2em;position: relative;}#sk-container-id-1 div.sk-item {position: relative;z-index: 1;}#sk-container-id-1 div.sk-parallel {display: flex;align-items: stretch;justify-content: center;background-color: white;position: relative;}#sk-container-id-1 div.sk-item::before, #sk-container-id-1 div.sk-parallel-item::before {content: \"\";position: absolute;border-left: 1px solid gray;box-sizing: border-box;top: 0;bottom: 0;left: 50%;z-index: -1;}#sk-container-id-1 div.sk-parallel-item {display: flex;flex-direction: column;z-index: 1;position: relative;background-color: white;}#sk-container-id-1 div.sk-parallel-item:first-child::after {align-self: flex-end;width: 50%;}#sk-container-id-1 div.sk-parallel-item:last-child::after {align-self: flex-start;width: 50%;}#sk-container-id-1 div.sk-parallel-item:only-child::after {width: 0;}#sk-container-id-1 div.sk-dashed-wrapped {border: 1px dashed gray;margin: 0 0.4em 0.5em 0.4em;box-sizing: border-box;padding-bottom: 0.4em;background-color: white;}#sk-container-id-1 div.sk-label label {font-family: monospace;font-weight: bold;display: inline-block;line-height: 1.2em;}#sk-container-id-1 div.sk-label-container {text-align: center;}#sk-container-id-1 div.sk-container {/* jupyter's `normalize.less` sets `[hidden] { display: none; }` but bootstrap.min.css set `[hidden] { display: none !important; }` so we also need the `!important` here to be able to override the default hidden behavior on the sphinx rendered scikit-learn.org. See: https://github.com/scikit-learn/scikit-learn/issues/21755 */display: inline-block !important;position: relative;}#sk-container-id-1 div.sk-text-repr-fallback {display: none;}</style><div id=\"sk-container-id-1\" class=\"sk-top-container\"><div class=\"sk-text-repr-fallback\"><pre>XGBClassifier(base_score=None, booster=None, callbacks=None,\n",
              "              colsample_bylevel=None, colsample_bynode=None,\n",
              "              colsample_bytree=None, device=None, early_stopping_rounds=None,\n",
              "              enable_categorical=False, eval_metric=None, feature_types=None,\n",
              "              gamma=None, grow_policy=None, importance_type=None,\n",
              "              interaction_constraints=None, learning_rate=None, max_bin=None,\n",
              "              max_cat_threshold=None, max_cat_to_onehot=None,\n",
              "              max_delta_step=None, max_depth=None, max_leaves=None,\n",
              "              min_child_weight=None, missing=nan, monotone_constraints=None,\n",
              "              multi_strategy=None, n_estimators=None, n_jobs=None, num_class=3,\n",
              "              num_parallel_tree=None, ...)</pre><b>In a Jupyter environment, please rerun this cell to show the HTML representation or trust the notebook. <br />On GitHub, the HTML representation is unable to render, please try loading this page with nbviewer.org.</b></div><div class=\"sk-container\" hidden><div class=\"sk-item\"><div class=\"sk-estimator sk-toggleable\"><input class=\"sk-toggleable__control sk-hidden--visually\" id=\"sk-estimator-id-1\" type=\"checkbox\" checked><label for=\"sk-estimator-id-1\" class=\"sk-toggleable__label sk-toggleable__label-arrow\">XGBClassifier</label><div class=\"sk-toggleable__content\"><pre>XGBClassifier(base_score=None, booster=None, callbacks=None,\n",
              "              colsample_bylevel=None, colsample_bynode=None,\n",
              "              colsample_bytree=None, device=None, early_stopping_rounds=None,\n",
              "              enable_categorical=False, eval_metric=None, feature_types=None,\n",
              "              gamma=None, grow_policy=None, importance_type=None,\n",
              "              interaction_constraints=None, learning_rate=None, max_bin=None,\n",
              "              max_cat_threshold=None, max_cat_to_onehot=None,\n",
              "              max_delta_step=None, max_depth=None, max_leaves=None,\n",
              "              min_child_weight=None, missing=nan, monotone_constraints=None,\n",
              "              multi_strategy=None, n_estimators=None, n_jobs=None, num_class=3,\n",
              "              num_parallel_tree=None, ...)</pre></div></div></div></div></div>"
            ]
          },
          "metadata": {},
          "execution_count": 13
        }
      ]
    },
    {
      "cell_type": "code",
      "source": [
        "# Fazer previsões no conjunto de teste\n",
        "y_pred = XGB_model.predict(X_test)"
      ],
      "metadata": {
        "id": "4IHiDlwjoJVK"
      },
      "execution_count": 14,
      "outputs": []
    },
    {
      "cell_type": "code",
      "source": [
        "# Avaliar o desempenho do modelo\n",
        "accuracy = accuracy_score(y_test, y_pred)\n",
        "conf_matrix = confusion_matrix(y_test, y_pred)\n",
        "class_report = classification_report(y_test, y_pred)\n",
        "\n",
        "print('Acurácia do modelo:')\n",
        "print(accuracy)\n",
        "print('Matriz de Confusão:')\n",
        "print(conf_matrix)\n",
        "print('Relatório de Classificação:')\n",
        "print(class_report)\n",
        "\n",
        "# Imprime Acurácia do modelo\n",
        "print(\"Acurácia do treinamento: %f\" % XGB_model.score(X_train, y_train))\n",
        "print(\"Acurácia do teste: %f\" % XGB_model.score(X_test, y_test))"
      ],
      "metadata": {
        "colab": {
          "base_uri": "https://localhost:8080/"
        },
        "id": "tekLUeLImtLS",
        "outputId": "9962f0b8-a208-4db0-f326-51f024474b05"
      },
      "execution_count": 15,
      "outputs": [
        {
          "output_type": "stream",
          "name": "stdout",
          "text": [
            "Acurácia do modelo:\n",
            "0.41732283464566927\n",
            "Matriz de Confusão:\n",
            "[[ 22 108  32]\n",
            " [ 60 213  52]\n",
            " [ 28  90  30]]\n",
            "Relatório de Classificação:\n",
            "              precision    recall  f1-score   support\n",
            "\n",
            "           0       0.20      0.14      0.16       162\n",
            "           1       0.52      0.66      0.58       325\n",
            "           2       0.26      0.20      0.23       148\n",
            "\n",
            "    accuracy                           0.42       635\n",
            "   macro avg       0.33      0.33      0.32       635\n",
            "weighted avg       0.38      0.42      0.39       635\n",
            "\n",
            "Acurácia do treinamento: 0.780577\n",
            "Acurácia do teste: 0.417323\n"
          ]
        }
      ]
    },
    {
      "cell_type": "code",
      "source": [
        "import pickle\n",
        "\n",
        "# Salva o modelo\n",
        "with open('XGB_model.pkl', 'wb') as f:\n",
        "    pickle.dump(XGB_model, f)"
      ],
      "metadata": {
        "id": "2_rwe8WinmcH"
      },
      "execution_count": 16,
      "outputs": []
    },
    {
      "cell_type": "code",
      "source": [
        "# Carregue o modelo\n",
        "with open('XGB_model.pkl', 'rb') as f:\n",
        "    XGB_model_loaded = pickle.load(f)"
      ],
      "metadata": {
        "id": "THfi1fAgpQT_"
      },
      "execution_count": 17,
      "outputs": []
    },
    {
      "cell_type": "code",
      "source": [
        "from sklearn import metrics\n",
        "import seaborn as sns\n",
        "%matplotlib inline\n",
        "import matplotlib.pyplot as plt"
      ],
      "metadata": {
        "id": "mO7AIGSCpvNU"
      },
      "execution_count": 18,
      "outputs": []
    },
    {
      "cell_type": "code",
      "source": [
        "#imprimir a Matriz de Confusão para XGBoost\n",
        "XGB_model_pred = XGB_model_loaded.predict(X_test)\n",
        "\n",
        "XGB_model_cm = metrics.confusion_matrix(XGB_model_pred, y_test)\n",
        "\n",
        "sns.heatmap(XGB_model_cm,\n",
        "            annot=True,\n",
        "            fmt='.0f',\n",
        "            xticklabels = [\"Empate\", \"Vitória\", \"Derrota\"] ,\n",
        "            yticklabels = [\"Empate\", \"Vitória\", \"Derrota\"]\n",
        "            )\n",
        "\n",
        "plt.ylabel('Predição Modelo')\n",
        "plt.xlabel('Classificação Real')\n",
        "plt.title('Modelo XGBoost')"
      ],
      "metadata": {
        "colab": {
          "base_uri": "https://localhost:8080/",
          "height": 490
        },
        "id": "dpopkIGqp6Yk",
        "outputId": "7e53c9d6-2fa8-4226-e4d6-6b9336f3e0c2"
      },
      "execution_count": 19,
      "outputs": [
        {
          "output_type": "execute_result",
          "data": {
            "text/plain": [
              "Text(0.5, 1.0, 'Modelo XGBoost')"
            ]
          },
          "metadata": {},
          "execution_count": 19
        },
        {
          "output_type": "display_data",
          "data": {
            "text/plain": [
              "<Figure size 640x480 with 2 Axes>"
            ],
            "image/png": "[encoded data removed]"
          },
          "metadata": {}
        }
      ]
    },
    {
      "cell_type": "code",
      "source": [],
      "metadata": {
        "id": "56gBryt3SGmB"
      },
      "execution_count": null,
      "outputs": []
    },
    {
      "cell_type": "code",
      "source": [
        "#type(mlp_cm)\n",
        "type(XGB_model_cm)"
      ],
      "metadata": {
        "colab": {
          "base_uri": "https://localhost:8080/"
        },
        "id": "sksQyxkw7mKf",
        "outputId": "7856bc74-6a74-4f8b-edc5-4b3cb171ab5b"
      },
      "execution_count": 21,
      "outputs": [
        {
          "output_type": "execute_result",
          "data": {
            "text/plain": [
              "numpy.ndarray"
            ]
          },
          "metadata": {},
          "execution_count": 21
        }
      ]
    },
    {
      "cell_type": "code",
      "source": [
        "#mlp_cm\n",
        "confusion_matrix = XGB_model_cm\n",
        "confusion_matrix"
      ],
      "metadata": {
        "colab": {
          "base_uri": "https://localhost:8080/"
        },
        "id": "7Sh--L2RA20Z",
        "outputId": "018a5817-3fc6-4494-ba83-9926a8abbe00"
      },
      "execution_count": 22,
      "outputs": [
        {
          "output_type": "execute_result",
          "data": {
            "text/plain": [
              "array([[ 22,  60,  28],\n",
              "       [108, 213,  90],\n",
              "       [ 32,  52,  30]])"
            ]
          },
          "metadata": {},
          "execution_count": 22
        }
      ]
    },
    {
      "cell_type": "code",
      "source": [
        "# Cálculo da precisão por classe\n",
        "precision_classes = []\n",
        "for i in range(3):\n",
        "    precision_classes.append(confusion_matrix[i, i] / np.sum(confusion_matrix[:, i]))\n",
        "\n",
        "# Impressão dos resultados\n",
        "print(\"Precisão por classe:\")\n",
        "print(f\"Empate : {precision_classes[0]:.4f}\")\n",
        "print(f\"Vitória: {precision_classes[1]:.4f}\")\n",
        "print(f\"Derrota: {precision_classes[2]:.4f}\")\n",
        "\n",
        "# f\"Valor: {valor:.4f}\"\n",
        "\n",
        "# Cálculo da precisão geral\n",
        "precision_geral = np.trace(confusion_matrix) / np.sum(confusion_matrix)\n",
        "\n",
        "# Impressão da precisão geral\n",
        "print(\"Precisão geral:\", precision_geral)\n",
        "\n",
        "# A precisão mede a proporção de previsões positivas feitas pelo modelo que\n",
        "# estão corretas. Em outras palavras, ela indica a confiabilidade das previsões\n",
        "# do modelo.\n",
        "\n",
        "# Uma alta precisão para uma classe indica que o modelo é confiável na\n",
        "# identificação de exemplos dessa classe.\n",
        "# Uma baixa precisão pode indicar que o modelo está confundindo a classe com\n",
        "# outras classes.\n",
        "\n",
        "# A precisão é sensível ao desequilíbrio de classes.\n",
        "# Se uma classe for muito mais frequente que as outras, a precisão geral pode\n",
        "# ser alta mesmo que o modelo tenha um desempenho ruim na identificação das\n",
        "# classes menos frequentes."
      ],
      "metadata": {
        "colab": {
          "base_uri": "https://localhost:8080/"
        },
        "id": "RVLkBF617QGN",
        "outputId": "4bb2f68a-9a3d-412b-c60b-6893aecd54cb"
      },
      "execution_count": 24,
      "outputs": [
        {
          "output_type": "stream",
          "name": "stdout",
          "text": [
            "Precisão por classe:\n",
            "Empate : 0.1358\n",
            "Vitória: 0.6554\n",
            "Derrota: 0.2027\n",
            "Precisão geral: 0.41732283464566927\n"
          ]
        }
      ]
    },
    {
      "cell_type": "code",
      "source": [
        "# Cálculo do recall por classe\n",
        "recall_classes = []\n",
        "for i in range(3):\n",
        "    recall_classes.append(confusion_matrix[i, i] / np.sum(confusion_matrix[i, :]))\n",
        "\n",
        "# Impressão dos resultados\n",
        "print(\"Recall por classe:\")\n",
        "print(f\"Empate : {recall_classes[0]:.4f}\")\n",
        "print(f\"Vitória: {recall_classes[1]:.4f}\")\n",
        "print(f\"Derrota: {recall_classes[2]:.4f}\")\n",
        "\n",
        "#==============================================================================\n",
        "# Recall = Verdadeiros Positivos / (Verdadeiros Positivos + Falsos Negativos)\n",
        "#==============================================================================\n",
        "# O recall é uma métrica importante para avaliar a capacidade do modelo de\n",
        "# identificar todos os exemplos de uma classe, mesmo que isso signifique que ele\n",
        "# irá classificar incorretamente alguns exemplos de outras classes."
      ],
      "metadata": {
        "colab": {
          "base_uri": "https://localhost:8080/"
        },
        "id": "Jb43BlzK9Hbu",
        "outputId": "08ded0ea-c9e1-465e-e453-05a4f7fa0945"
      },
      "execution_count": 25,
      "outputs": [
        {
          "output_type": "stream",
          "name": "stdout",
          "text": [
            "Recall por classe:\n",
            "Empate : 0.2000\n",
            "Vitória: 0.5182\n",
            "Derrota: 0.2632\n"
          ]
        }
      ]
    },
    {
      "cell_type": "code",
      "source": [
        "# Cálculo da acurácia\n",
        "accuracy = np.trace(confusion_matrix) / np.sum(confusion_matrix)\n",
        "\n",
        "# Impressão do resultado\n",
        "print(\"Acurácia:\", accuracy)\n",
        "\n",
        "# É importante verificar se a matriz de confusão está correta antes de calcular\n",
        "# a acurácia.\n",
        "# A acurácia é uma métrica simples que indica a proporção de exemplos que foram\n",
        "# classificados corretamente pelo modelo. No entanto, ela pode ser enganosa em\n",
        "# casos de desbalanceamento de classes, quando uma classe é muito mais frequente\n",
        "# que as outras."
      ],
      "metadata": {
        "colab": {
          "base_uri": "https://localhost:8080/"
        },
        "id": "MxFLpaT29Pjo",
        "outputId": "d3a0ef3c-539a-45df-99de-8ffb34984f9b"
      },
      "execution_count": 26,
      "outputs": [
        {
          "output_type": "stream",
          "name": "stdout",
          "text": [
            "Acurácia: 0.41732283464566927\n"
          ]
        }
      ]
    },
    {
      "cell_type": "code",
      "source": [
        "# Cálculo do F1-score por classe\n",
        "f1_classes = []\n",
        "for i in range(3):\n",
        "    precision = confusion_matrix[i, i] / np.sum(confusion_matrix[:, i])\n",
        "    recall = confusion_matrix[i, i] / np.sum(confusion_matrix[i, :])\n",
        "    f1_classes.append(2 * (precision * recall) / (precision + recall))\n",
        "\n",
        "# Impressão dos resultados\n",
        "print(\"F1-score por classe:\")\n",
        "print(f\"Empate : {f1_classes[0]:.4f}\")\n",
        "print(f\"Vitória: {f1_classes[1]:.4f}\")\n",
        "print(f\"Derrota: {f1_classes[2]:.4f}\")\n",
        "\n",
        "# Cálculo do F1-score geral\n",
        "f1_geral = np.mean(f1_classes)\n",
        "\n",
        "# Impressão do resultado\n",
        "print(\"F1-score geral:\", f1_geral)\n",
        "\n",
        "# F1-score = 2 * (Precisão * Recall) / (Precisão + Recall)\n",
        "# O F1-score é uma métrica que combina precisão e recall em uma única medida,\n",
        "# sendo útil para avaliar o desempenho do modelo em problemas de classificação\n",
        "# com múltiplas classes."
      ],
      "metadata": {
        "colab": {
          "base_uri": "https://localhost:8080/"
        },
        "id": "_CRDf4_F-o6i",
        "outputId": "80a286b5-6239-458b-f0c7-13a5a5ff28b5"
      },
      "execution_count": 27,
      "outputs": [
        {
          "output_type": "stream",
          "name": "stdout",
          "text": [
            "F1-score por classe:\n",
            "Empate : 0.1618\n",
            "Vitória: 0.5788\n",
            "Derrota: 0.2290\n",
            "F1-score geral: 0.32319222909874207\n"
          ]
        }
      ]
    },
    {
      "cell_type": "markdown",
      "source": [
        "#Balanceamento de Carga - Oversampling\n"
      ],
      "metadata": {
        "id": "KTrFEoyAq-CY"
      }
    },
    {
      "cell_type": "code",
      "source": [
        "# Verificando distribuição das variáveis target\n",
        "target.value_counts()"
      ],
      "metadata": {
        "colab": {
          "base_uri": "https://localhost:8080/"
        },
        "id": "53y4HvLwqqbC",
        "outputId": "75de384d-948d-4c8e-ded7-f877714cd8fe"
      },
      "execution_count": 28,
      "outputs": [
        {
          "output_type": "execute_result",
          "data": {
            "text/plain": [
              "1    1258\n",
              "0     674\n",
              "2     608\n",
              "Name: classe_resultado, dtype: int64"
            ]
          },
          "metadata": {},
          "execution_count": 28
        }
      ]
    },
    {
      "cell_type": "code",
      "source": [
        "# Biblioteca para balanceamento de carga.\n",
        "from imblearn.over_sampling import SMOTE"
      ],
      "metadata": {
        "id": "voHPp9rirWQn"
      },
      "execution_count": 29,
      "outputs": []
    },
    {
      "cell_type": "code",
      "source": [
        "##### >>>> Solucao do erro da celula abaixo Sujerida pelo Google <<<< #####\n",
        "from sklearn.preprocessing import LabelEncoder\n",
        "\n",
        "# Create a LabelEncoder object\n",
        "# label_encoder = LabelEncoder()\n",
        "\n",
        "# Encode the target variable (target = y)\n",
        "# y_encoded = label_encoder.fit_transform(target)\n",
        "\n",
        "# Apply SMOTE to the encoded target variable (features = X)\n",
        "smote = SMOTE(random_state=42)\n",
        "# X_resampled, y_resampled = smote.fit_resample(features, y_encoded)\n",
        "X_resampled, y_resampled = smote.fit_resample(features, target)"
      ],
      "metadata": {
        "id": "wZwG9ZW8rcLl"
      },
      "execution_count": 30,
      "outputs": []
    },
    {
      "cell_type": "code",
      "source": [
        "target.value_counts()\n"
      ],
      "metadata": {
        "colab": {
          "base_uri": "https://localhost:8080/"
        },
        "id": "LyP0IG4QQuVz",
        "outputId": "f255ae9d-17e7-4f6d-904a-4dd4cc33fda1"
      },
      "execution_count": 31,
      "outputs": [
        {
          "output_type": "execute_result",
          "data": {
            "text/plain": [
              "1    1258\n",
              "0     674\n",
              "2     608\n",
              "Name: classe_resultado, dtype: int64"
            ]
          },
          "metadata": {},
          "execution_count": 31
        }
      ]
    },
    {
      "cell_type": "code",
      "source": [
        "np.unique(target)"
      ],
      "metadata": {
        "colab": {
          "base_uri": "https://localhost:8080/"
        },
        "id": "KU2sfr7GRH3j",
        "outputId": "065c8df8-f63c-4778-de24-c2fcd81fe986"
      },
      "execution_count": 32,
      "outputs": [
        {
          "output_type": "execute_result",
          "data": {
            "text/plain": [
              "array([0, 1, 2])"
            ]
          },
          "metadata": {},
          "execution_count": 32
        }
      ]
    },
    {
      "cell_type": "code",
      "source": [
        "# Verificando distribuição das variáveis target após balancemaneto por overssample\n",
        "y_df = y_resampled\n",
        "y_DF = pd.DataFrame(y_df)\n",
        "y_DF.value_counts()"
      ],
      "metadata": {
        "colab": {
          "base_uri": "https://localhost:8080/"
        },
        "id": "ofGVygrZrgbW",
        "outputId": "1b2420e9-5c9b-45f2-f039-063247912ff8"
      },
      "execution_count": 33,
      "outputs": [
        {
          "output_type": "execute_result",
          "data": {
            "text/plain": [
              "classe_resultado\n",
              "0                   1258\n",
              "1                   1258\n",
              "2                   1258\n",
              "dtype: int64"
            ]
          },
          "metadata": {},
          "execution_count": 33
        }
      ]
    },
    {
      "cell_type": "code",
      "source": [
        "# Divisão do conjunto de dados em treino e teste\n",
        "X_train_bal, X_test_bal, y_train_bal, y_test_bal = train_test_split(X_resampled,\n",
        "                                                                    y_resampled,\n",
        "                                                                 test_size=0.30,\n",
        "                                                                random_state=42)"
      ],
      "metadata": {
        "id": "FL2jvLdNrkBK"
      },
      "execution_count": 34,
      "outputs": []
    },
    {
      "cell_type": "code",
      "source": [
        "# Criar e treinar o modelo XGBoost\n",
        "XGB_model_bal = XGBClassifier(objective='multi:softmax', num_class=3, random_state=42)\n",
        "\n",
        "# Treinamento do modelo\n",
        "XGB_model_bal = XGB_model_bal.fit(X_train_bal, y_train_bal)"
      ],
      "metadata": {
        "id": "mnJWW-G6roOy"
      },
      "execution_count": 35,
      "outputs": []
    },
    {
      "cell_type": "code",
      "source": [
        "# Imprime Acurácia do modelo\n",
        "print(\"Acurácia do treinamento: %f\" % XGB_model_bal.score(X_resampled, y_resampled))\n",
        "print(\"Acurácia do teste: %f\" % XGB_model_bal.score(X_test_bal, y_test_bal))"
      ],
      "metadata": {
        "colab": {
          "base_uri": "https://localhost:8080/"
        },
        "id": "VhBUJqbTsCYl",
        "outputId": "2da07d8e-cdc0-47d8-fa4b-f3beadd12c0a"
      },
      "execution_count": 36,
      "outputs": [
        {
          "output_type": "stream",
          "name": "stdout",
          "text": [
            "Acurácia do treinamento: 0.705617\n",
            "Acurácia do teste: 0.498676\n"
          ]
        }
      ]
    },
    {
      "cell_type": "code",
      "source": [
        "# Salva o modelo\n",
        "with open('XGB_model_bal.pkl', 'wb') as f:\n",
        "    pickle.dump(XGB_model_bal, f)"
      ],
      "metadata": {
        "id": "i7lcx67KtuCg"
      },
      "execution_count": 37,
      "outputs": []
    },
    {
      "cell_type": "code",
      "source": [
        "# Carregue o modelo\n",
        "with open('XGB_model_bal.pkl', 'rb') as f:\n",
        "    XGB_model_bal_loaded = pickle.load(f)"
      ],
      "metadata": {
        "id": "xIij75w5tuCq"
      },
      "execution_count": 38,
      "outputs": []
    },
    {
      "cell_type": "code",
      "source": [
        "#imprimir a Matriz de Confusão para XGBoost\n",
        "XGB_model_bal_pred = XGB_model_bal_loaded.predict(X_test_bal)\n",
        "\n",
        "XGB_model_bal_cm = metrics.confusion_matrix(XGB_model_bal_pred, y_test_bal)\n",
        "\n",
        "sns.heatmap(XGB_model_bal_cm,\n",
        "            annot=True,\n",
        "            fmt='.0f',\n",
        "            xticklabels = [\"Empate\", \"Vitória\", \"Derrota\"] ,\n",
        "            yticklabels = [\"Empate\", \"Vitória\", \"Derrota\"]\n",
        "            )\n",
        "\n",
        "plt.ylabel('Predição Modelo')\n",
        "plt.xlabel('Classificação Real')\n",
        "plt.title('Modelo XGBoost')"
      ],
      "metadata": {
        "colab": {
          "base_uri": "https://localhost:8080/",
          "height": 490
        },
        "id": "Mfp1Y-LjszxJ",
        "outputId": "b1a94a24-6264-41fa-f319-cdb5baa4a69c"
      },
      "execution_count": 39,
      "outputs": [
        {
          "output_type": "execute_result",
          "data": {
            "text/plain": [
              "Text(0.5, 1.0, 'Modelo XGBoost')"
            ]
          },
          "metadata": {},
          "execution_count": 39
        },
        {
          "output_type": "display_data",
          "data": {
            "text/plain": [
              "<Figure size 640x480 with 2 Axes>"
            ],
            "image/png": "[encoded data removed]"
          },
          "metadata": {}
        }
      ]
    },
    {
      "cell_type": "code",
      "source": [],
      "metadata": {
        "id": "gJeohOFYS6Vm"
      },
      "execution_count": null,
      "outputs": []
    },
    {
      "cell_type": "code",
      "source": [
        "#type(mlp_cm)\n",
        "type(XGB_model_bal_cm)"
      ],
      "metadata": {
        "colab": {
          "base_uri": "https://localhost:8080/"
        },
        "outputId": "ddd3879e-c2d9-410c-f80a-2e95219b34fc",
        "id": "Q6hmkAAJS-oO"
      },
      "execution_count": 40,
      "outputs": [
        {
          "output_type": "execute_result",
          "data": {
            "text/plain": [
              "numpy.ndarray"
            ]
          },
          "metadata": {},
          "execution_count": 40
        }
      ]
    },
    {
      "cell_type": "code",
      "source": [
        "#mlp_cm\n",
        "confusion_matrix = XGB_model_bal_cm\n",
        "confusion_matrix"
      ],
      "metadata": {
        "colab": {
          "base_uri": "https://localhost:8080/"
        },
        "outputId": "2f2cef19-b7bf-4a55-e542-55f1939e20e9",
        "id": "gtOAGZrqS-oX"
      },
      "execution_count": 41,
      "outputs": [
        {
          "output_type": "execute_result",
          "data": {
            "text/plain": [
              "array([[192, 118,  69],\n",
              "       [ 83, 165,  83],\n",
              "       [100, 115, 208]])"
            ]
          },
          "metadata": {},
          "execution_count": 41
        }
      ]
    },
    {
      "cell_type": "code",
      "source": [
        "# Cálculo da precisão por classe\n",
        "precision_classes = []\n",
        "for i in range(3):\n",
        "    precision_classes.append(confusion_matrix[i, i] / np.sum(confusion_matrix[:, i]))\n",
        "\n",
        "# Impressão dos resultados\n",
        "print(\"Precisão por classe:\")\n",
        "print(f\"Empate : {precision_classes[0]:.4f}\")\n",
        "print(f\"Vitória: {precision_classes[1]:.4f}\")\n",
        "print(f\"Derrota: {precision_classes[2]:.4f}\")\n",
        "\n",
        "# f\"Valor: {valor:.4f}\"\n",
        "\n",
        "# Cálculo da precisão geral\n",
        "precision_geral = np.trace(confusion_matrix) / np.sum(confusion_matrix)\n",
        "\n",
        "# Impressão da precisão geral\n",
        "print(\"Precisão geral:\", precision_geral)\n",
        "\n",
        "# A precisão mede a proporção de previsões positivas feitas pelo modelo que\n",
        "# estão corretas. Em outras palavras, ela indica a confiabilidade das previsões\n",
        "# do modelo.\n",
        "\n",
        "# Uma alta precisão para uma classe indica que o modelo é confiável na\n",
        "# identificação de exemplos dessa classe.\n",
        "# Uma baixa precisão pode indicar que o modelo está confundindo a classe com\n",
        "# outras classes.\n",
        "\n",
        "# A precisão é sensível ao desequilíbrio de classes.\n",
        "# Se uma classe for muito mais frequente que as outras, a precisão geral pode\n",
        "# ser alta mesmo que o modelo tenha um desempenho ruim na identificação das\n",
        "# classes menos frequentes."
      ],
      "metadata": {
        "colab": {
          "base_uri": "https://localhost:8080/"
        },
        "outputId": "d6846b51-e7b1-4a7f-a0df-727100e9eff2",
        "id": "yu7eTlUmS-oX"
      },
      "execution_count": 42,
      "outputs": [
        {
          "output_type": "stream",
          "name": "stdout",
          "text": [
            "Precisão por classe:\n",
            "Empate : 0.5120\n",
            "Vitória: 0.4146\n",
            "Derrota: 0.5778\n",
            "Precisão geral: 0.49867608120035306\n"
          ]
        }
      ]
    },
    {
      "cell_type": "code",
      "source": [
        "# Cálculo do recall por classe\n",
        "recall_classes = []\n",
        "for i in range(3):\n",
        "    recall_classes.append(confusion_matrix[i, i] / np.sum(confusion_matrix[i, :]))\n",
        "\n",
        "# Impressão dos resultados\n",
        "print(\"Recall por classe:\")\n",
        "print(f\"Empate : {recall_classes[0]:.4f}\")\n",
        "print(f\"Vitória: {recall_classes[1]:.4f}\")\n",
        "print(f\"Derrota: {recall_classes[2]:.4f}\")\n",
        "\n",
        "#==============================================================================\n",
        "# Recall = Verdadeiros Positivos / (Verdadeiros Positivos + Falsos Negativos)\n",
        "#==============================================================================\n",
        "# O recall é uma métrica importante para avaliar a capacidade do modelo de\n",
        "# identificar todos os exemplos de uma classe, mesmo que isso signifique que ele\n",
        "# irá classificar incorretamente alguns exemplos de outras classes."
      ],
      "metadata": {
        "colab": {
          "base_uri": "https://localhost:8080/"
        },
        "outputId": "0def0ec4-dbc2-415f-ec7e-46b94b021716",
        "id": "4-mJF4qxS-oY"
      },
      "execution_count": 43,
      "outputs": [
        {
          "output_type": "stream",
          "name": "stdout",
          "text": [
            "Recall por classe:\n",
            "Empate : 0.5066\n",
            "Vitória: 0.4985\n",
            "Derrota: 0.4917\n"
          ]
        }
      ]
    },
    {
      "cell_type": "code",
      "source": [
        "# Cálculo da acurácia\n",
        "accuracy = np.trace(confusion_matrix) / np.sum(confusion_matrix)\n",
        "\n",
        "# Impressão do resultado\n",
        "print(\"Acurácia:\", accuracy)\n",
        "\n",
        "# É importante verificar se a matriz de confusão está correta antes de calcular\n",
        "# a acurácia.\n",
        "# A acurácia é uma métrica simples que indica a proporção de exemplos que foram\n",
        "# classificados corretamente pelo modelo. No entanto, ela pode ser enganosa em\n",
        "# casos de desbalanceamento de classes, quando uma classe é muito mais frequente\n",
        "# que as outras."
      ],
      "metadata": {
        "colab": {
          "base_uri": "https://localhost:8080/"
        },
        "outputId": "b4b65b52-70a1-446f-deb1-8bbe31af4def",
        "id": "XntkSI5iS-oY"
      },
      "execution_count": 44,
      "outputs": [
        {
          "output_type": "stream",
          "name": "stdout",
          "text": [
            "Acurácia: 0.49867608120035306\n"
          ]
        }
      ]
    },
    {
      "cell_type": "code",
      "source": [
        "# Cálculo do F1-score por classe\n",
        "f1_classes = []\n",
        "for i in range(3):\n",
        "    precision = confusion_matrix[i, i] / np.sum(confusion_matrix[:, i])\n",
        "    recall = confusion_matrix[i, i] / np.sum(confusion_matrix[i, :])\n",
        "    f1_classes.append(2 * (precision * recall) / (precision + recall))\n",
        "\n",
        "# Impressão dos resultados\n",
        "print(\"F1-score por classe:\")\n",
        "print(f\"Empate : {f1_classes[0]:.4f}\")\n",
        "print(f\"Vitória: {f1_classes[1]:.4f}\")\n",
        "print(f\"Derrota: {f1_classes[2]:.4f}\")\n",
        "\n",
        "# Cálculo do F1-score geral\n",
        "f1_geral = np.mean(f1_classes)\n",
        "\n",
        "# Impressão do resultado\n",
        "print(\"F1-score geral:\", f1_geral)\n",
        "\n",
        "# F1-score = 2 * (Precisão * Recall) / (Precisão + Recall)\n",
        "# O F1-score é uma métrica que combina precisão e recall em uma única medida,\n",
        "# sendo útil para avaliar o desempenho do modelo em problemas de classificação\n",
        "# com múltiplas classes."
      ],
      "metadata": {
        "colab": {
          "base_uri": "https://localhost:8080/"
        },
        "outputId": "ffc907ff-5797-42b9-f880-2c1e012402d2",
        "id": "0Ik5ITOtS-oY"
      },
      "execution_count": 46,
      "outputs": [
        {
          "output_type": "stream",
          "name": "stdout",
          "text": [
            "F1-score por classe:\n",
            "Empate : 0.5093\n",
            "Vitória: 0.4527\n",
            "Derrota: 0.5313\n",
            "F1-score geral: 0.4977495424494148\n"
          ]
        }
      ]
    },
    {
      "cell_type": "code",
      "source": [],
      "metadata": {
        "id": "bARBDl34TsMh"
      },
      "execution_count": null,
      "outputs": []
    },
    {
      "cell_type": "markdown",
      "source": [
        "# ETAPA 3"
      ],
      "metadata": {
        "id": "wRzjwVOtTtAn"
      }
    },
    {
      "cell_type": "code",
      "source": [
        "# biblioteca para o método GridSearchCV.\n",
        "from sklearn.model_selection import GridSearchCV\n",
        "\n",
        "# Criar o modelo XGBoost\n",
        "model = XGBClassifier()"
      ],
      "metadata": {
        "id": "KWFMYS_oyQ-T"
      },
      "execution_count": 47,
      "outputs": []
    },
    {
      "cell_type": "code",
      "source": [
        "# Definir os parâmetros que você deseja otimizar\n",
        "param_grid = {\n",
        "    'max_depth': [5, 7, 9, 11],\n",
        "    'learning_rate': [0.1, 0.01, 0.001],\n",
        "    'n_estimators': [100, 200, 300, 400],\n",
        "    'min_child_weight': [1, 3, 5]\n",
        "}\n",
        "\n",
        "# Criar o objeto GridSearchCV\n",
        "grid_search = GridSearchCV(estimator=model, param_grid=param_grid, scoring='accuracy', cv=3)"
      ],
      "metadata": {
        "id": "DQqKM9VIzrFA"
      },
      "execution_count": 48,
      "outputs": []
    },
    {
      "cell_type": "code",
      "source": [
        "# Executar a pesquisa grid nos dados de treinamento <<<<<<<\n",
        "XGB_model_bal_otm = grid_search.fit(X_train_bal, y_train_bal)\n",
        "\n",
        "# Obter os melhores parâmetros encontrados\n",
        "best_params = grid_search.best_params_\n",
        "\n",
        "# Imprimir os melhores parâmetros\n",
        "print(\"Melhores parâmetros encontrados:\")\n",
        "print(best_params)\n",
        "\n",
        "# #############################################################\n",
        "# Melhores parâmetros encontrados:\n",
        "\n",
        "#  {'learning_rate': 0.1,\n",
        "#   'max_depth': 7,\n",
        "#   'min_child_weight': 1,\n",
        "#   'n_estimators': 200\n",
        "#   }"
      ],
      "metadata": {
        "colab": {
          "base_uri": "https://localhost:8080/"
        },
        "id": "cgGdimfBz5VU",
        "outputId": "879ef02a-3f48-4648-ee5c-ec0079ace086"
      },
      "execution_count": 49,
      "outputs": [
        {
          "output_type": "stream",
          "name": "stdout",
          "text": [
            "Melhores parâmetros encontrados:\n",
            "{'learning_rate': 0.1, 'max_depth': 11, 'min_child_weight': 1, 'n_estimators': 300}\n"
          ]
        }
      ]
    },
    {
      "cell_type": "code",
      "source": [
        "# Fazer previsões no conjunto de teste com o melhor modelo\n",
        "y_pred_bal_otm = grid_search.best_estimator_.predict(X_test_bal)\n",
        "\n",
        "# Avaliar o desempenho do modelo otimizado\n",
        "accuracy = accuracy_score(y_test_bal, y_pred_bal_otm)\n",
        "print(f'Acurácia do modelo otimizado: {accuracy:.2f}')\n",
        "\n",
        "\n",
        "# Imprime Acurácia do modelo\n",
        "# print(\"Acurácia do treinamento: %f\" % XGB_model_bal.score(X_resampled, y_resampled))\n",
        "# print(\"Acurácia do teste: %f\" % XGB_model_bal.score(X_test_bal, y_test_bal))\n",
        "print(\"Acurácia do treinamento: %f\" % XGB_model_bal_otm.score(X_resampled, y_resampled))\n",
        "print(\"Acurácia do teste: %f\" % XGB_model_bal_otm.score(X_test_bal, y_test_bal))"
      ],
      "metadata": {
        "colab": {
          "base_uri": "https://localhost:8080/"
        },
        "id": "67Ic8Ofg0A-0",
        "outputId": "489401a1-9981-4263-9657-46f0aa98fa1b"
      },
      "execution_count": 50,
      "outputs": [
        {
          "output_type": "stream",
          "name": "stdout",
          "text": [
            "Acurácia do modelo otimizado: 0.53\n",
            "Acurácia do treinamento: 0.803657\n",
            "Acurácia do teste: 0.533981\n"
          ]
        }
      ]
    },
    {
      "cell_type": "code",
      "source": [
        "# Salva o modelo\n",
        "with open('XGB_model_bal_otm.pkl', 'wb') as f:\n",
        "    pickle.dump(XGB_model_bal_otm, f)"
      ],
      "metadata": {
        "id": "T37LNhkH2JGw"
      },
      "execution_count": 51,
      "outputs": []
    },
    {
      "cell_type": "code",
      "source": [
        "# Carregue o modelo\n",
        "with open('XGB_model_bal_otm.pkl', 'rb') as f:\n",
        "    XGB_model_bal_otm_loaded = pickle.load(f)"
      ],
      "metadata": {
        "id": "AoVAYui52JGw"
      },
      "execution_count": 52,
      "outputs": []
    },
    {
      "cell_type": "code",
      "source": [
        "#imprimir a Matriz de Confusão para XGBoost\n",
        "XGB_model_bal_otm_pred = XGB_model_bal_otm_loaded.predict(X_test_bal)\n",
        "\n",
        "XGB_model_bal_otm_cm = metrics.confusion_matrix(XGB_model_bal_otm_pred, y_test_bal)\n",
        "\n",
        "sns.heatmap(XGB_model_bal_otm_cm,\n",
        "            annot=True,\n",
        "            fmt='.0f',\n",
        "            xticklabels = [\"Empate\", \"Vitória\", \"Derrota\"] ,\n",
        "            yticklabels = [\"Empate\", \"Vitória\", \"Derrota\"]\n",
        "            )\n",
        "\n",
        "plt.ylabel('Predição Modelo')\n",
        "plt.xlabel('Classificação Real')\n",
        "plt.title('Modelo XGBoost')"
      ],
      "metadata": {
        "colab": {
          "base_uri": "https://localhost:8080/",
          "height": 490
        },
        "outputId": "77bdc929-f882-49ff-b626-51b79a1d4ea2",
        "id": "tVfvS0eS2JGx"
      },
      "execution_count": 53,
      "outputs": [
        {
          "output_type": "execute_result",
          "data": {
            "text/plain": [
              "Text(0.5, 1.0, 'Modelo XGBoost')"
            ]
          },
          "metadata": {},
          "execution_count": 53
        },
        {
          "output_type": "display_data",
          "data": {
            "text/plain": [
              "<Figure size 640x480 with 2 Axes>"
            ],
            "image/png": "[encoded data removed]"
          },
          "metadata": {}
        }
      ]
    },
    {
      "cell_type": "code",
      "source": [],
      "metadata": {
        "id": "N_0979z-Uqo1"
      },
      "execution_count": null,
      "outputs": []
    },
    {
      "cell_type": "code",
      "source": [
        "#type(mlp_cm)\n",
        "type(XGB_model_bal_otm_cm)"
      ],
      "metadata": {
        "colab": {
          "base_uri": "https://localhost:8080/"
        },
        "outputId": "99acd6dd-46c7-4f2f-b85c-bef186e401e9",
        "id": "FsHzk7cNU5no"
      },
      "execution_count": 54,
      "outputs": [
        {
          "output_type": "execute_result",
          "data": {
            "text/plain": [
              "numpy.ndarray"
            ]
          },
          "metadata": {},
          "execution_count": 54
        }
      ]
    },
    {
      "cell_type": "code",
      "source": [
        "#mlp_cm\n",
        "confusion_matrix = XGB_model_bal_otm_cm\n",
        "confusion_matrix"
      ],
      "metadata": {
        "colab": {
          "base_uri": "https://localhost:8080/"
        },
        "outputId": "444f2b1e-9edc-445b-b653-0926e3eb5db5",
        "id": "Xl6uuHXZU5nx"
      },
      "execution_count": 55,
      "outputs": [
        {
          "output_type": "execute_result",
          "data": {
            "text/plain": [
              "array([[218, 124,  62],\n",
              "       [ 84, 162,  73],\n",
              "       [ 73, 112, 225]])"
            ]
          },
          "metadata": {},
          "execution_count": 55
        }
      ]
    },
    {
      "cell_type": "code",
      "source": [
        "# Cálculo da precisão por classe\n",
        "precision_classes = []\n",
        "for i in range(3):\n",
        "    precision_classes.append(confusion_matrix[i, i] / np.sum(confusion_matrix[:, i]))\n",
        "\n",
        "# Impressão dos resultados\n",
        "print(\"Precisão por classe:\")\n",
        "print(f\"Empate : {precision_classes[0]:.4f}\")\n",
        "print(f\"Vitória: {precision_classes[1]:.4f}\")\n",
        "print(f\"Derrota: {precision_classes[2]:.4f}\")\n",
        "\n",
        "# f\"Valor: {valor:.4f}\"\n",
        "\n",
        "# Cálculo da precisão geral\n",
        "precision_geral = np.trace(confusion_matrix) / np.sum(confusion_matrix)\n",
        "\n",
        "# Impressão da precisão geral\n",
        "print(\"Precisão geral:\", precision_geral)\n",
        "\n",
        "# A precisão mede a proporção de previsões positivas feitas pelo modelo que\n",
        "# estão corretas. Em outras palavras, ela indica a confiabilidade das previsões\n",
        "# do modelo.\n",
        "\n",
        "# Uma alta precisão para uma classe indica que o modelo é confiável na\n",
        "# identificação de exemplos dessa classe.\n",
        "# Uma baixa precisão pode indicar que o modelo está confundindo a classe com\n",
        "# outras classes.\n",
        "\n",
        "# A precisão é sensível ao desequilíbrio de classes.\n",
        "# Se uma classe for muito mais frequente que as outras, a precisão geral pode\n",
        "# ser alta mesmo que o modelo tenha um desempenho ruim na identificação das\n",
        "# classes menos frequentes."
      ],
      "metadata": {
        "colab": {
          "base_uri": "https://localhost:8080/"
        },
        "outputId": "004cb7a4-847d-48dc-b057-94908802d38b",
        "id": "y5bugbrnU5ny"
      },
      "execution_count": 56,
      "outputs": [
        {
          "output_type": "stream",
          "name": "stdout",
          "text": [
            "Precisão por classe:\n",
            "Empate : 0.5813\n",
            "Vitória: 0.4070\n",
            "Derrota: 0.6250\n",
            "Precisão geral: 0.5339805825242718\n"
          ]
        }
      ]
    },
    {
      "cell_type": "code",
      "source": [
        "# Cálculo do recall por classe\n",
        "recall_classes = []\n",
        "for i in range(3):\n",
        "    recall_classes.append(confusion_matrix[i, i] / np.sum(confusion_matrix[i, :]))\n",
        "\n",
        "# Impressão dos resultados\n",
        "print(\"Recall por classe:\")\n",
        "print(f\"Empate : {recall_classes[0]:.4f}\")\n",
        "print(f\"Vitória: {recall_classes[1]:.4f}\")\n",
        "print(f\"Derrota: {recall_classes[2]:.4f}\")\n",
        "\n",
        "#==============================================================================\n",
        "# Recall = Verdadeiros Positivos / (Verdadeiros Positivos + Falsos Negativos)\n",
        "#==============================================================================\n",
        "# O recall é uma métrica importante para avaliar a capacidade do modelo de\n",
        "# identificar todos os exemplos de uma classe, mesmo que isso signifique que ele\n",
        "# irá classificar incorretamente alguns exemplos de outras classes."
      ],
      "metadata": {
        "colab": {
          "base_uri": "https://localhost:8080/"
        },
        "outputId": "52877882-d9e2-4d59-9dfb-cfbb86706bb5",
        "id": "QphQ6RFlU5ny"
      },
      "execution_count": 57,
      "outputs": [
        {
          "output_type": "stream",
          "name": "stdout",
          "text": [
            "Recall por classe:\n",
            "Empate : 0.5396\n",
            "Vitória: 0.5078\n",
            "Derrota: 0.5488\n"
          ]
        }
      ]
    },
    {
      "cell_type": "code",
      "source": [
        "# Cálculo da acurácia\n",
        "accuracy = np.trace(confusion_matrix) / np.sum(confusion_matrix)\n",
        "\n",
        "# Impressão do resultado\n",
        "print(\"Acurácia:\", accuracy)\n",
        "\n",
        "# É importante verificar se a matriz de confusão está correta antes de calcular\n",
        "# a acurácia.\n",
        "# A acurácia é uma métrica simples que indica a proporção de exemplos que foram\n",
        "# classificados corretamente pelo modelo. No entanto, ela pode ser enganosa em\n",
        "# casos de desbalanceamento de classes, quando uma classe é muito mais frequente\n",
        "# que as outras."
      ],
      "metadata": {
        "colab": {
          "base_uri": "https://localhost:8080/"
        },
        "outputId": "7c7f234e-2331-494f-e0a9-02e3e96374a6",
        "id": "4JUU-L-eU5ny"
      },
      "execution_count": 58,
      "outputs": [
        {
          "output_type": "stream",
          "name": "stdout",
          "text": [
            "Acurácia: 0.5339805825242718\n"
          ]
        }
      ]
    },
    {
      "cell_type": "code",
      "source": [
        "# Cálculo do F1-score por classe\n",
        "f1_classes = []\n",
        "for i in range(3):\n",
        "    precision = confusion_matrix[i, i] / np.sum(confusion_matrix[:, i])\n",
        "    recall = confusion_matrix[i, i] / np.sum(confusion_matrix[i, :])\n",
        "    f1_classes.append(2 * (precision * recall) / (precision + recall))\n",
        "\n",
        "# Impressão dos resultados\n",
        "print(\"F1-score por classe:\")\n",
        "print(f\"Empate : {f1_classes[0]:.4f}\")\n",
        "print(f\"Vitória: {f1_classes[1]:.4f}\")\n",
        "print(f\"Derrota: {f1_classes[2]:.4f}\")\n",
        "\n",
        "# Cálculo do F1-score geral\n",
        "f1_geral = np.mean(f1_classes)\n",
        "\n",
        "# Impressão do resultado\n",
        "print(\"F1-score geral:\", f1_geral)\n",
        "\n",
        "# F1-score = 2 * (Precisão * Recall) / (Precisão + Recall)\n",
        "# O F1-score é uma métrica que combina precisão e recall em uma única medida,\n",
        "# sendo útil para avaliar o desempenho do modelo em problemas de classificação\n",
        "# com múltiplas classes."
      ],
      "metadata": {
        "colab": {
          "base_uri": "https://localhost:8080/"
        },
        "outputId": "26f7dd7d-5a46-4521-ef9a-39481b723361",
        "id": "8EDeolWWU5ny"
      },
      "execution_count": 59,
      "outputs": [
        {
          "output_type": "stream",
          "name": "stdout",
          "text": [
            "F1-score por classe:\n",
            "Empate : 0.5597\n",
            "Vitória: 0.4519\n",
            "Derrota: 0.5844\n",
            "F1-score geral: 0.5319967807708231\n"
          ]
        }
      ]
    },
    {
      "cell_type": "code",
      "source": [
        "# Gradient Boosting (por exemplo, XGBoost, LightGBM, CatBoost)"
      ],
      "metadata": {
        "id": "7sga0YzV6o-9"
      },
      "execution_count": null,
      "outputs": []
    },
    {
      "cell_type": "code",
      "source": [
        "XGB_model_bal_otm.best_estimator_.feature_importances_"
      ],
      "metadata": {
        "colab": {
          "base_uri": "https://localhost:8080/"
        },
        "id": "Lg-vSbW7XY6A",
        "outputId": "351401ad-29b4-48dd-f0d8-5e3509d90947"
      },
      "execution_count": null,
      "outputs": [
        {
          "output_type": "execute_result",
          "data": {
            "text/plain": [
              "array([0.2492971 , 0.25280944, 0.24387386, 0.25401968], dtype=float32)"
            ]
          },
          "metadata": {},
          "execution_count": 102
        }
      ]
    }
  ]
}